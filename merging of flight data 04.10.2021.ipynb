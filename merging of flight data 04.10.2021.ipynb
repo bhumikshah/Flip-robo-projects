{
 "cells": [
  {
   "cell_type": "code",
   "execution_count": 1,
   "metadata": {},
   "outputs": [],
   "source": [
    "import pandas as pd"
   ]
  },
  {
   "cell_type": "code",
   "execution_count": 2,
   "metadata": {},
   "outputs": [],
   "source": [
    "df1=pd.read_csv('05.10.2021.csv')"
   ]
  },
  {
   "cell_type": "code",
   "execution_count": 3,
   "metadata": {},
   "outputs": [],
   "source": [
    "df2=pd.read_csv('06.10.2021.csv')"
   ]
  },
  {
   "cell_type": "code",
   "execution_count": 4,
   "metadata": {},
   "outputs": [],
   "source": [
    "df3=pd.read_csv('07.10.2021.csv')"
   ]
  },
  {
   "cell_type": "code",
   "execution_count": 5,
   "metadata": {},
   "outputs": [],
   "source": [
    "df4=pd.read_csv('08.10.2021.csv')"
   ]
  },
  {
   "cell_type": "code",
   "execution_count": 6,
   "metadata": {},
   "outputs": [],
   "source": [
    "df5=pd.read_csv('09.10.2021.csv')"
   ]
  },
  {
   "cell_type": "code",
   "execution_count": 7,
   "metadata": {},
   "outputs": [],
   "source": [
    "df6=pd.read_csv('10.10.2021.csv')"
   ]
  },
  {
   "cell_type": "code",
   "execution_count": 8,
   "metadata": {},
   "outputs": [],
   "source": [
    "df7=pd.read_csv('11.10.2021.csv')"
   ]
  },
  {
   "cell_type": "code",
   "execution_count": 9,
   "metadata": {},
   "outputs": [],
   "source": [
    "df8=pd.read_csv('12.10.2021.csv')"
   ]
  },
  {
   "cell_type": "code",
   "execution_count": 10,
   "metadata": {},
   "outputs": [],
   "source": [
    "df9=pd.read_csv('13.10.2021.csv')"
   ]
  },
  {
   "cell_type": "code",
   "execution_count": 13,
   "metadata": {},
   "outputs": [],
   "source": [
    "df10=pd.concat([df1,df2,df3,df4,df5,df6,df7,df8,df9])"
   ]
  },
  {
   "cell_type": "code",
   "execution_count": 14,
   "metadata": {},
   "outputs": [
    {
     "data": {
      "text/html": [
       "<div>\n",
       "<style scoped>\n",
       "    .dataframe tbody tr th:only-of-type {\n",
       "        vertical-align: middle;\n",
       "    }\n",
       "\n",
       "    .dataframe tbody tr th {\n",
       "        vertical-align: top;\n",
       "    }\n",
       "\n",
       "    .dataframe thead th {\n",
       "        text-align: right;\n",
       "    }\n",
       "</style>\n",
       "<table border=\"1\" class=\"dataframe\">\n",
       "  <thead>\n",
       "    <tr style=\"text-align: right;\">\n",
       "      <th></th>\n",
       "      <th>Unnamed: 0</th>\n",
       "      <th>journey_date</th>\n",
       "      <th>Airline_name</th>\n",
       "      <th>source</th>\n",
       "      <th>Destination</th>\n",
       "      <th>departure_time</th>\n",
       "      <th>arrival_time</th>\n",
       "      <th>Duration</th>\n",
       "      <th>total_stops</th>\n",
       "      <th>Price</th>\n",
       "    </tr>\n",
       "  </thead>\n",
       "  <tbody>\n",
       "    <tr>\n",
       "      <th>0</th>\n",
       "      <td>0</td>\n",
       "      <td>05/10/2021</td>\n",
       "      <td>Indigo</td>\n",
       "      <td>Delhi</td>\n",
       "      <td>Mumbai</td>\n",
       "      <td>06:05</td>\n",
       "      <td>12:35</td>\n",
       "      <td>06h 30m</td>\n",
       "      <td>1-stop</td>\n",
       "      <td>5,496</td>\n",
       "    </tr>\n",
       "    <tr>\n",
       "      <th>1</th>\n",
       "      <td>1</td>\n",
       "      <td>05/10/2021</td>\n",
       "      <td>GO FIRST</td>\n",
       "      <td>Delhi</td>\n",
       "      <td>Mumbai</td>\n",
       "      <td>09:40</td>\n",
       "      <td>11:45</td>\n",
       "      <td>02h 05m</td>\n",
       "      <td>non-stop</td>\n",
       "      <td>5,954</td>\n",
       "    </tr>\n",
       "    <tr>\n",
       "      <th>2</th>\n",
       "      <td>2</td>\n",
       "      <td>05/10/2021</td>\n",
       "      <td>GO FIRST</td>\n",
       "      <td>Delhi</td>\n",
       "      <td>Mumbai</td>\n",
       "      <td>18:40</td>\n",
       "      <td>20:45</td>\n",
       "      <td>02h 05m</td>\n",
       "      <td>non-stop</td>\n",
       "      <td>5,954</td>\n",
       "    </tr>\n",
       "    <tr>\n",
       "      <th>3</th>\n",
       "      <td>3</td>\n",
       "      <td>05/10/2021</td>\n",
       "      <td>GO FIRST</td>\n",
       "      <td>Delhi</td>\n",
       "      <td>Mumbai</td>\n",
       "      <td>22:45</td>\n",
       "      <td>00:50</td>\n",
       "      <td>02h 05m</td>\n",
       "      <td>non-stop</td>\n",
       "      <td>5,954</td>\n",
       "    </tr>\n",
       "    <tr>\n",
       "      <th>4</th>\n",
       "      <td>4</td>\n",
       "      <td>05/10/2021</td>\n",
       "      <td>SpiceJet</td>\n",
       "      <td>Delhi</td>\n",
       "      <td>Mumbai</td>\n",
       "      <td>18:40</td>\n",
       "      <td>20:40</td>\n",
       "      <td>02h 00m</td>\n",
       "      <td>non-stop</td>\n",
       "      <td>5,955</td>\n",
       "    </tr>\n",
       "    <tr>\n",
       "      <th>...</th>\n",
       "      <td>...</td>\n",
       "      <td>...</td>\n",
       "      <td>...</td>\n",
       "      <td>...</td>\n",
       "      <td>...</td>\n",
       "      <td>...</td>\n",
       "      <td>...</td>\n",
       "      <td>...</td>\n",
       "      <td>...</td>\n",
       "      <td>...</td>\n",
       "    </tr>\n",
       "    <tr>\n",
       "      <th>213</th>\n",
       "      <td>213</td>\n",
       "      <td>13/10/2021</td>\n",
       "      <td>Air India</td>\n",
       "      <td>Delhi</td>\n",
       "      <td>Mumbai</td>\n",
       "      <td>12:10</td>\n",
       "      <td>08:45</td>\n",
       "      <td>20h 35m</td>\n",
       "      <td>1-stop</td>\n",
       "      <td>19,500</td>\n",
       "    </tr>\n",
       "    <tr>\n",
       "      <th>214</th>\n",
       "      <td>214</td>\n",
       "      <td>13/10/2021</td>\n",
       "      <td>SpiceJet</td>\n",
       "      <td>Delhi</td>\n",
       "      <td>Mumbai</td>\n",
       "      <td>12:00</td>\n",
       "      <td>10:30</td>\n",
       "      <td>22h 30m</td>\n",
       "      <td>1-stop</td>\n",
       "      <td>23,281</td>\n",
       "    </tr>\n",
       "    <tr>\n",
       "      <th>215</th>\n",
       "      <td>215</td>\n",
       "      <td>13/10/2021</td>\n",
       "      <td>SpiceJet</td>\n",
       "      <td>Delhi</td>\n",
       "      <td>Mumbai</td>\n",
       "      <td>12:00</td>\n",
       "      <td>13:10</td>\n",
       "      <td>25h 10m</td>\n",
       "      <td>1-stop</td>\n",
       "      <td>23,281</td>\n",
       "    </tr>\n",
       "    <tr>\n",
       "      <th>216</th>\n",
       "      <td>216</td>\n",
       "      <td>13/10/2021</td>\n",
       "      <td>Vistara</td>\n",
       "      <td>Delhi</td>\n",
       "      <td>Mumbai</td>\n",
       "      <td>08:30</td>\n",
       "      <td>13:35</td>\n",
       "      <td>05h 05m</td>\n",
       "      <td>1-stop</td>\n",
       "      <td>24,225</td>\n",
       "    </tr>\n",
       "    <tr>\n",
       "      <th>217</th>\n",
       "      <td>217</td>\n",
       "      <td>13/10/2021</td>\n",
       "      <td>Vistara</td>\n",
       "      <td>Delhi</td>\n",
       "      <td>Mumbai</td>\n",
       "      <td>08:30</td>\n",
       "      <td>14:45</td>\n",
       "      <td>06h 15m</td>\n",
       "      <td>1-stop</td>\n",
       "      <td>24,225</td>\n",
       "    </tr>\n",
       "  </tbody>\n",
       "</table>\n",
       "<p>1796 rows × 10 columns</p>\n",
       "</div>"
      ],
      "text/plain": [
       "     Unnamed: 0 journey_date Airline_name source Destination departure_time  \\\n",
       "0             0   05/10/2021       Indigo  Delhi      Mumbai          06:05   \n",
       "1             1   05/10/2021     GO FIRST  Delhi      Mumbai          09:40   \n",
       "2             2   05/10/2021     GO FIRST  Delhi      Mumbai          18:40   \n",
       "3             3   05/10/2021     GO FIRST  Delhi      Mumbai          22:45   \n",
       "4             4   05/10/2021     SpiceJet  Delhi      Mumbai          18:40   \n",
       "..          ...          ...          ...    ...         ...            ...   \n",
       "213         213   13/10/2021    Air India  Delhi      Mumbai          12:10   \n",
       "214         214   13/10/2021     SpiceJet  Delhi      Mumbai          12:00   \n",
       "215         215   13/10/2021     SpiceJet  Delhi      Mumbai          12:00   \n",
       "216         216   13/10/2021      Vistara  Delhi      Mumbai          08:30   \n",
       "217         217   13/10/2021      Vistara  Delhi      Mumbai          08:30   \n",
       "\n",
       "    arrival_time Duration total_stops   Price  \n",
       "0          12:35  06h 30m      1-stop   5,496  \n",
       "1          11:45  02h 05m    non-stop   5,954  \n",
       "2          20:45  02h 05m    non-stop   5,954  \n",
       "3          00:50  02h 05m    non-stop   5,954  \n",
       "4          20:40  02h 00m    non-stop   5,955  \n",
       "..           ...      ...         ...     ...  \n",
       "213        08:45  20h 35m      1-stop  19,500  \n",
       "214        10:30  22h 30m      1-stop  23,281  \n",
       "215        13:10  25h 10m      1-stop  23,281  \n",
       "216        13:35  05h 05m      1-stop  24,225  \n",
       "217        14:45  06h 15m      1-stop  24,225  \n",
       "\n",
       "[1796 rows x 10 columns]"
      ]
     },
     "execution_count": 14,
     "metadata": {},
     "output_type": "execute_result"
    }
   ],
   "source": [
    "df10"
   ]
  },
  {
   "cell_type": "code",
   "execution_count": 15,
   "metadata": {},
   "outputs": [],
   "source": [
    "df10.to_csv('final flight data.csv')"
   ]
  },
  {
   "cell_type": "code",
   "execution_count": null,
   "metadata": {},
   "outputs": [],
   "source": []
  }
 ],
 "metadata": {
  "kernelspec": {
   "display_name": "Python 3",
   "language": "python",
   "name": "python3"
  },
  "language_info": {
   "codemirror_mode": {
    "name": "ipython",
    "version": 3
   },
   "file_extension": ".py",
   "mimetype": "text/x-python",
   "name": "python",
   "nbconvert_exporter": "python",
   "pygments_lexer": "ipython3",
   "version": "3.8.5"
  }
 },
 "nbformat": 4,
 "nbformat_minor": 4
}
