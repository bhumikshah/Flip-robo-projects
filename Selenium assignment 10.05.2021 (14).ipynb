{
 "cells": [
  {
   "cell_type": "code",
   "execution_count": 4,
   "metadata": {},
   "outputs": [],
   "source": [
    "import selenium\n",
    "import pandas as pd\n",
    "from selenium import webdriver"
   ]
  },
  {
   "cell_type": "code",
   "execution_count": 11,
   "metadata": {},
   "outputs": [],
   "source": [
    "driver=webdriver.Chrome(r\"C:\\Users\\Bhumik Shah\\Downloads\\chromedriver_win32\\chromedriver.exe\")"
   ]
  },
  {
   "cell_type": "code",
   "execution_count": 12,
   "metadata": {},
   "outputs": [],
   "source": [
    "url='https://www.naukri.com/'"
   ]
  },
  {
   "cell_type": "code",
   "execution_count": 13,
   "metadata": {},
   "outputs": [],
   "source": [
    "driver.get(url)"
   ]
  },
  {
   "cell_type": "code",
   "execution_count": 14,
   "metadata": {},
   "outputs": [],
   "source": [
    "search_title=driver.find_element_by_id(\"qsb-keyword-sugg\")"
   ]
  },
  {
   "cell_type": "code",
   "execution_count": 15,
   "metadata": {},
   "outputs": [],
   "source": [
    "search_title.send_keys('Data Analyst')"
   ]
  },
  {
   "cell_type": "code",
   "execution_count": 16,
   "metadata": {},
   "outputs": [],
   "source": [
    "search_location=driver.find_element_by_id('qsb-location-sugg')"
   ]
  },
  {
   "cell_type": "code",
   "execution_count": 17,
   "metadata": {},
   "outputs": [],
   "source": [
    "search_location.send_keys('Bangalore')"
   ]
  },
  {
   "cell_type": "code",
   "execution_count": 18,
   "metadata": {},
   "outputs": [],
   "source": [
    "search_click=driver.find_element_by_xpath(\"//button[@class='btn']\")"
   ]
  },
  {
   "cell_type": "code",
   "execution_count": 19,
   "metadata": {},
   "outputs": [],
   "source": [
    "search_click.click()"
   ]
  },
  {
   "cell_type": "code",
   "execution_count": 20,
   "metadata": {},
   "outputs": [],
   "source": [
    "job_title1=[]\n",
    "job_location=[]\n",
    "company_name=[]\n",
    "experience=[]\n"
   ]
  },
  {
   "cell_type": "code",
   "execution_count": 21,
   "metadata": {},
   "outputs": [
    {
     "data": {
      "text/plain": [
       "[<selenium.webdriver.remote.webelement.WebElement (session=\"391bcc161467a00f5e5bf41e0ef1f2da\", element=\"908306e2-fca1-45c0-a807-2e36bd3157ec\")>,\n",
       " <selenium.webdriver.remote.webelement.WebElement (session=\"391bcc161467a00f5e5bf41e0ef1f2da\", element=\"340ddbc6-8837-4596-a8ca-a6cf2e36434d\")>,\n",
       " <selenium.webdriver.remote.webelement.WebElement (session=\"391bcc161467a00f5e5bf41e0ef1f2da\", element=\"3f22bf4f-2c44-4d81-bb8a-f6908ae5f45f\")>,\n",
       " <selenium.webdriver.remote.webelement.WebElement (session=\"391bcc161467a00f5e5bf41e0ef1f2da\", element=\"80ebe211-3124-4f5a-beb0-c58f16ef6002\")>,\n",
       " <selenium.webdriver.remote.webelement.WebElement (session=\"391bcc161467a00f5e5bf41e0ef1f2da\", element=\"e6067c92-e7f1-47f1-9c90-f53e03c6318c\")>,\n",
       " <selenium.webdriver.remote.webelement.WebElement (session=\"391bcc161467a00f5e5bf41e0ef1f2da\", element=\"50997316-1c4b-4efd-af72-faebcfb95026\")>,\n",
       " <selenium.webdriver.remote.webelement.WebElement (session=\"391bcc161467a00f5e5bf41e0ef1f2da\", element=\"350a9571-b407-437f-9c21-acfcd5b19657\")>,\n",
       " <selenium.webdriver.remote.webelement.WebElement (session=\"391bcc161467a00f5e5bf41e0ef1f2da\", element=\"896a7dd8-43c8-4934-ba2f-9a852436dd1c\")>,\n",
       " <selenium.webdriver.remote.webelement.WebElement (session=\"391bcc161467a00f5e5bf41e0ef1f2da\", element=\"a0d4d39b-2451-4064-9edc-f20b58ea64e7\")>,\n",
       " <selenium.webdriver.remote.webelement.WebElement (session=\"391bcc161467a00f5e5bf41e0ef1f2da\", element=\"0cbc2d94-6b54-484f-8b29-04d5a6b355c5\")>,\n",
       " <selenium.webdriver.remote.webelement.WebElement (session=\"391bcc161467a00f5e5bf41e0ef1f2da\", element=\"67b718cc-9f05-4c3c-b2fa-085d6d97606c\")>,\n",
       " <selenium.webdriver.remote.webelement.WebElement (session=\"391bcc161467a00f5e5bf41e0ef1f2da\", element=\"caf900b4-5683-4a0e-a071-5c8a58169b78\")>,\n",
       " <selenium.webdriver.remote.webelement.WebElement (session=\"391bcc161467a00f5e5bf41e0ef1f2da\", element=\"6b766ed6-bd97-4135-8d2a-cb14f9cb8585\")>,\n",
       " <selenium.webdriver.remote.webelement.WebElement (session=\"391bcc161467a00f5e5bf41e0ef1f2da\", element=\"e7cbf6eb-8594-4a39-a424-e3edf21447a2\")>,\n",
       " <selenium.webdriver.remote.webelement.WebElement (session=\"391bcc161467a00f5e5bf41e0ef1f2da\", element=\"fa50c604-7df6-4e73-95b8-6c17633ba538\")>,\n",
       " <selenium.webdriver.remote.webelement.WebElement (session=\"391bcc161467a00f5e5bf41e0ef1f2da\", element=\"222fda60-f09a-4967-868e-5aabda13dde9\")>,\n",
       " <selenium.webdriver.remote.webelement.WebElement (session=\"391bcc161467a00f5e5bf41e0ef1f2da\", element=\"3cae08ce-631d-4257-9bc3-50bb7c2f0c33\")>,\n",
       " <selenium.webdriver.remote.webelement.WebElement (session=\"391bcc161467a00f5e5bf41e0ef1f2da\", element=\"a8df3814-541f-4cf1-b831-9ec5a7ce4e80\")>,\n",
       " <selenium.webdriver.remote.webelement.WebElement (session=\"391bcc161467a00f5e5bf41e0ef1f2da\", element=\"6ebb1fae-8b7a-4a16-90aa-103a9948abad\")>,\n",
       " <selenium.webdriver.remote.webelement.WebElement (session=\"391bcc161467a00f5e5bf41e0ef1f2da\", element=\"d0d8ca78-e8f0-4571-811e-57c3d34f56c0\")>]"
      ]
     },
     "execution_count": 21,
     "metadata": {},
     "output_type": "execute_result"
    }
   ],
   "source": [
    "title=driver.find_elements_by_xpath(\"//div[@class='info fleft']/a\")\n",
    "title"
   ]
  },
  {
   "cell_type": "code",
   "execution_count": 22,
   "metadata": {},
   "outputs": [
    {
     "data": {
      "text/plain": [
       "['Data Scientist / Data Analyst -Business Analyst',\n",
       " 'Hiring Data Analysts For E commerce Platform || WFH',\n",
       " 'Assistant Vice President - MIS & Reporting ( Business Data Analyst)',\n",
       " 'Data Analyst',\n",
       " 'Hiring For Data Analyst/ MIS Reporting Analyst - Bangalore',\n",
       " 'DA - Urgent Opening For Data Analyst BFSI Domain - Pan India',\n",
       " 'Data Analyst - Informatica MDM',\n",
       " 'Data Analyst',\n",
       " 'Data Analyst',\n",
       " 'Data Analyst',\n",
       " 'Data Analyst',\n",
       " 'Data Analyst',\n",
       " 'Data Analyst',\n",
       " 'LTI Hiring Business Data Analyst - Risk Reporting',\n",
       " 'Senior/Regular Business Analyst / Data Analyst',\n",
       " 'Cybersecurity Data Analyst',\n",
       " 'Data Analyst',\n",
       " 'Business Data Analyst - MIS & Reporting',\n",
       " 'Data Analyst / Business Analyst -',\n",
       " 'Business Data Analyst']"
      ]
     },
     "execution_count": 22,
     "metadata": {},
     "output_type": "execute_result"
    }
   ],
   "source": [
    "\n",
    "for i in title:\n",
    "    job_title1.append(i.text)\n",
    "job_title1"
   ]
  },
  {
   "cell_type": "code",
   "execution_count": 23,
   "metadata": {},
   "outputs": [],
   "source": [
    "location=driver.find_elements_by_xpath(\"//li[@class='fleft grey-text br2 placeHolderLi location']/span\")"
   ]
  },
  {
   "cell_type": "code",
   "execution_count": 24,
   "metadata": {},
   "outputs": [
    {
     "data": {
      "text/plain": [
       "[<selenium.webdriver.remote.webelement.WebElement (session=\"391bcc161467a00f5e5bf41e0ef1f2da\", element=\"c6b969fd-784f-49d9-b503-7434aa513f64\")>,\n",
       " <selenium.webdriver.remote.webelement.WebElement (session=\"391bcc161467a00f5e5bf41e0ef1f2da\", element=\"e8341440-3791-4d73-bfe6-74a8eee0634a\")>,\n",
       " <selenium.webdriver.remote.webelement.WebElement (session=\"391bcc161467a00f5e5bf41e0ef1f2da\", element=\"bca84f4d-f27c-43f4-8f9d-fb8b3343a3f5\")>,\n",
       " <selenium.webdriver.remote.webelement.WebElement (session=\"391bcc161467a00f5e5bf41e0ef1f2da\", element=\"5222ccf0-1e0c-46ce-a745-67c7a32328bc\")>,\n",
       " <selenium.webdriver.remote.webelement.WebElement (session=\"391bcc161467a00f5e5bf41e0ef1f2da\", element=\"fc386f46-3088-4431-968f-c597e6343fb2\")>,\n",
       " <selenium.webdriver.remote.webelement.WebElement (session=\"391bcc161467a00f5e5bf41e0ef1f2da\", element=\"4d1a82f8-7333-48a3-b613-4ff94654269d\")>,\n",
       " <selenium.webdriver.remote.webelement.WebElement (session=\"391bcc161467a00f5e5bf41e0ef1f2da\", element=\"a7a28cfd-38f4-4cdc-ba88-a386bb75cbdb\")>,\n",
       " <selenium.webdriver.remote.webelement.WebElement (session=\"391bcc161467a00f5e5bf41e0ef1f2da\", element=\"87500b95-b1b4-4720-9ff4-c752bd72d4e1\")>,\n",
       " <selenium.webdriver.remote.webelement.WebElement (session=\"391bcc161467a00f5e5bf41e0ef1f2da\", element=\"b89a6373-eaa3-40be-b859-78c4b8e1b05a\")>,\n",
       " <selenium.webdriver.remote.webelement.WebElement (session=\"391bcc161467a00f5e5bf41e0ef1f2da\", element=\"54823848-2a5c-4b72-abf1-c3bd17a7e815\")>,\n",
       " <selenium.webdriver.remote.webelement.WebElement (session=\"391bcc161467a00f5e5bf41e0ef1f2da\", element=\"6cb58536-8390-4d5d-a740-1850ab9c7c16\")>,\n",
       " <selenium.webdriver.remote.webelement.WebElement (session=\"391bcc161467a00f5e5bf41e0ef1f2da\", element=\"3736c75e-61dd-405f-9d45-6c8d4094f610\")>,\n",
       " <selenium.webdriver.remote.webelement.WebElement (session=\"391bcc161467a00f5e5bf41e0ef1f2da\", element=\"f7946404-9b66-4507-b91e-5a430eec8eaf\")>,\n",
       " <selenium.webdriver.remote.webelement.WebElement (session=\"391bcc161467a00f5e5bf41e0ef1f2da\", element=\"78671c71-8b80-45c3-9f6c-8ea4699c4747\")>,\n",
       " <selenium.webdriver.remote.webelement.WebElement (session=\"391bcc161467a00f5e5bf41e0ef1f2da\", element=\"6eaba410-e7e9-47c1-b41b-c6f5cd57e2c3\")>,\n",
       " <selenium.webdriver.remote.webelement.WebElement (session=\"391bcc161467a00f5e5bf41e0ef1f2da\", element=\"44d61aaf-f5e8-434e-bafa-51c5e3d4b179\")>,\n",
       " <selenium.webdriver.remote.webelement.WebElement (session=\"391bcc161467a00f5e5bf41e0ef1f2da\", element=\"eaba1258-60ab-41ef-ba10-70f72df8c781\")>,\n",
       " <selenium.webdriver.remote.webelement.WebElement (session=\"391bcc161467a00f5e5bf41e0ef1f2da\", element=\"090585d0-149f-4a9e-b7b2-b6c8cec6263b\")>,\n",
       " <selenium.webdriver.remote.webelement.WebElement (session=\"391bcc161467a00f5e5bf41e0ef1f2da\", element=\"2f6b385e-7938-4936-8d3c-b6569e1062e8\")>,\n",
       " <selenium.webdriver.remote.webelement.WebElement (session=\"391bcc161467a00f5e5bf41e0ef1f2da\", element=\"e206636d-7af0-40c9-ae72-40462575612d\")>]"
      ]
     },
     "execution_count": 24,
     "metadata": {},
     "output_type": "execute_result"
    }
   ],
   "source": [
    "location"
   ]
  },
  {
   "cell_type": "code",
   "execution_count": 25,
   "metadata": {},
   "outputs": [
    {
     "data": {
      "text/plain": [
       "['Mumbai, Hyderabad/Secunderabad, Pune, Gurgaon/Gurugram, Chennai, Bangalore/Bengaluru',\n",
       " 'Bangalore/Bengaluru',\n",
       " 'Mumbai, Bangalore/Bengaluru',\n",
       " 'Bangalore/Bengaluru',\n",
       " 'Bangalore/Bengaluru',\n",
       " 'Kolkata, Hyderabad/Secunderabad, Pune, Ahmedabad, Chennai, Bangalore/Bengaluru, Delhi / NCR, Mumbai (All Areas)',\n",
       " 'Bangalore/Bengaluru',\n",
       " 'Bangalore/Bengaluru',\n",
       " 'Bangalore/Bengaluru',\n",
       " 'Bangalore/Bengaluru',\n",
       " 'Bangalore/Bengaluru',\n",
       " 'Bangalore/Bengaluru',\n",
       " 'Kolkata, Pune, Chennai, Bangalore/Bengaluru, Delhi / NCR, Mumbai (All Areas)',\n",
       " 'Pune, Chennai, Bangalore/Bengaluru',\n",
       " 'Bangalore/Bengaluru',\n",
       " 'Bangalore/Bengaluru',\n",
       " 'Bangalore/Bengaluru',\n",
       " 'Mumbai, Bangalore/Bengaluru',\n",
       " 'Chennai, Bangalore/Bengaluru',\n",
       " 'Bangalore/Bengaluru']"
      ]
     },
     "execution_count": 25,
     "metadata": {},
     "output_type": "execute_result"
    }
   ],
   "source": [
    "job_location1=[]\n",
    "for j in location:\n",
    "    job_location1.append(j.text)\n",
    "job_location1\n",
    "    "
   ]
  },
  {
   "cell_type": "code",
   "execution_count": 26,
   "metadata": {},
   "outputs": [],
   "source": [
    "name=driver.find_elements_by_xpath(\"//div[@class='mt-7 companyInfo subheading lh16']//a['title'][1]\")"
   ]
  },
  {
   "cell_type": "code",
   "execution_count": 27,
   "metadata": {},
   "outputs": [
    {
     "data": {
      "text/plain": [
       "[<selenium.webdriver.remote.webelement.WebElement (session=\"391bcc161467a00f5e5bf41e0ef1f2da\", element=\"45878ab3-75a1-4b17-876e-5a33a0a9a07a\")>,\n",
       " <selenium.webdriver.remote.webelement.WebElement (session=\"391bcc161467a00f5e5bf41e0ef1f2da\", element=\"d55181b4-b646-497d-ab59-3a9240f82a79\")>,\n",
       " <selenium.webdriver.remote.webelement.WebElement (session=\"391bcc161467a00f5e5bf41e0ef1f2da\", element=\"568e3cf6-9b87-43ed-9e0c-1196f7445343\")>,\n",
       " <selenium.webdriver.remote.webelement.WebElement (session=\"391bcc161467a00f5e5bf41e0ef1f2da\", element=\"4ed225ab-df67-4132-9631-bbbdc4c8afb5\")>,\n",
       " <selenium.webdriver.remote.webelement.WebElement (session=\"391bcc161467a00f5e5bf41e0ef1f2da\", element=\"ee87603f-112e-4baf-97e6-b85e6ff15e44\")>,\n",
       " <selenium.webdriver.remote.webelement.WebElement (session=\"391bcc161467a00f5e5bf41e0ef1f2da\", element=\"90f2a87a-1e24-4d51-9060-979571781403\")>,\n",
       " <selenium.webdriver.remote.webelement.WebElement (session=\"391bcc161467a00f5e5bf41e0ef1f2da\", element=\"29c91384-0530-467d-9dc1-7741fa1dd341\")>,\n",
       " <selenium.webdriver.remote.webelement.WebElement (session=\"391bcc161467a00f5e5bf41e0ef1f2da\", element=\"c465f0cc-74ca-452f-8715-c84fb22bfcca\")>,\n",
       " <selenium.webdriver.remote.webelement.WebElement (session=\"391bcc161467a00f5e5bf41e0ef1f2da\", element=\"ff662ff0-e459-4fac-a9d3-f0eeb45f139e\")>,\n",
       " <selenium.webdriver.remote.webelement.WebElement (session=\"391bcc161467a00f5e5bf41e0ef1f2da\", element=\"29fa910d-b24f-4d8c-91aa-46f3f84a68ae\")>,\n",
       " <selenium.webdriver.remote.webelement.WebElement (session=\"391bcc161467a00f5e5bf41e0ef1f2da\", element=\"a571fa25-415a-4140-af23-73c2b107400e\")>,\n",
       " <selenium.webdriver.remote.webelement.WebElement (session=\"391bcc161467a00f5e5bf41e0ef1f2da\", element=\"a503fbda-a56d-4d5c-99b5-8a34df2df1b0\")>,\n",
       " <selenium.webdriver.remote.webelement.WebElement (session=\"391bcc161467a00f5e5bf41e0ef1f2da\", element=\"4e3f606b-096e-4c48-bbb1-ab0e04ab5b39\")>,\n",
       " <selenium.webdriver.remote.webelement.WebElement (session=\"391bcc161467a00f5e5bf41e0ef1f2da\", element=\"7b2bdd9c-c4b0-45a5-b4bc-07b645bea790\")>,\n",
       " <selenium.webdriver.remote.webelement.WebElement (session=\"391bcc161467a00f5e5bf41e0ef1f2da\", element=\"933e435a-0b03-4a36-aafe-1a5cd90549a7\")>,\n",
       " <selenium.webdriver.remote.webelement.WebElement (session=\"391bcc161467a00f5e5bf41e0ef1f2da\", element=\"844d360c-7b9f-49b4-a407-65d163c44745\")>,\n",
       " <selenium.webdriver.remote.webelement.WebElement (session=\"391bcc161467a00f5e5bf41e0ef1f2da\", element=\"fbb506da-662a-40b3-9398-07ba02bd8568\")>,\n",
       " <selenium.webdriver.remote.webelement.WebElement (session=\"391bcc161467a00f5e5bf41e0ef1f2da\", element=\"6b5e92bf-f9aa-47b7-95f8-e54975e4046a\")>,\n",
       " <selenium.webdriver.remote.webelement.WebElement (session=\"391bcc161467a00f5e5bf41e0ef1f2da\", element=\"1868cc04-ae87-4518-a48d-23c14ace3e6d\")>,\n",
       " <selenium.webdriver.remote.webelement.WebElement (session=\"391bcc161467a00f5e5bf41e0ef1f2da\", element=\"452612cf-00c2-4c77-98e0-37e6a6fed4a9\")>]"
      ]
     },
     "execution_count": 27,
     "metadata": {},
     "output_type": "execute_result"
    }
   ],
   "source": [
    "name"
   ]
  },
  {
   "cell_type": "code",
   "execution_count": 35,
   "metadata": {},
   "outputs": [
    {
     "data": {
      "text/plain": [
       "['Inflexion Analytix Private Limited',\n",
       " 'Allegis Services India Pvt. Ltd.',\n",
       " 'INTERTRUSTVITEOS CORPORATE AND FUND SERVICES PVT. LTD.',\n",
       " 'Applied Materials',\n",
       " 'PHARMACEUTICAL RESEARCH ASSOCIATES INDIA Pvt Ltd',\n",
       " 'Tata Consultancy Services Ltd.',\n",
       " 'Shell India Markets Private Limited',\n",
       " 'Myntra Designs Pvt. Ltd.',\n",
       " 'Myntra Designs Pvt. Ltd.',\n",
       " 'Myntra Designs Pvt. Ltd.',\n",
       " 'Myntra Designs Pvt. Ltd.',\n",
       " 'Myntra Designs Pvt. Ltd.',\n",
       " 'SA Tech Software (I) Pvt. Ltd.',\n",
       " 'Larsen & Toubro Infotech Limited',\n",
       " 'Luxoft',\n",
       " 'Huawei Technologies India Pvt Ltd',\n",
       " 'IBM India Pvt. Limited',\n",
       " 'INTERTRUST GROUP',\n",
       " 'LatentView Analytics Private Limited',\n",
       " 'ALSTOM India Limited']"
      ]
     },
     "execution_count": 35,
     "metadata": {},
     "output_type": "execute_result"
    }
   ],
   "source": [
    "companies_name=[]\n",
    "for k in name:\n",
    "    companies_name.append(k.text)\n",
    "companies_name\n"
   ]
  },
  {
   "cell_type": "code",
   "execution_count": 29,
   "metadata": {},
   "outputs": [],
   "source": [
    "exp=driver.find_elements_by_xpath(\"//li[@class='fleft grey-text br2 placeHolderLi experience']/span\")"
   ]
  },
  {
   "cell_type": "code",
   "execution_count": 30,
   "metadata": {},
   "outputs": [
    {
     "data": {
      "text/plain": [
       "[<selenium.webdriver.remote.webelement.WebElement (session=\"391bcc161467a00f5e5bf41e0ef1f2da\", element=\"1d9d2a06-19bc-4219-9db5-c5793cc78d19\")>,\n",
       " <selenium.webdriver.remote.webelement.WebElement (session=\"391bcc161467a00f5e5bf41e0ef1f2da\", element=\"287ba081-cfbc-470d-97de-ad594ffdc995\")>,\n",
       " <selenium.webdriver.remote.webelement.WebElement (session=\"391bcc161467a00f5e5bf41e0ef1f2da\", element=\"6722492a-2e84-40dc-ae4b-3054704ba42b\")>,\n",
       " <selenium.webdriver.remote.webelement.WebElement (session=\"391bcc161467a00f5e5bf41e0ef1f2da\", element=\"200c2188-29cf-41e8-ac5e-4b40aa88bf0a\")>,\n",
       " <selenium.webdriver.remote.webelement.WebElement (session=\"391bcc161467a00f5e5bf41e0ef1f2da\", element=\"8b6c498d-7fc3-4041-b5c5-ef942793aef6\")>,\n",
       " <selenium.webdriver.remote.webelement.WebElement (session=\"391bcc161467a00f5e5bf41e0ef1f2da\", element=\"2b04116e-b6c1-4bf9-9217-66f5881c25b7\")>,\n",
       " <selenium.webdriver.remote.webelement.WebElement (session=\"391bcc161467a00f5e5bf41e0ef1f2da\", element=\"5ea714d1-0ef3-4a8c-ad48-7f7b9ab25ad6\")>,\n",
       " <selenium.webdriver.remote.webelement.WebElement (session=\"391bcc161467a00f5e5bf41e0ef1f2da\", element=\"3ff2cc52-4dee-4cd9-a875-25c656ef6910\")>,\n",
       " <selenium.webdriver.remote.webelement.WebElement (session=\"391bcc161467a00f5e5bf41e0ef1f2da\", element=\"6fbc8128-f3e6-42c4-80ec-29fc7bf12a58\")>,\n",
       " <selenium.webdriver.remote.webelement.WebElement (session=\"391bcc161467a00f5e5bf41e0ef1f2da\", element=\"8a7b0c0d-2a71-491b-84a4-6f39add02c7d\")>,\n",
       " <selenium.webdriver.remote.webelement.WebElement (session=\"391bcc161467a00f5e5bf41e0ef1f2da\", element=\"a7202065-55a3-44c8-9b72-0258a723de0d\")>,\n",
       " <selenium.webdriver.remote.webelement.WebElement (session=\"391bcc161467a00f5e5bf41e0ef1f2da\", element=\"5398eaaa-843e-43f8-aeb1-d57f8e7de0c9\")>,\n",
       " <selenium.webdriver.remote.webelement.WebElement (session=\"391bcc161467a00f5e5bf41e0ef1f2da\", element=\"1c5214a8-6837-4ded-94c8-5d6ef5cf3ff3\")>,\n",
       " <selenium.webdriver.remote.webelement.WebElement (session=\"391bcc161467a00f5e5bf41e0ef1f2da\", element=\"ae2e4c2f-dd6f-4ed3-80b4-a16a2dec49e4\")>,\n",
       " <selenium.webdriver.remote.webelement.WebElement (session=\"391bcc161467a00f5e5bf41e0ef1f2da\", element=\"24e10e42-bdcd-49b4-912e-88dd8cfe8e37\")>,\n",
       " <selenium.webdriver.remote.webelement.WebElement (session=\"391bcc161467a00f5e5bf41e0ef1f2da\", element=\"32b26af5-3017-4238-83f5-1b2372801782\")>,\n",
       " <selenium.webdriver.remote.webelement.WebElement (session=\"391bcc161467a00f5e5bf41e0ef1f2da\", element=\"5a2ec28c-1504-4d24-a5bb-2cf1dca3530a\")>,\n",
       " <selenium.webdriver.remote.webelement.WebElement (session=\"391bcc161467a00f5e5bf41e0ef1f2da\", element=\"6c18f14f-cf51-4d45-b084-73ba643b3564\")>,\n",
       " <selenium.webdriver.remote.webelement.WebElement (session=\"391bcc161467a00f5e5bf41e0ef1f2da\", element=\"af12c34d-3534-42b7-99fa-5404aa63ac7d\")>,\n",
       " <selenium.webdriver.remote.webelement.WebElement (session=\"391bcc161467a00f5e5bf41e0ef1f2da\", element=\"fbd1faaa-98f5-4aaf-b70e-349395d4951b\")>]"
      ]
     },
     "execution_count": 30,
     "metadata": {},
     "output_type": "execute_result"
    }
   ],
   "source": [
    "exp"
   ]
  },
  {
   "cell_type": "code",
   "execution_count": 31,
   "metadata": {},
   "outputs": [
    {
     "data": {
      "text/plain": [
       "['0-3 Yrs',\n",
       " '0-5 Yrs',\n",
       " '12-18 Yrs',\n",
       " '7-10 Yrs',\n",
       " '2-4 Yrs',\n",
       " '4-9 Yrs',\n",
       " '6-9 Yrs',\n",
       " '3-6 Yrs',\n",
       " '3-6 Yrs',\n",
       " '4-9 Yrs',\n",
       " '4-8 Yrs',\n",
       " '3-6 Yrs',\n",
       " '1-3 Yrs',\n",
       " '7-10 Yrs',\n",
       " '3-6 Yrs',\n",
       " '5-8 Yrs',\n",
       " '5-10 Yrs',\n",
       " '3-8 Yrs',\n",
       " '1-5 Yrs',\n",
       " '5-10 Yrs']"
      ]
     },
     "execution_count": 31,
     "metadata": {},
     "output_type": "execute_result"
    }
   ],
   "source": [
    "experience1=[]\n",
    "for n in exp:\n",
    "    experience1.append(n.text)\n",
    "experience1"
   ]
  },
  {
   "cell_type": "code",
   "execution_count": 36,
   "metadata": {},
   "outputs": [
    {
     "name": "stdout",
     "output_type": "stream",
     "text": [
      "20 20 20 20\n"
     ]
    }
   ],
   "source": [
    "print(len(job_title1),len(experience1),len(job_location1),len(companies_name))"
   ]
  },
  {
   "cell_type": "code",
   "execution_count": 37,
   "metadata": {},
   "outputs": [],
   "source": [
    "df=pd.DataFrame({})\n",
    "df['job_title']=job_title1\n",
    "df['location']=job_location1\n",
    "df['company name']=companies_name\n",
    "df['experience']=experience1"
   ]
  },
  {
   "cell_type": "code",
   "execution_count": 38,
   "metadata": {},
   "outputs": [
    {
     "data": {
      "text/html": [
       "<div>\n",
       "<style scoped>\n",
       "    .dataframe tbody tr th:only-of-type {\n",
       "        vertical-align: middle;\n",
       "    }\n",
       "\n",
       "    .dataframe tbody tr th {\n",
       "        vertical-align: top;\n",
       "    }\n",
       "\n",
       "    .dataframe thead th {\n",
       "        text-align: right;\n",
       "    }\n",
       "</style>\n",
       "<table border=\"1\" class=\"dataframe\">\n",
       "  <thead>\n",
       "    <tr style=\"text-align: right;\">\n",
       "      <th></th>\n",
       "      <th>job_title</th>\n",
       "      <th>location</th>\n",
       "      <th>company name</th>\n",
       "      <th>experience</th>\n",
       "    </tr>\n",
       "  </thead>\n",
       "  <tbody>\n",
       "    <tr>\n",
       "      <th>0</th>\n",
       "      <td>Data Scientist / Data Analyst -Business Analyst</td>\n",
       "      <td>Mumbai, Hyderabad/Secunderabad, Pune, Gurgaon/...</td>\n",
       "      <td>Inflexion Analytix Private Limited</td>\n",
       "      <td>0-3 Yrs</td>\n",
       "    </tr>\n",
       "    <tr>\n",
       "      <th>1</th>\n",
       "      <td>Hiring Data Analysts For E commerce Platform |...</td>\n",
       "      <td>Bangalore/Bengaluru</td>\n",
       "      <td>Allegis Services India Pvt. Ltd.</td>\n",
       "      <td>0-5 Yrs</td>\n",
       "    </tr>\n",
       "    <tr>\n",
       "      <th>2</th>\n",
       "      <td>Assistant Vice President - MIS &amp; Reporting ( B...</td>\n",
       "      <td>Mumbai, Bangalore/Bengaluru</td>\n",
       "      <td>INTERTRUSTVITEOS CORPORATE AND FUND SERVICES P...</td>\n",
       "      <td>12-18 Yrs</td>\n",
       "    </tr>\n",
       "    <tr>\n",
       "      <th>3</th>\n",
       "      <td>Data Analyst</td>\n",
       "      <td>Bangalore/Bengaluru</td>\n",
       "      <td>Applied Materials</td>\n",
       "      <td>7-10 Yrs</td>\n",
       "    </tr>\n",
       "    <tr>\n",
       "      <th>4</th>\n",
       "      <td>Hiring For Data Analyst/ MIS Reporting Analyst...</td>\n",
       "      <td>Bangalore/Bengaluru</td>\n",
       "      <td>PHARMACEUTICAL RESEARCH ASSOCIATES INDIA Pvt Ltd</td>\n",
       "      <td>2-4 Yrs</td>\n",
       "    </tr>\n",
       "    <tr>\n",
       "      <th>5</th>\n",
       "      <td>DA - Urgent Opening For Data Analyst BFSI Doma...</td>\n",
       "      <td>Kolkata, Hyderabad/Secunderabad, Pune, Ahmedab...</td>\n",
       "      <td>Tata Consultancy Services Ltd.</td>\n",
       "      <td>4-9 Yrs</td>\n",
       "    </tr>\n",
       "    <tr>\n",
       "      <th>6</th>\n",
       "      <td>Data Analyst - Informatica MDM</td>\n",
       "      <td>Bangalore/Bengaluru</td>\n",
       "      <td>Shell India Markets Private Limited</td>\n",
       "      <td>6-9 Yrs</td>\n",
       "    </tr>\n",
       "    <tr>\n",
       "      <th>7</th>\n",
       "      <td>Data Analyst</td>\n",
       "      <td>Bangalore/Bengaluru</td>\n",
       "      <td>Myntra Designs Pvt. Ltd.</td>\n",
       "      <td>3-6 Yrs</td>\n",
       "    </tr>\n",
       "    <tr>\n",
       "      <th>8</th>\n",
       "      <td>Data Analyst</td>\n",
       "      <td>Bangalore/Bengaluru</td>\n",
       "      <td>Myntra Designs Pvt. Ltd.</td>\n",
       "      <td>3-6 Yrs</td>\n",
       "    </tr>\n",
       "    <tr>\n",
       "      <th>9</th>\n",
       "      <td>Data Analyst</td>\n",
       "      <td>Bangalore/Bengaluru</td>\n",
       "      <td>Myntra Designs Pvt. Ltd.</td>\n",
       "      <td>4-9 Yrs</td>\n",
       "    </tr>\n",
       "    <tr>\n",
       "      <th>10</th>\n",
       "      <td>Data Analyst</td>\n",
       "      <td>Bangalore/Bengaluru</td>\n",
       "      <td>Myntra Designs Pvt. Ltd.</td>\n",
       "      <td>4-8 Yrs</td>\n",
       "    </tr>\n",
       "    <tr>\n",
       "      <th>11</th>\n",
       "      <td>Data Analyst</td>\n",
       "      <td>Bangalore/Bengaluru</td>\n",
       "      <td>Myntra Designs Pvt. Ltd.</td>\n",
       "      <td>3-6 Yrs</td>\n",
       "    </tr>\n",
       "    <tr>\n",
       "      <th>12</th>\n",
       "      <td>Data Analyst</td>\n",
       "      <td>Kolkata, Pune, Chennai, Bangalore/Bengaluru, D...</td>\n",
       "      <td>SA Tech Software (I) Pvt. Ltd.</td>\n",
       "      <td>1-3 Yrs</td>\n",
       "    </tr>\n",
       "    <tr>\n",
       "      <th>13</th>\n",
       "      <td>LTI Hiring Business Data Analyst - Risk Reporting</td>\n",
       "      <td>Pune, Chennai, Bangalore/Bengaluru</td>\n",
       "      <td>Larsen &amp; Toubro Infotech Limited</td>\n",
       "      <td>7-10 Yrs</td>\n",
       "    </tr>\n",
       "    <tr>\n",
       "      <th>14</th>\n",
       "      <td>Senior/Regular Business Analyst / Data Analyst</td>\n",
       "      <td>Bangalore/Bengaluru</td>\n",
       "      <td>Luxoft</td>\n",
       "      <td>3-6 Yrs</td>\n",
       "    </tr>\n",
       "    <tr>\n",
       "      <th>15</th>\n",
       "      <td>Cybersecurity Data Analyst</td>\n",
       "      <td>Bangalore/Bengaluru</td>\n",
       "      <td>Huawei Technologies India Pvt Ltd</td>\n",
       "      <td>5-8 Yrs</td>\n",
       "    </tr>\n",
       "    <tr>\n",
       "      <th>16</th>\n",
       "      <td>Data Analyst</td>\n",
       "      <td>Bangalore/Bengaluru</td>\n",
       "      <td>IBM India Pvt. Limited</td>\n",
       "      <td>5-10 Yrs</td>\n",
       "    </tr>\n",
       "    <tr>\n",
       "      <th>17</th>\n",
       "      <td>Business Data Analyst - MIS &amp; Reporting</td>\n",
       "      <td>Mumbai, Bangalore/Bengaluru</td>\n",
       "      <td>INTERTRUST GROUP</td>\n",
       "      <td>3-8 Yrs</td>\n",
       "    </tr>\n",
       "    <tr>\n",
       "      <th>18</th>\n",
       "      <td>Data Analyst / Business Analyst -</td>\n",
       "      <td>Chennai, Bangalore/Bengaluru</td>\n",
       "      <td>LatentView Analytics Private Limited</td>\n",
       "      <td>1-5 Yrs</td>\n",
       "    </tr>\n",
       "    <tr>\n",
       "      <th>19</th>\n",
       "      <td>Business Data Analyst</td>\n",
       "      <td>Bangalore/Bengaluru</td>\n",
       "      <td>ALSTOM India Limited</td>\n",
       "      <td>5-10 Yrs</td>\n",
       "    </tr>\n",
       "  </tbody>\n",
       "</table>\n",
       "</div>"
      ],
      "text/plain": [
       "                                            job_title  \\\n",
       "0     Data Scientist / Data Analyst -Business Analyst   \n",
       "1   Hiring Data Analysts For E commerce Platform |...   \n",
       "2   Assistant Vice President - MIS & Reporting ( B...   \n",
       "3                                        Data Analyst   \n",
       "4   Hiring For Data Analyst/ MIS Reporting Analyst...   \n",
       "5   DA - Urgent Opening For Data Analyst BFSI Doma...   \n",
       "6                      Data Analyst - Informatica MDM   \n",
       "7                                        Data Analyst   \n",
       "8                                        Data Analyst   \n",
       "9                                        Data Analyst   \n",
       "10                                       Data Analyst   \n",
       "11                                       Data Analyst   \n",
       "12                                       Data Analyst   \n",
       "13  LTI Hiring Business Data Analyst - Risk Reporting   \n",
       "14     Senior/Regular Business Analyst / Data Analyst   \n",
       "15                         Cybersecurity Data Analyst   \n",
       "16                                       Data Analyst   \n",
       "17            Business Data Analyst - MIS & Reporting   \n",
       "18                  Data Analyst / Business Analyst -   \n",
       "19                              Business Data Analyst   \n",
       "\n",
       "                                             location  \\\n",
       "0   Mumbai, Hyderabad/Secunderabad, Pune, Gurgaon/...   \n",
       "1                                 Bangalore/Bengaluru   \n",
       "2                         Mumbai, Bangalore/Bengaluru   \n",
       "3                                 Bangalore/Bengaluru   \n",
       "4                                 Bangalore/Bengaluru   \n",
       "5   Kolkata, Hyderabad/Secunderabad, Pune, Ahmedab...   \n",
       "6                                 Bangalore/Bengaluru   \n",
       "7                                 Bangalore/Bengaluru   \n",
       "8                                 Bangalore/Bengaluru   \n",
       "9                                 Bangalore/Bengaluru   \n",
       "10                                Bangalore/Bengaluru   \n",
       "11                                Bangalore/Bengaluru   \n",
       "12  Kolkata, Pune, Chennai, Bangalore/Bengaluru, D...   \n",
       "13                 Pune, Chennai, Bangalore/Bengaluru   \n",
       "14                                Bangalore/Bengaluru   \n",
       "15                                Bangalore/Bengaluru   \n",
       "16                                Bangalore/Bengaluru   \n",
       "17                        Mumbai, Bangalore/Bengaluru   \n",
       "18                       Chennai, Bangalore/Bengaluru   \n",
       "19                                Bangalore/Bengaluru   \n",
       "\n",
       "                                         company name experience  \n",
       "0                  Inflexion Analytix Private Limited    0-3 Yrs  \n",
       "1                    Allegis Services India Pvt. Ltd.    0-5 Yrs  \n",
       "2   INTERTRUSTVITEOS CORPORATE AND FUND SERVICES P...  12-18 Yrs  \n",
       "3                                   Applied Materials   7-10 Yrs  \n",
       "4    PHARMACEUTICAL RESEARCH ASSOCIATES INDIA Pvt Ltd    2-4 Yrs  \n",
       "5                      Tata Consultancy Services Ltd.    4-9 Yrs  \n",
       "6                 Shell India Markets Private Limited    6-9 Yrs  \n",
       "7                            Myntra Designs Pvt. Ltd.    3-6 Yrs  \n",
       "8                            Myntra Designs Pvt. Ltd.    3-6 Yrs  \n",
       "9                            Myntra Designs Pvt. Ltd.    4-9 Yrs  \n",
       "10                           Myntra Designs Pvt. Ltd.    4-8 Yrs  \n",
       "11                           Myntra Designs Pvt. Ltd.    3-6 Yrs  \n",
       "12                     SA Tech Software (I) Pvt. Ltd.    1-3 Yrs  \n",
       "13                   Larsen & Toubro Infotech Limited   7-10 Yrs  \n",
       "14                                             Luxoft    3-6 Yrs  \n",
       "15                  Huawei Technologies India Pvt Ltd    5-8 Yrs  \n",
       "16                             IBM India Pvt. Limited   5-10 Yrs  \n",
       "17                                   INTERTRUST GROUP    3-8 Yrs  \n",
       "18               LatentView Analytics Private Limited    1-5 Yrs  \n",
       "19                               ALSTOM India Limited   5-10 Yrs  "
      ]
     },
     "execution_count": 38,
     "metadata": {},
     "output_type": "execute_result"
    }
   ],
   "source": [
    "df"
   ]
  },
  {
   "cell_type": "code",
   "execution_count": 39,
   "metadata": {},
   "outputs": [],
   "source": [
    "df1=df.iloc[0:10,:]"
   ]
  },
  {
   "cell_type": "code",
   "execution_count": 40,
   "metadata": {},
   "outputs": [
    {
     "data": {
      "text/html": [
       "<div>\n",
       "<style scoped>\n",
       "    .dataframe tbody tr th:only-of-type {\n",
       "        vertical-align: middle;\n",
       "    }\n",
       "\n",
       "    .dataframe tbody tr th {\n",
       "        vertical-align: top;\n",
       "    }\n",
       "\n",
       "    .dataframe thead th {\n",
       "        text-align: right;\n",
       "    }\n",
       "</style>\n",
       "<table border=\"1\" class=\"dataframe\">\n",
       "  <thead>\n",
       "    <tr style=\"text-align: right;\">\n",
       "      <th></th>\n",
       "      <th>job_title</th>\n",
       "      <th>location</th>\n",
       "      <th>company name</th>\n",
       "      <th>experience</th>\n",
       "    </tr>\n",
       "  </thead>\n",
       "  <tbody>\n",
       "    <tr>\n",
       "      <th>0</th>\n",
       "      <td>Data Scientist / Data Analyst -Business Analyst</td>\n",
       "      <td>Mumbai, Hyderabad/Secunderabad, Pune, Gurgaon/...</td>\n",
       "      <td>Inflexion Analytix Private Limited</td>\n",
       "      <td>0-3 Yrs</td>\n",
       "    </tr>\n",
       "    <tr>\n",
       "      <th>1</th>\n",
       "      <td>Hiring Data Analysts For E commerce Platform |...</td>\n",
       "      <td>Bangalore/Bengaluru</td>\n",
       "      <td>Allegis Services India Pvt. Ltd.</td>\n",
       "      <td>0-5 Yrs</td>\n",
       "    </tr>\n",
       "    <tr>\n",
       "      <th>2</th>\n",
       "      <td>Assistant Vice President - MIS &amp; Reporting ( B...</td>\n",
       "      <td>Mumbai, Bangalore/Bengaluru</td>\n",
       "      <td>INTERTRUSTVITEOS CORPORATE AND FUND SERVICES P...</td>\n",
       "      <td>12-18 Yrs</td>\n",
       "    </tr>\n",
       "    <tr>\n",
       "      <th>3</th>\n",
       "      <td>Data Analyst</td>\n",
       "      <td>Bangalore/Bengaluru</td>\n",
       "      <td>Applied Materials</td>\n",
       "      <td>7-10 Yrs</td>\n",
       "    </tr>\n",
       "    <tr>\n",
       "      <th>4</th>\n",
       "      <td>Hiring For Data Analyst/ MIS Reporting Analyst...</td>\n",
       "      <td>Bangalore/Bengaluru</td>\n",
       "      <td>PHARMACEUTICAL RESEARCH ASSOCIATES INDIA Pvt Ltd</td>\n",
       "      <td>2-4 Yrs</td>\n",
       "    </tr>\n",
       "    <tr>\n",
       "      <th>5</th>\n",
       "      <td>DA - Urgent Opening For Data Analyst BFSI Doma...</td>\n",
       "      <td>Kolkata, Hyderabad/Secunderabad, Pune, Ahmedab...</td>\n",
       "      <td>Tata Consultancy Services Ltd.</td>\n",
       "      <td>4-9 Yrs</td>\n",
       "    </tr>\n",
       "    <tr>\n",
       "      <th>6</th>\n",
       "      <td>Data Analyst - Informatica MDM</td>\n",
       "      <td>Bangalore/Bengaluru</td>\n",
       "      <td>Shell India Markets Private Limited</td>\n",
       "      <td>6-9 Yrs</td>\n",
       "    </tr>\n",
       "    <tr>\n",
       "      <th>7</th>\n",
       "      <td>Data Analyst</td>\n",
       "      <td>Bangalore/Bengaluru</td>\n",
       "      <td>Myntra Designs Pvt. Ltd.</td>\n",
       "      <td>3-6 Yrs</td>\n",
       "    </tr>\n",
       "    <tr>\n",
       "      <th>8</th>\n",
       "      <td>Data Analyst</td>\n",
       "      <td>Bangalore/Bengaluru</td>\n",
       "      <td>Myntra Designs Pvt. Ltd.</td>\n",
       "      <td>3-6 Yrs</td>\n",
       "    </tr>\n",
       "    <tr>\n",
       "      <th>9</th>\n",
       "      <td>Data Analyst</td>\n",
       "      <td>Bangalore/Bengaluru</td>\n",
       "      <td>Myntra Designs Pvt. Ltd.</td>\n",
       "      <td>4-9 Yrs</td>\n",
       "    </tr>\n",
       "  </tbody>\n",
       "</table>\n",
       "</div>"
      ],
      "text/plain": [
       "                                           job_title  \\\n",
       "0    Data Scientist / Data Analyst -Business Analyst   \n",
       "1  Hiring Data Analysts For E commerce Platform |...   \n",
       "2  Assistant Vice President - MIS & Reporting ( B...   \n",
       "3                                       Data Analyst   \n",
       "4  Hiring For Data Analyst/ MIS Reporting Analyst...   \n",
       "5  DA - Urgent Opening For Data Analyst BFSI Doma...   \n",
       "6                     Data Analyst - Informatica MDM   \n",
       "7                                       Data Analyst   \n",
       "8                                       Data Analyst   \n",
       "9                                       Data Analyst   \n",
       "\n",
       "                                            location  \\\n",
       "0  Mumbai, Hyderabad/Secunderabad, Pune, Gurgaon/...   \n",
       "1                                Bangalore/Bengaluru   \n",
       "2                        Mumbai, Bangalore/Bengaluru   \n",
       "3                                Bangalore/Bengaluru   \n",
       "4                                Bangalore/Bengaluru   \n",
       "5  Kolkata, Hyderabad/Secunderabad, Pune, Ahmedab...   \n",
       "6                                Bangalore/Bengaluru   \n",
       "7                                Bangalore/Bengaluru   \n",
       "8                                Bangalore/Bengaluru   \n",
       "9                                Bangalore/Bengaluru   \n",
       "\n",
       "                                        company name experience  \n",
       "0                 Inflexion Analytix Private Limited    0-3 Yrs  \n",
       "1                   Allegis Services India Pvt. Ltd.    0-5 Yrs  \n",
       "2  INTERTRUSTVITEOS CORPORATE AND FUND SERVICES P...  12-18 Yrs  \n",
       "3                                  Applied Materials   7-10 Yrs  \n",
       "4   PHARMACEUTICAL RESEARCH ASSOCIATES INDIA Pvt Ltd    2-4 Yrs  \n",
       "5                     Tata Consultancy Services Ltd.    4-9 Yrs  \n",
       "6                Shell India Markets Private Limited    6-9 Yrs  \n",
       "7                           Myntra Designs Pvt. Ltd.    3-6 Yrs  \n",
       "8                           Myntra Designs Pvt. Ltd.    3-6 Yrs  \n",
       "9                           Myntra Designs Pvt. Ltd.    4-9 Yrs  "
      ]
     },
     "execution_count": 40,
     "metadata": {},
     "output_type": "execute_result"
    }
   ],
   "source": [
    "df1"
   ]
  },
  {
   "cell_type": "markdown",
   "metadata": {},
   "source": [
    "# Q1 completed of first assignment"
   ]
  },
  {
   "cell_type": "code",
   "execution_count": 41,
   "metadata": {},
   "outputs": [],
   "source": [
    "driver1=webdriver.Chrome(r\"C:\\Users\\Bhumik Shah\\Downloads\\chromedriver_win32\\chromedriver.exe\")"
   ]
  },
  {
   "cell_type": "code",
   "execution_count": 42,
   "metadata": {},
   "outputs": [],
   "source": [
    "url='https://www.naukri.com/'"
   ]
  },
  {
   "cell_type": "code",
   "execution_count": 43,
   "metadata": {},
   "outputs": [],
   "source": [
    "driver1.get(url)"
   ]
  },
  {
   "cell_type": "code",
   "execution_count": 44,
   "metadata": {},
   "outputs": [],
   "source": [
    "search1_title=driver1.find_element_by_id('qsb-keyword-sugg')"
   ]
  },
  {
   "cell_type": "code",
   "execution_count": 45,
   "metadata": {},
   "outputs": [],
   "source": [
    "search1_title.send_keys(\"Data Scientist\")"
   ]
  },
  {
   "cell_type": "code",
   "execution_count": 46,
   "metadata": {},
   "outputs": [],
   "source": [
    "search1_location=driver1.find_element_by_id('qsb-location-sugg')"
   ]
  },
  {
   "cell_type": "code",
   "execution_count": 47,
   "metadata": {},
   "outputs": [],
   "source": [
    "search1_location.send_keys('Bangalore')"
   ]
  },
  {
   "cell_type": "code",
   "execution_count": 48,
   "metadata": {},
   "outputs": [],
   "source": [
    "search1_select=driver1.find_element_by_xpath(\"//button[@class='btn']\")"
   ]
  },
  {
   "cell_type": "code",
   "execution_count": 49,
   "metadata": {},
   "outputs": [],
   "source": [
    "search1_select.click()"
   ]
  },
  {
   "cell_type": "code",
   "execution_count": 50,
   "metadata": {},
   "outputs": [],
   "source": [
    "title=driver1.find_elements_by_xpath(\"//a[@class='title fw500 ellipsis']\")"
   ]
  },
  {
   "cell_type": "code",
   "execution_count": 51,
   "metadata": {},
   "outputs": [
    {
     "data": {
      "text/plain": [
       "[<selenium.webdriver.remote.webelement.WebElement (session=\"e89560b79b48a1b767efa243b5b36933\", element=\"60b8bb71-91fa-4f63-a156-3ab13d85fb5a\")>,\n",
       " <selenium.webdriver.remote.webelement.WebElement (session=\"e89560b79b48a1b767efa243b5b36933\", element=\"2b66e021-827e-4a09-91f2-db6c62588433\")>,\n",
       " <selenium.webdriver.remote.webelement.WebElement (session=\"e89560b79b48a1b767efa243b5b36933\", element=\"185c881e-affb-4673-a809-755c38fc4c7c\")>,\n",
       " <selenium.webdriver.remote.webelement.WebElement (session=\"e89560b79b48a1b767efa243b5b36933\", element=\"7fa488e9-08f4-4190-8f3b-7e3e6e62208b\")>,\n",
       " <selenium.webdriver.remote.webelement.WebElement (session=\"e89560b79b48a1b767efa243b5b36933\", element=\"0377a5c5-e555-486c-a433-32851764ced1\")>,\n",
       " <selenium.webdriver.remote.webelement.WebElement (session=\"e89560b79b48a1b767efa243b5b36933\", element=\"4f2c15cc-f472-4f10-9059-da939a3593e8\")>,\n",
       " <selenium.webdriver.remote.webelement.WebElement (session=\"e89560b79b48a1b767efa243b5b36933\", element=\"bb314e80-8259-4929-9b59-ec0b71051233\")>,\n",
       " <selenium.webdriver.remote.webelement.WebElement (session=\"e89560b79b48a1b767efa243b5b36933\", element=\"dce403cf-4591-4090-a499-3d84f0289c0d\")>,\n",
       " <selenium.webdriver.remote.webelement.WebElement (session=\"e89560b79b48a1b767efa243b5b36933\", element=\"a6d39790-f72a-4546-83bf-2598578a97a1\")>,\n",
       " <selenium.webdriver.remote.webelement.WebElement (session=\"e89560b79b48a1b767efa243b5b36933\", element=\"2c5dfb2a-854f-4083-a3cc-23dedda32073\")>,\n",
       " <selenium.webdriver.remote.webelement.WebElement (session=\"e89560b79b48a1b767efa243b5b36933\", element=\"bf41e32b-47de-4ff6-aec7-44544ce07167\")>,\n",
       " <selenium.webdriver.remote.webelement.WebElement (session=\"e89560b79b48a1b767efa243b5b36933\", element=\"c45ab363-dedd-43ae-8e59-e4edbef76a79\")>,\n",
       " <selenium.webdriver.remote.webelement.WebElement (session=\"e89560b79b48a1b767efa243b5b36933\", element=\"59dc9206-f60b-4d42-b9ed-db9fc9ef740f\")>,\n",
       " <selenium.webdriver.remote.webelement.WebElement (session=\"e89560b79b48a1b767efa243b5b36933\", element=\"dc28b2ca-a7c3-4a50-923f-e5075e1511ed\")>,\n",
       " <selenium.webdriver.remote.webelement.WebElement (session=\"e89560b79b48a1b767efa243b5b36933\", element=\"4ab41bab-4c66-4f5b-a5be-e80993210014\")>,\n",
       " <selenium.webdriver.remote.webelement.WebElement (session=\"e89560b79b48a1b767efa243b5b36933\", element=\"38a677a9-a67d-4517-b9f9-50660c155c4f\")>,\n",
       " <selenium.webdriver.remote.webelement.WebElement (session=\"e89560b79b48a1b767efa243b5b36933\", element=\"7c16cb94-1fa1-40c3-8366-454eeeba2c93\")>,\n",
       " <selenium.webdriver.remote.webelement.WebElement (session=\"e89560b79b48a1b767efa243b5b36933\", element=\"99511d19-bf4c-4a97-a0ff-137c0b0efc32\")>,\n",
       " <selenium.webdriver.remote.webelement.WebElement (session=\"e89560b79b48a1b767efa243b5b36933\", element=\"4c59d914-dd60-4cdd-9012-8e36a05e4f09\")>,\n",
       " <selenium.webdriver.remote.webelement.WebElement (session=\"e89560b79b48a1b767efa243b5b36933\", element=\"45f012d4-195d-4816-b59d-9e3e52967535\")>]"
      ]
     },
     "execution_count": 51,
     "metadata": {},
     "output_type": "execute_result"
    }
   ],
   "source": [
    "title"
   ]
  },
  {
   "cell_type": "code",
   "execution_count": 52,
   "metadata": {},
   "outputs": [
    {
     "data": {
      "text/plain": [
       "['Data Scientist / Data Analyst -Business Analyst',\n",
       " 'Lead Data Scientist',\n",
       " 'Senior Data Scientist, Modeling',\n",
       " 'Data Scientist - IBM Garage',\n",
       " 'Data Scientist',\n",
       " 'Senior Data Scientist - Credit risk',\n",
       " 'Big Data - Data Scientist',\n",
       " 'SDE Lead Data Scientist-L3',\n",
       " 'Computational Design Lead Data Scientist-L3',\n",
       " 'Data Scientist',\n",
       " 'Senior Data Scientist - Chatbot & NLP',\n",
       " 'Senior Data Scientist - Chatbot & NLP',\n",
       " 'Hiring For Lead data Scientist For Bangalore location',\n",
       " 'Senior Data Scientist - Kinara Capital',\n",
       " 'Senior Data Scientist, Marketing Analytics',\n",
       " 'Data Scientist',\n",
       " 'Data Scientist/ Senior Data Scientist',\n",
       " 'Principal Data Scientist',\n",
       " 'Lead Data Scientist /Sr. Data Scientist',\n",
       " 'Data Scientist']"
      ]
     },
     "execution_count": 52,
     "metadata": {},
     "output_type": "execute_result"
    }
   ],
   "source": [
    "job_title=[]\n",
    "for i in title:\n",
    "    job_title.append(i.text)\n",
    "job_title"
   ]
  },
  {
   "cell_type": "code",
   "execution_count": 53,
   "metadata": {},
   "outputs": [],
   "source": [
    "location=driver1.find_elements_by_xpath(\"//li[@class='fleft grey-text br2 placeHolderLi location']/span\")"
   ]
  },
  {
   "cell_type": "code",
   "execution_count": 54,
   "metadata": {},
   "outputs": [
    {
     "data": {
      "text/plain": [
       "[<selenium.webdriver.remote.webelement.WebElement (session=\"e89560b79b48a1b767efa243b5b36933\", element=\"07311820-e79f-4f24-b2dd-1038e3614d50\")>,\n",
       " <selenium.webdriver.remote.webelement.WebElement (session=\"e89560b79b48a1b767efa243b5b36933\", element=\"bef612fc-2dbd-4111-a9e7-3ca404b1996c\")>,\n",
       " <selenium.webdriver.remote.webelement.WebElement (session=\"e89560b79b48a1b767efa243b5b36933\", element=\"f4508476-7b9a-4856-81d3-6abaa9e9455c\")>,\n",
       " <selenium.webdriver.remote.webelement.WebElement (session=\"e89560b79b48a1b767efa243b5b36933\", element=\"c615bfaa-ad7f-401c-843f-e560f4171154\")>,\n",
       " <selenium.webdriver.remote.webelement.WebElement (session=\"e89560b79b48a1b767efa243b5b36933\", element=\"98de7367-17c4-4abd-bfba-fe9f39eb3b48\")>,\n",
       " <selenium.webdriver.remote.webelement.WebElement (session=\"e89560b79b48a1b767efa243b5b36933\", element=\"b1d1a33e-75ef-408f-a06b-c7eb3cba89f2\")>,\n",
       " <selenium.webdriver.remote.webelement.WebElement (session=\"e89560b79b48a1b767efa243b5b36933\", element=\"f1faa52f-1ed8-4eec-b4a0-a914234792d6\")>,\n",
       " <selenium.webdriver.remote.webelement.WebElement (session=\"e89560b79b48a1b767efa243b5b36933\", element=\"66196b70-19a9-4d42-a775-677d979d56b5\")>,\n",
       " <selenium.webdriver.remote.webelement.WebElement (session=\"e89560b79b48a1b767efa243b5b36933\", element=\"1bc9d9bb-a759-48e7-a9f4-ae340038117a\")>,\n",
       " <selenium.webdriver.remote.webelement.WebElement (session=\"e89560b79b48a1b767efa243b5b36933\", element=\"3b38da02-56e3-449e-b485-35abde40d0df\")>,\n",
       " <selenium.webdriver.remote.webelement.WebElement (session=\"e89560b79b48a1b767efa243b5b36933\", element=\"1ab72f01-ceea-4414-a3e7-fe10e4b841ab\")>,\n",
       " <selenium.webdriver.remote.webelement.WebElement (session=\"e89560b79b48a1b767efa243b5b36933\", element=\"52e0a972-7cf9-40ec-a492-bb8c50bb2caf\")>,\n",
       " <selenium.webdriver.remote.webelement.WebElement (session=\"e89560b79b48a1b767efa243b5b36933\", element=\"61068ea3-4916-427a-8dd8-bda39750acfa\")>,\n",
       " <selenium.webdriver.remote.webelement.WebElement (session=\"e89560b79b48a1b767efa243b5b36933\", element=\"53904fdf-9934-42a3-8945-f731a8d75b9e\")>,\n",
       " <selenium.webdriver.remote.webelement.WebElement (session=\"e89560b79b48a1b767efa243b5b36933\", element=\"b1820e59-f6d1-4bf4-b554-6b75299d3a7e\")>,\n",
       " <selenium.webdriver.remote.webelement.WebElement (session=\"e89560b79b48a1b767efa243b5b36933\", element=\"64321bfa-89d3-4419-86d3-43dc5289d61e\")>,\n",
       " <selenium.webdriver.remote.webelement.WebElement (session=\"e89560b79b48a1b767efa243b5b36933\", element=\"070e9ddf-7b6a-4e71-abb1-c9d43e519570\")>,\n",
       " <selenium.webdriver.remote.webelement.WebElement (session=\"e89560b79b48a1b767efa243b5b36933\", element=\"f10f55fa-8a65-43d6-a16a-42364f023c53\")>,\n",
       " <selenium.webdriver.remote.webelement.WebElement (session=\"e89560b79b48a1b767efa243b5b36933\", element=\"079a911b-5419-41db-9f37-b55996e98e79\")>,\n",
       " <selenium.webdriver.remote.webelement.WebElement (session=\"e89560b79b48a1b767efa243b5b36933\", element=\"49f375d9-c8e6-4c6c-a154-3a5b5ae444f3\")>]"
      ]
     },
     "execution_count": 54,
     "metadata": {},
     "output_type": "execute_result"
    }
   ],
   "source": [
    "location"
   ]
  },
  {
   "cell_type": "code",
   "execution_count": 55,
   "metadata": {},
   "outputs": [
    {
     "data": {
      "text/plain": [
       "['Mumbai, Hyderabad/Secunderabad, Pune, Gurgaon/Gurugram, Chennai, Bangalore/Bengaluru',\n",
       " 'Bangalore/Bengaluru',\n",
       " 'Kolkata, Gurgaon/Gurugram, Bangalore/Bengaluru, Vadodara, Mumbai (All Areas)',\n",
       " 'Noida, Hyderabad/Secunderabad, Bangalore/Bengaluru',\n",
       " 'Noida, Hyderabad/Secunderabad, Bangalore/Bengaluru',\n",
       " 'Bangalore/Bengaluru',\n",
       " 'Kochi/Cochin, Indore, Hyderabad/Secunderabad, Pune, Ahmedabad, Bangalore/Bengaluru, Mumbai (All Areas)',\n",
       " 'Bangalore/Bengaluru',\n",
       " 'Bangalore/Bengaluru',\n",
       " 'Bangalore/Bengaluru',\n",
       " 'Bangalore/Bengaluru',\n",
       " 'Bangalore/Bengaluru',\n",
       " 'Bangalore/Bengaluru',\n",
       " 'Bangalore/Bengaluru',\n",
       " 'Bangalore/Bengaluru',\n",
       " 'Bangalore/Bengaluru',\n",
       " 'Bangalore/Bengaluru',\n",
       " 'Bangalore/Bengaluru',\n",
       " 'Hyderabad/Secunderabad, Bangalore/Bengaluru, Mumbai (All Areas)',\n",
       " 'Bangalore/Bengaluru']"
      ]
     },
     "execution_count": 55,
     "metadata": {},
     "output_type": "execute_result"
    }
   ],
   "source": [
    "job_location=[]\n",
    "\n",
    "for i in location:\n",
    "    job_location.append(i.text)\n",
    "job_location"
   ]
  },
  {
   "cell_type": "code",
   "execution_count": 56,
   "metadata": {},
   "outputs": [],
   "source": [
    "company_name=driver1.find_elements_by_xpath(\"//div[@class='mt-7 companyInfo subheading lh16']/a['title'][1]\")"
   ]
  },
  {
   "cell_type": "code",
   "execution_count": 57,
   "metadata": {},
   "outputs": [
    {
     "data": {
      "text/plain": [
       "[<selenium.webdriver.remote.webelement.WebElement (session=\"e89560b79b48a1b767efa243b5b36933\", element=\"5fc86b39-bd49-4a6c-a3d2-748466ad7605\")>,\n",
       " <selenium.webdriver.remote.webelement.WebElement (session=\"e89560b79b48a1b767efa243b5b36933\", element=\"26e59497-3353-48a7-9556-a0c9afe2e69e\")>,\n",
       " <selenium.webdriver.remote.webelement.WebElement (session=\"e89560b79b48a1b767efa243b5b36933\", element=\"e51ed2b8-835e-4173-bc23-076c675313ee\")>,\n",
       " <selenium.webdriver.remote.webelement.WebElement (session=\"e89560b79b48a1b767efa243b5b36933\", element=\"5d8292d1-f920-4faf-9627-e2f7499c8564\")>,\n",
       " <selenium.webdriver.remote.webelement.WebElement (session=\"e89560b79b48a1b767efa243b5b36933\", element=\"0b24aeed-f23b-47ea-ae1d-61b7c45c1ee2\")>,\n",
       " <selenium.webdriver.remote.webelement.WebElement (session=\"e89560b79b48a1b767efa243b5b36933\", element=\"325a1f08-4ef3-4cd8-999d-71c6a140d867\")>,\n",
       " <selenium.webdriver.remote.webelement.WebElement (session=\"e89560b79b48a1b767efa243b5b36933\", element=\"e259d152-16b8-4e75-b755-f2f8b77aa003\")>,\n",
       " <selenium.webdriver.remote.webelement.WebElement (session=\"e89560b79b48a1b767efa243b5b36933\", element=\"c1fdc5a3-218f-4d5f-bef9-f23db997052a\")>,\n",
       " <selenium.webdriver.remote.webelement.WebElement (session=\"e89560b79b48a1b767efa243b5b36933\", element=\"25499186-7e84-48c6-9770-9a08136fc8a6\")>,\n",
       " <selenium.webdriver.remote.webelement.WebElement (session=\"e89560b79b48a1b767efa243b5b36933\", element=\"824734ba-d35c-4719-a24d-91086f37fe59\")>,\n",
       " <selenium.webdriver.remote.webelement.WebElement (session=\"e89560b79b48a1b767efa243b5b36933\", element=\"930ccc53-bc69-46e4-867e-d8fb11e379cc\")>,\n",
       " <selenium.webdriver.remote.webelement.WebElement (session=\"e89560b79b48a1b767efa243b5b36933\", element=\"e529e7ab-a405-48c3-a0f3-27c78c3e1915\")>,\n",
       " <selenium.webdriver.remote.webelement.WebElement (session=\"e89560b79b48a1b767efa243b5b36933\", element=\"23e688c6-24bb-40b6-9c64-d0f5a8a35fa8\")>,\n",
       " <selenium.webdriver.remote.webelement.WebElement (session=\"e89560b79b48a1b767efa243b5b36933\", element=\"f0eec0f8-dc9b-4f9d-b52e-82f272ec00c0\")>,\n",
       " <selenium.webdriver.remote.webelement.WebElement (session=\"e89560b79b48a1b767efa243b5b36933\", element=\"cb27b37c-c3ad-4991-916d-8bd58d94f009\")>,\n",
       " <selenium.webdriver.remote.webelement.WebElement (session=\"e89560b79b48a1b767efa243b5b36933\", element=\"4028375f-07c8-4a1b-925b-a17b906fb827\")>,\n",
       " <selenium.webdriver.remote.webelement.WebElement (session=\"e89560b79b48a1b767efa243b5b36933\", element=\"c9290253-282a-42c7-9cbc-9dc8275325f0\")>,\n",
       " <selenium.webdriver.remote.webelement.WebElement (session=\"e89560b79b48a1b767efa243b5b36933\", element=\"a71be266-a516-4935-9778-5938c7b201c6\")>,\n",
       " <selenium.webdriver.remote.webelement.WebElement (session=\"e89560b79b48a1b767efa243b5b36933\", element=\"4dfe5979-6828-4cf0-bfab-630042e92f73\")>,\n",
       " <selenium.webdriver.remote.webelement.WebElement (session=\"e89560b79b48a1b767efa243b5b36933\", element=\"1ae9609e-7140-4ee9-96f7-89349d8b6fcd\")>]"
      ]
     },
     "execution_count": 57,
     "metadata": {},
     "output_type": "execute_result"
    }
   ],
   "source": [
    "company_name"
   ]
  },
  {
   "cell_type": "code",
   "execution_count": 58,
   "metadata": {},
   "outputs": [
    {
     "data": {
      "text/plain": [
       "['Inflexion Analytix Private Limited',\n",
       " 'Intel Technology India Pvt Ltd',\n",
       " 'Nielsen',\n",
       " 'IBM India Pvt. Limited',\n",
       " 'IBM India Pvt. Limited',\n",
       " 'Scienaptic Systems',\n",
       " 'Xoriant Solutions Pvt Ltd',\n",
       " 'Huawei Technologies India Pvt Ltd',\n",
       " 'Huawei Technologies India Pvt Ltd',\n",
       " 'IBM India Pvt. Limited',\n",
       " 'Gojek Tech',\n",
       " 'GO-JEK India',\n",
       " 'Societe Generale',\n",
       " 'Kinara Financial Private Limited',\n",
       " 'Hudsons Bay Company',\n",
       " 'Applied Materials',\n",
       " 'o9 Solutions Management India Private Limited',\n",
       " 'NetApp',\n",
       " 'BDITDOMAIN',\n",
       " 'TechKnowledgey Pte Ltd']"
      ]
     },
     "execution_count": 58,
     "metadata": {},
     "output_type": "execute_result"
    }
   ],
   "source": [
    "organization_name=[]\n",
    "\n",
    "for i in company_name:\n",
    "    organization_name.append(i.text)\n",
    "organization_name"
   ]
  },
  {
   "cell_type": "code",
   "execution_count": 59,
   "metadata": {},
   "outputs": [],
   "source": [
    "url=driver1.find_elements_by_xpath(\"//div[@class='info fleft']/a\")"
   ]
  },
  {
   "cell_type": "code",
   "execution_count": 60,
   "metadata": {},
   "outputs": [
    {
     "data": {
      "text/plain": [
       "[<selenium.webdriver.remote.webelement.WebElement (session=\"e89560b79b48a1b767efa243b5b36933\", element=\"60b8bb71-91fa-4f63-a156-3ab13d85fb5a\")>,\n",
       " <selenium.webdriver.remote.webelement.WebElement (session=\"e89560b79b48a1b767efa243b5b36933\", element=\"2b66e021-827e-4a09-91f2-db6c62588433\")>,\n",
       " <selenium.webdriver.remote.webelement.WebElement (session=\"e89560b79b48a1b767efa243b5b36933\", element=\"185c881e-affb-4673-a809-755c38fc4c7c\")>,\n",
       " <selenium.webdriver.remote.webelement.WebElement (session=\"e89560b79b48a1b767efa243b5b36933\", element=\"7fa488e9-08f4-4190-8f3b-7e3e6e62208b\")>,\n",
       " <selenium.webdriver.remote.webelement.WebElement (session=\"e89560b79b48a1b767efa243b5b36933\", element=\"0377a5c5-e555-486c-a433-32851764ced1\")>,\n",
       " <selenium.webdriver.remote.webelement.WebElement (session=\"e89560b79b48a1b767efa243b5b36933\", element=\"4f2c15cc-f472-4f10-9059-da939a3593e8\")>,\n",
       " <selenium.webdriver.remote.webelement.WebElement (session=\"e89560b79b48a1b767efa243b5b36933\", element=\"bb314e80-8259-4929-9b59-ec0b71051233\")>,\n",
       " <selenium.webdriver.remote.webelement.WebElement (session=\"e89560b79b48a1b767efa243b5b36933\", element=\"dce403cf-4591-4090-a499-3d84f0289c0d\")>,\n",
       " <selenium.webdriver.remote.webelement.WebElement (session=\"e89560b79b48a1b767efa243b5b36933\", element=\"a6d39790-f72a-4546-83bf-2598578a97a1\")>,\n",
       " <selenium.webdriver.remote.webelement.WebElement (session=\"e89560b79b48a1b767efa243b5b36933\", element=\"2c5dfb2a-854f-4083-a3cc-23dedda32073\")>,\n",
       " <selenium.webdriver.remote.webelement.WebElement (session=\"e89560b79b48a1b767efa243b5b36933\", element=\"bf41e32b-47de-4ff6-aec7-44544ce07167\")>,\n",
       " <selenium.webdriver.remote.webelement.WebElement (session=\"e89560b79b48a1b767efa243b5b36933\", element=\"c45ab363-dedd-43ae-8e59-e4edbef76a79\")>,\n",
       " <selenium.webdriver.remote.webelement.WebElement (session=\"e89560b79b48a1b767efa243b5b36933\", element=\"59dc9206-f60b-4d42-b9ed-db9fc9ef740f\")>,\n",
       " <selenium.webdriver.remote.webelement.WebElement (session=\"e89560b79b48a1b767efa243b5b36933\", element=\"dc28b2ca-a7c3-4a50-923f-e5075e1511ed\")>,\n",
       " <selenium.webdriver.remote.webelement.WebElement (session=\"e89560b79b48a1b767efa243b5b36933\", element=\"4ab41bab-4c66-4f5b-a5be-e80993210014\")>,\n",
       " <selenium.webdriver.remote.webelement.WebElement (session=\"e89560b79b48a1b767efa243b5b36933\", element=\"38a677a9-a67d-4517-b9f9-50660c155c4f\")>,\n",
       " <selenium.webdriver.remote.webelement.WebElement (session=\"e89560b79b48a1b767efa243b5b36933\", element=\"7c16cb94-1fa1-40c3-8366-454eeeba2c93\")>,\n",
       " <selenium.webdriver.remote.webelement.WebElement (session=\"e89560b79b48a1b767efa243b5b36933\", element=\"99511d19-bf4c-4a97-a0ff-137c0b0efc32\")>,\n",
       " <selenium.webdriver.remote.webelement.WebElement (session=\"e89560b79b48a1b767efa243b5b36933\", element=\"4c59d914-dd60-4cdd-9012-8e36a05e4f09\")>,\n",
       " <selenium.webdriver.remote.webelement.WebElement (session=\"e89560b79b48a1b767efa243b5b36933\", element=\"45f012d4-195d-4816-b59d-9e3e52967535\")>]"
      ]
     },
     "execution_count": 60,
     "metadata": {},
     "output_type": "execute_result"
    }
   ],
   "source": [
    "url"
   ]
  },
  {
   "cell_type": "code",
   "execution_count": 61,
   "metadata": {},
   "outputs": [
    {
     "data": {
      "text/plain": [
       "['https://www.naukri.com/job-listings-data-scientist-data-analyst-business-analyst-inflexion-analytix-private-limited-mumbai-hyderabad-secunderabad-pune-gurgaon-gurugram-chennai-bangalore-bengaluru-0-to-3-years-100521000368?src=jobsearchDesk&sid=16211612469633748&xp=1&px=1',\n",
       " 'https://www.naukri.com/job-listings-lead-data-scientist-intel-technology-india-pvt-ltd-bangalore-bengaluru-6-to-10-years-070521500578?src=jobsearchDesk&sid=16211612469633748&xp=2&px=1',\n",
       " 'https://www.naukri.com/job-listings-senior-data-scientist-modeling-nielsen-kolkata-gurgaon-gurugram-bangalore-bengaluru-vadodara-baroda-mumbai-all-areas-3-to-7-years-280421003878?src=jobsearchDesk&sid=16211612469633748&xp=3&px=1',\n",
       " 'https://www.naukri.com/job-listings-data-scientist-ibm-garage-ibm-india-pvt-limited-noida-hyderabad-secunderabad-bangalore-bengaluru-5-to-8-years-040521900448?src=jobsearchDesk&sid=16211612469633748&xp=4&px=1',\n",
       " 'https://www.naukri.com/job-listings-data-scientist-ibm-india-pvt-limited-noida-hyderabad-secunderabad-bangalore-bengaluru-5-to-8-years-030521900421?src=jobsearchDesk&sid=16211612469633748&xp=5&px=1',\n",
       " 'https://www.naukri.com/job-listings-senior-data-scientist-credit-risk-scienaptic-systems-bangalore-bengaluru-5-to-10-years-030521500996?src=jobsearchDesk&sid=16211612469633748&xp=6&px=1',\n",
       " 'https://www.naukri.com/job-listings-big-data-data-scientist-xoriant-solutions-pvt-ltd-kochi-cochin-indore-hyderabad-secunderabad-pune-ahmedabad-bangalore-bengaluru-mumbai-all-areas-1-to-3-years-130521005018?src=jobsearchDesk&sid=16211612469633748&xp=7&px=1',\n",
       " 'https://www.naukri.com/job-listings-sde-lead-data-scientist-l3-huawei-technologies-india-pvt-ltd-bangalore-bengaluru-5-to-8-years-120521901434?src=jobsearchDesk&sid=16211612469633748&xp=8&px=1',\n",
       " 'https://www.naukri.com/job-listings-computational-design-lead-data-scientist-l3-huawei-technologies-india-pvt-ltd-bangalore-bengaluru-5-to-8-years-120521901329?src=jobsearchDesk&sid=16211612469633748&xp=9&px=1',\n",
       " 'https://www.naukri.com/job-listings-data-scientist-ibm-india-pvt-limited-bangalore-bengaluru-6-to-8-years-110521907352?src=jobsearchDesk&sid=16211612469633748&xp=10&px=1',\n",
       " 'https://www.naukri.com/job-listings-senior-data-scientist-chatbot-nlp-gojek-tech-bangalore-bengaluru-3-to-7-years-060521500524?src=jobsearchDesk&sid=16211612469633748&xp=11&px=1',\n",
       " 'https://www.naukri.com/job-listings-senior-data-scientist-chatbot-nlp-go-jek-india-bangalore-bengaluru-5-to-10-years-050521500478?src=jobsearchDesk&sid=16211612469633748&xp=12&px=1',\n",
       " 'https://www.naukri.com/job-listings-hiring-for-lead-data-scientist-for-bangalore-location-societe-generale-global-solution-centre-pvt-ltd-bangalore-bengaluru-5-to-9-years-130521000901?src=jobsearchDesk&sid=16211612469633748&xp=13&px=1',\n",
       " 'https://www.naukri.com/job-listings-senior-data-scientist-kinara-capital-kinara-financial-private-limited-bangalore-bengaluru-5-to-10-years-060521500976?src=jobsearchDesk&sid=16211612469633748&xp=14&px=1',\n",
       " 'https://www.naukri.com/job-listings-senior-data-scientist-marketing-analytics-hudsons-bay-company-bangalore-bengaluru-2-to-4-years-140521501771?src=jobsearchDesk&sid=16211612469633748&xp=15&px=1',\n",
       " 'https://www.naukri.com/job-listings-data-scientist-applied-materials-india-private-limited-bangalore-bengaluru-2-to-4-years-070521901521?src=jobsearchDesk&sid=16211612469633748&xp=16&px=1',\n",
       " 'https://www.naukri.com/job-listings-data-scientist-senior-data-scientist-o9-solutions-management-india-private-limited-bangalore-bengaluru-2-to-7-years-010521000099?src=jobsearchDesk&sid=16211612469633748&xp=17&px=1',\n",
       " 'https://www.naukri.com/job-listings-principal-data-scientist-netapp-india-private-limited-bangalore-bengaluru-10-to-15-years-070521906988?src=jobsearchDesk&sid=16211612469633748&xp=18&px=1',\n",
       " 'https://www.naukri.com/job-listings-lead-data-scientist-sr-data-scientist-bditdomain-hyderabad-secunderabad-bangalore-bengaluru-mumbai-all-areas-8-to-10-years-030521004696?src=jobsearchDesk&sid=16211612469633748&xp=19&px=1',\n",
       " 'https://www.naukri.com/job-listings-data-scientist-techknowledgey-pte-ltd-bangalore-bengaluru-0-to-2-years-070521003138?src=jobsearchDesk&sid=16211612469633748&xp=20&px=1']"
      ]
     },
     "execution_count": 61,
     "metadata": {},
     "output_type": "execute_result"
    }
   ],
   "source": [
    "url_update=[]\n",
    "for i in url:\n",
    "    url_update.append(i.get_attribute('href'))\n",
    "url_update"
   ]
  },
  {
   "cell_type": "code",
   "execution_count": 62,
   "metadata": {},
   "outputs": [],
   "source": [
    "from selenium.common.exceptions import StaleElementReferenceException, NoSuchElementException\n",
    "\n",
    "full_job_description = [ ]\n",
    "urls=[i.get_attribute(\"href\")for i in driver1.find_elements_by_xpath(\"//a[@class='title fw500 ellipsis']\")]\n",
    "for url in urls:\n",
    "    try:\n",
    "        \n",
    "        driver1.get(url)\n",
    "        raw_description=driver1.find_element_by_xpath(\"//section[@class='job-desc']/div[1]\").text\n",
    "        full_job_description.append(raw_description)\n",
    "    except NoSuchElementException :\n",
    "        full_job_description.append(\"---\")\n",
    "        "
   ]
  },
  {
   "cell_type": "code",
   "execution_count": 63,
   "metadata": {},
   "outputs": [
    {
     "data": {
      "text/plain": [
       "[\"Job Role : Data Scientist/Data Analyst /Business Analyst\\n\\nLocation : Chennai/Bangalore/Hyderabad/Pune/Mumbai/Delhi\\n\\nGreetings from CAIA - Center for Artificial Intelligence & Advanced Analytics\\n43% of companies experienced a high deficit of skilled resources with Advanced Analytical skills and AI implementing capabilities in year 2020. CAIA gives you a great opportunity to enter the world of future technologies and Innovations- Data Science, Analytics, AI, Data Visualization and Cloud Computing.\\n\\nWhile 2020 was a year like no other, we are living in an interesting times where data is reshaping the world, and businesses are rapidly adopting technology to gain an edge over others. Hence, there's a substantial increase in demand for technology professionals who can implement systems in data science, machine learning and AI in Tier 1 and Tier 2 organization's working closely with us.\\n\\nTo help you build a sustainable career we would like you to utilize data, software and Analytical approaches in Data Science and AI to up skill and get recruited into an organization appreciating your skilling journey.\\nApplications invited from all Freshers and experienced candidates (0-3 yrs) aspiring to make a career in Artificial Intelligence and Advanced Analytics and Data Science.\\nIf you wish to make a shift in your career or undergo a career transition, upskilling is essential since it allows you to learn more about the domain and acquire the required skills.\\n\\nCall to schedule interview Monday -Saturday from 10:00 am to 7Pm\\n\\nManigandan -+91 7299917200\\n\\nEmail : manigandan@centerforaia.com\\n\\nWhat is needed from you?\\n\\nFreshers who wish to start their career in Analytics and AI and professionals who wish to\\nupskill or change their domain to analytics and emerging technologies are free to apply.\\nAn Educational background in any one of the following- BE/B.Tech, ME/M Tech, MSc, BSc/MSc Maths and Statistics, B Com, BCA, BSc CS, BSC IT, MSC IT, MCA\\nSkills relating to Mathematics/Statistics.\\nNatural passion towards numbers, business, coding, Analytics and Artificial Intelligence, Machine Learning, visualization\\nGood verbal and written communication skills\\nAbility to understand domains in businesses across various sectors\\n\\n\\nSelection procedure includes\\n\\nAptitude Test & Communication Exam - Online / Offline\\nSQL/Python test - Online / Offline\\n\\nCandidates who clears the above will have one-one discussion with our Career Guidance Manager for further evaluation and processing of your Resume.\\n\\n\\nAll the Shortlisted candidates will be eligible to continue the corporate training with CAIA\\nWhat you can expect from us?\\n\\nYou will get trained on the following modules for a period of 12-14 weeks:\\n\\nSQL & PLSQL\\nData Wrangling using Python\\nData Visualization Using Power-BI\\nStatistics for Machine Learning\\nArtificial Intelligence, Data Interpretation\\nSupervised & Unsupervised Learning,\\nNLP & Deep Learning\\nCloud Data Lake\\nBusiness intelligence & Data Visualization\\nSimulation Projects\\nExpected Outcome?\\n\\nAt the end of the Training you are expected to be well versed with the following:\\n\\nAnalysis of large and complex data sets from multiple sources\\nDevelopment and evaluation of data analytics models, algorithms and solutions\\nUnderstanding/implementation of ML algorithms, performance tuning and reporting\\nImplementation of algorithms to mine targeted data and the ability to convert data in to a business story\\nTranslation of business requirements into technical requirements; Data extraction, preparation and transformation\\nIdentification, development and implementation of statistical techniques and algorithms that address business challenges and adds value to the organization\\nRequirement Analysis and communication of findings in the form of a meaningful story with the stakeholders\\nFinding analytical solutions to abstract business issues.\\nApply objective analysis of facts before coming to a conclusion\\n\\nAbout CAIA - Inflexion Analytix Private Limited\\n\\nCenter for Artificial Intelligence and Advanced Analytics (Center for AIA) is the brainchild of experienced and visionary alumni of IIT Madras and Bombay.\\nDigital leaders - 5F World and Systech Solutions have joined hands to create a venture for architecting the future of society, workforce, governments and businesses. 5F World specializes in designing solutions around digital platforms and Systech Solutions has an expertise in architecting Artificial Intelligence and Advance Analytics solutions for Fortune 500 companies.\\nOur Website : http://www.centerforaia.com/\\n\\nhttps://inflexion-analytix-private-limited.business.site/?m=true\\n\\nCenter for Artificial Intelligence & Advanced Analytics (CAIA) focuses on the following:\\n\\n1. Global Research on emerging trends, technologies and applications in AI and Advanced Analytics\\n2. Advanced Training programs for readying the future ready workforce\\n3. Solutions to herald the futuristic lifestyle and workspaces in the field of AI and Data Science.\",\n",
       " 'We are seeking an outstanding Lead Data Scientist in AI/ML who will help our team continue to grow and bring high value to Intel. In this role you should demonstrate excellent problem formulation/definition skills in addition to technical skills. The ideal candidate should be:\\n\\nA professional role model with deep and wide expertise in state-of-the-art AI/ML techniques, a passion for solving challenging data science problems and extensive hands-on experience.\\nBe detail-oriented and have an aptitude for solving unstructured problems. You should be excellent in coming up with different approaches to solve business problem using AI and evaluate the trade-off between them.\\nBe self-directed, take charge of opportunities with business impact and drive them to completion.\\nHave prior experience in guiding a team of data scientists, coaching and mentoring them.\\nHave deep technical expertise in feature-engineering of massive datasets, effective exploratory data analysis, and model building using AI/ML techniques.\\nBe a role model innovator by adapting new AI/ML modeling techniques and procedures.\\nHave deep expertise in creation and management of datasets.\\nHave excellent business and communication skills to be able to work with stakeholders like the business teams, engineering teams and partner teams and align them with respect to your focus area.\\nHave the ability to manage and execute an entire AI project from start to finish, including problem solving, data gathering and manipulation, predictive modeling, and project management skills.\\nBe a role-model in storytelling with data and articulating the AI problems in an understandable manner to senior leadership of the Business Units.\\n\\nYou will be a part of the large global AI/ML Research Scientist community and will have access to state-of-the-art training, tools, and methods of the domain.\\n\\n\\nCandidates need to hold at least a masters degree (or higher) in Computer Science/Machine Learning/AI/Data Science\\n8 years of relevant experience in building AI/ML models and in using Python (Scikit-learn, TensorFlow/Pytorch) and SQL (or equivalent).\\nExperience in using data analysis techniques and ML methods like classification, regression pattern finding, clustering, dimensionality reduction, anomaly detection etc.\\nExperience with Hadoop, Spark is an advantage\\nDeep Knowledge of classical AI algorithms and Deep Learning techniques is a must.\\nGreat analytical skills and demonstrated ability of independent and creative thinking.\\nHighly motivated strong team player with the ability to work both independently and collaboratively within a team.\\nHas strong analytical skills, including the abilities to scope out business problems to be solved, start from ambiguous problem statements, identify and access relevant data, make appropriate assumptions, perform insightful analysis and draw conclusions relevant to the business problem.\\nAbility to present information professionally and concisely with supporting data.\\nPrevious experience as a data scientist in semi-conductor industry or data intensive organizations is a plus.\\nExperience in creating powerful data driven visualizations to describe ML modeling results to stakeholders.',\n",
       " 'We wont say we can predict the future, but our team of Analysts get pretty close, they turn millions of data points into useful information & insights that help our clients to make better decisions on their marketing mix and achieve superior results. Be part of the future and join in on one of the major transformations in the market research industry with the integration of big data and classic marketing mix analysis.\\n\\nResponsibilities:\\nDeliver as a part of our consultant team in driving high quality results on custom project work\\nEnsure effective and timely delivery of project work\\nWork towards understanding statistical models and deliver business insights and findings\\nEnsure compliance to Marketing Mix Modeling modeling practices and company quality standards\\nMaximize the efficient and effective use of resources by utilizing appropriate processes and tools\\nTo build and maintain effective contacts with other departments to ensure the efficient and effective use of resources\\nLiaise with appropriate Marketing Mix Modeling and Nielsen departments to ensure hardware and software requirements are fulfilled\\nWork with co/ third party modellers to deliver business insights and findings\\n\\nQualifications and Skills\\n2-5 years of relevant experience\\nMasters degree in Economics, Mathematics, Statistics, Engineering\\nIn-depth understanding of statistical modeling techniques and applications\\nGood and working knowledge of any statistical languages like SAS, R, Pythons\\nSolid proficiency of decision making and problem resolution skills\\nPassion for results with a challenger mindset\\n\\nAbout the Team:\\nGlobal Product, Technology & Operations supports Nielsen Medias growth strategy by enabling positive client and market solutions. Our Operations Team is in a unique position as the center of data collection, analysis and delivery. We deliver outcomes with the highest quality and integrity standards in an agile and transparent way while standing by our Nielsen values.',\n",
       " '---',\n",
       " '---',\n",
       " 'Responsibilities and duties Focus on developing clear and concise analytical approach for problem solving with client partnership\\nStrong understanding of ML libraries and applications e.g. Neural Net, SVMs, boosting methods and implementation using R/Python. Should have academic paper level understanding of math e.g. linear algebra, calculus etc.\\nAbility to code on SAS/R for data munging, analysis and insights and/or languages like Python for creating efficient production ready code\\nManaging delivery of projects including timely communication, setting milestones and tracking Generating actionable insights for business/KPI improvements Ability to work independently, structure analyses and handle multiple priorities Develop and Maintaining Credit Risk Models Strategies Rich experience in at least one production ready deployment of Machine Learning algorithms is a plus. Experience in working on real life large messy dataset to solve real business problems. Kaggle experience is a plus.\\n  Skills Competencies: Experience in Financial Services/ Fintech/ BFSI along with Credit Risk in Retail Banking and Data Science 5 years of experience in building predictive models (Application Scorecard, Behaviour Scorecard, Collection Score Card, Loan Pricing, Loss Forecasting, Cross Sell Model) Experienced Statistical software skills (e.g. SAS, R, Python Strong understanding of ML libraries and applications. Strong experience in leading credit risk model development, validation, deployment, and documentation Analytically oriented with ability to grasp complex risk management strategies, processes, models and draw insights / identify areas of opportunity\\nStrong track record of delivering on high value / critical projects. Ability to communicate with senior stakeholders crisply and confidently on findings, status, bottlenecks, and escalations\\nProven track record of delivering in a start-up environment would be a plus Strong written and oral communication skills',\n",
       " '---',\n",
       " 'Business & Team overview:\\nFounded in 1987, Huawei is a leading global provider of ICT (information and communications technology) infrastructure and smart devices. We are committed to bringing digital to every person, home and organization for a fully connected, intelligent world. We have nearly 194,000 employees, and we operate in more than 170 countries and regions, serving more than 3 billion people around the world.\\n\\nHuawei Technologies has three business directions: Carrier Business Group, which provides innovative and secure network equipment to telecom carriers, including the leading 5G mobile network.\\nEnterprise Business Group, which provides facilities and solutions to big and small companies, including IT facilities.\\nConsumer Business Groups, which provides devices to the customer, including mobile phones, PC, tablet, TV, audio, glasses, watches, locomotives, and headphones. And also provide solutions on mobile offices, smart homes, sports and health, audio-visual entertainment, and smart travel products.\\n\\nThis opportunity is belong to Huawei Consumer Business Group.\\n\\nDriven by the coordinated development of \"Chip-Device-Cloud\", consumer products such as smartphones are becoming increasingly intelligent and pervasive. The era of smart services is the future.\\n\\nHuawei Ads Services is dedicated to provide Huawei end-users with high-quality digital experiences, to build a business closed-loop system for Developers and Improve the ROI for the Advertisers\\n.\\nIn 2020 Q1, along with more than 650 million users and 1,400,000 registered developers worldwide, we have the following unique advantages:\\n1. With All-scenario intelligent solution, the Huawei devices become super entrance of traffic, including mobile phones, PC, tablet, TV, audio, glasses, watches, locomotives, and head phones\\n2. This team will be responsible for building a new Ad Serving Platform and have the opportunity to define the product for our Huawei end-users.\\n3. AI-Driven is the direction of Ads, Huawei is going to build a strong team in India to Innovate and deliver AI-driven Smart Ad Serving Platforms\\n\\nJob Title: Lead Data Scientist\\nWe are looking for a Lead data scientist who will help us discover the information hidden in vast amounts of Ad Campaign data, and help us to optimize the campaign to improve the advertiser ROI and improve the overall consumer experience. Your primary focus will be in applying data mining techniques, doing statistical analysis, and building high quality prediction systems using Deep learning algorithms integrated with our products. Some the key area you will be working on spend recommendation, floor price prediction, CTR/CVR prediction, market funnel analysis and perdition of lead to conversion, etc.\\n\\nResponsibility:\\nAnalyze the data, develop insights and identify the opportunity to utilize the data to predict various Advertisement key indicators like CTR, CVR, Inventory and Develop prediction and optimization algorithms for campaign, look alike modeling, etc for Huawei Ads.\\nTakeup key challenges in AI-driven Smart Ad Serving Platform and focus on research and developing leading AI algorithms and productionize for Huawei Ads.\\nTakeup initiative in identifying the SOTA and finding key gaps in AI algorithms and develop a world leading AI algorithms for optimizing real-time Ad Serving engine. Identify and optimize the core modules such as Traffic Prediction, Optimization, Ad Targeting/Re-targeting, Ad Performance Optimization, Audience insights, Attribution, Bidding, re-ranking, and Diagnostics. Support hundreds of billions of ad requests per day, with efficiently cache technology.\\nTo build and enhance Ad platform features and Prediction capabilities in Huawei Ads Platform\\nOptimized Cost Per Mille; Optimized Cost Per Action; Optimized Cost Per Click and Cost per Click. OCPM, OCPA, OCPC.\\n\\nRequirements:\\n- Strong hands-on experience in implementing and validating big data algorithms and models including Deep Learning models like Seq2Seq/ GRU/RNN/LSTM , Knowledge Graph, Massive Graph algorithms, etc.\\n- Programming experience with Python\\n- Able to validate existing models including Deep Learning models with large scale dataset and able to make changes to the models to achieve better performance\\n- AdServing domain Experience is an added advantage',\n",
       " 'Business & Team overview:\\nFounded in 1987, Huawei is a leading global provider of ICT (information and communications technology) infrastructure and smart devices. We are committed to bringing digital to every person, home and organization for a fully connected, intelligent world. We have nearly 194,000 employees, and we operate in more than 170 countries and regions, serving more than 3 billion people around the world.\\n\\nHuawei Technologies has three business directions: Carrier Business Group, which provides innovative and secure network equipment to telecom carriers, including the leading 5G mobile network.\\nEnterprise Business Group, which provides facilities and solutions to big and small companies, including IT facilities.\\nConsumer Business Groups, which provides devices to the customer, including mobile phones, PC, tablet, TV, audio, glasses, watches, locomotives, and headphones. And also provide solutions on mobile offices, smart homes, sports and health, audio-visual entertainment, and smart travel products.\\n\\nThis opportunity is belong to Huawei Consumer Business Group.\\n\\nDriven by the coordinated development of \"Chip-Device-Cloud\", consumer products such as smartphones are becoming increasingly intelligent and pervasive. The era of smart services is the future.\\nHuawei Ads Services is dedicated to provide Huawei end-users with high-quality digital experiences, to build a business closed-loop system for Developers and Improve the ROI for the Advertisers\\n.\\nIn 2020 Q1, along with more than 650 million users and 1,400,000 registered developers worldwide, we have the following unique advantages:\\n1. With All-scenario intelligent solution, the Huawei devices become super entrance of traffic, including mobile phones, PC, tablet, TV, audio, glasses, watches, locomotives, and head phones\\n2. This team will be responsible for building a new Ad Serving Platform and have the opportunity to define the product for our Huawei end-users.\\n3. AI-Driven is the direction of Ads, Huawei is going to build a strong team in India to Innovate and deliver AI-driven Smart Ad Serving Platforms\\n\\n1. Job Title: Computational Design Lead Data Scientist\\n\\nResponsibility:\\nTake-up Key creative tools of the creative platform for Advertisers, research and develop breakthrough CNN based deep learning algorithms to solve the problem unique in the industry and productionize the algorithms, measure the ad creative performance and enhance the algorithm to ease the Ad Designer job.\\nDevelop the common AI platforms and frameworks to ease the experimentation of the Algorithms for creative Design.\\nTo build ability to understand the advertisers intent and provide creative assistance every step of creating all types of adverts\\nResponsible for intelligent identification of advertising creatives (pictures, videos) and related algorithms of content understanding.\\nResponsible for Image Synthesis, Intelligent Layout, Style Transfer, and other image processing, computing and visual processing, to improve the aesthetic level of advertising creativity.\\nResponsible for designing algorithms for suggesting how to intelligently crop and position an image for maximum effect, identify the optimal placement of text and copywriting.\\nResponsible for the algorithm and model of dynamic matching of advertising program creativity and dynamic creation of advertising content\\n\\nRequirements:\\nDeep knowledge of Computational Design\\nExperience on Intelligent composition, including image cropping, smart layout, the Gold Ratio composition, visual extension.\\nExperience computer vision models, including image/video recognition and content understanding.\\nExperience in algorithms such as image and video segmentation, separation, synthesis, and intelligent layout with engineering platform implementation capability.\\nStrong Knowledge Algorithms such as Image segmentation, object detection, Image processing (filtering, noise removal, histogram thresholding, etc.), object tracking, image transformation (affine transform, dewarping), keypoint detection/description, etc (and experience in using Computer vision Libraries)\\nStrong Knowledge in CNN, R-CNN, GAN, LSTM, GRU, Multimodal feature Learning, ASR, NLU, NLG, Copywriting and KG will be an added advantage\\nStrong logic/probability thinking ability and be good at analyzing, summarizing, describing, communicating, and solving problems\\nWorking experience in related online advertising products/creative platform is preferred\\nWorking experience in Computer Vision (CV) to enhance user artistic creativity while creating creatives/adverts is preferred\\nAbility to identify trends of advertising creative platform.',\n",
       " '---',\n",
       " 'What You Will Do\\nWork with Data Scientists, Machine Learning Engineers, and Business Users to build, deploy, and scale Data Science solutions on chatbots and intend detection models for instance\\nUse your experience in Data Science, Machine Learning, Software Engineering, and distributed systems to develop these system; work with the engineering team to take the systems to production\\nDesign and develop world class Data Science solutions to bring ML chatbot technology to life at Gojek\\nBecome Chatbot and NLP expert at Gojek, influence the roadmap and build ML systems; be a hands-on technical leader\\nPartner with PMs and Operation to define where can ML be leveraged further design solutions\\nWhat You Will Need\\nAt least 8 years of experience as a Data Scientist/Machine Learning Engineer, with experience in Python, Unix and specialised in NLP and chatbot\\nA Masters Degree in Computer Science, Statistics, Operation research or other quantitative fields\\nSolid knowledge of Data Science and Machine Learning fundamentals, with proven experience to formulate Data Science solutions to business problems\\nExperience in taking Data Science models from ideation to production\\nPrior experience in building chatbots and NLP ML system and bringing them to production\\nAbility to provide strong technical mentorship to the Data science team working on NLP systems',\n",
       " '  What You Will Do\\nWork with Data Scientists, Machine Learning Engineers, and Business Users to build, deploy, and scale Data Science solutions on chatbots and intend detection models for instance\\nUse your experience in Data Science, Machine Learning, Software Engineering, and distributed systems to develop these system; work with the engineering team to take the systems to production\\nDesign and develop world class Data Science solutions to bring ML chatbot technology to life at Gojek\\nBecome Chatbot and NLP expert at Gojek, influence the roadmap and build ML systems; be a hands-on technical leader\\nPartner with PMs and Operation to define where can ML be leveraged further design solutions\\nWhat You Will Need\\nAt least 8 years of experience as a Data Scientist/Machine Learning Engineer, with experience in Python, Unix and specialised in NLP and chatbot\\nA Masters Degree in Computer Science, Statistics, Operation research or other quantitative fields\\nSolid knowledge of Data Science and Machine Learning fundamentals, with proven experience to formulate Data Science solutions to business problems\\nExperience in taking Data Science models from ideation to production\\nPrior experience in building chatbots and NLP ML system and bringing them to production\\nAbility to provide strong technical mentorship to the Data science team working on NLP systems',\n",
       " \"We are hiring for Lead data Scientist for Bangalore location\\n\\nSkills and Qualifications\\nBachelors or Masters degree in Computer Science from a premier technology institute in India.\\nShould have very strong academic background, inherent drive towards studies, research and demonstrate passion in AI research through his curriculum activities.\\nGood skills with Python as primary programming language\\nShould have good awareness on entire machine learning/ predictive modeling & implementation.\\nGood knowledge and exposure/experience with common data science toolkits such as Scikit, NumPy\\nGood knowledge on statistics skills, such as distributions, statistical testing, regression, etc.\\nProficiency/knowledge with any one NoSQL databases such as MongoDB, Cassandra, HBase.\\nKnowledge in developing APIs, services using either C# or Java is a plus\\nSelf-motivated, quick learner, should be able to understand the context of the requirement and be able to devise approaches to identify analysis methodologies\\nAdequate presentation and communication skills to explain results and methodologies to non-technical audience.\\nResponsibilities\\nPropose innovative deep/machine learning approaches, algorithms that add value to the INO product portfolio. Conduct & deliver experiments and proof of concepts to validate.\\nGood to have his publications on research in international journals, symposiums.\\nDemonstrates interest to study research papers, build prototypes based on it, deliver experimental features to incorporate in existing and new products.\\nPerforms exploratory analysis to establish possible new areas for research and improvements in products.\\nDevelop novel algorithms and solutions which can be potentially patented for IP\\nKeep abreast of the latest innovations and happenings in the world of NLP, deep learning and other AI fields. Conduct technical sessions to share these with the AI team through technical sessions and help elevate the knowledge levels.\\nCollaborate closely with development/projects teams in INO AI CoE to conduct research investigations and analysis to develop models that help finalise the implementation approach. Assist in implementing models into eventual business use environments to unlock value.\\nSubmit papers and publications in industry recognized conferences and academics, basis the outcome of research conducted.\\nAbility to dive deep into problem areas of Societe Generale's interest and invent innovative technology solutions to not only advance the current products, but also to generate new product options that can provide significant strategic advantage to the group.\\nIdentify right open source tools to deliver product features by performing research, POC/Pilot and/or interacting with various open source forums\\n\\n\\n\\nInterested candidates share your resume on astonjon.assis@socgen.com with below details\\n\\nTotal Exp:\\nRelevant Exp:\\nNotice period:\\n\\nRegards,\\nAston\",\n",
       " 'We are looking for a smart and experienced analytics manager who can lead a team of analysts to build and deploy predictive models to infuse core business functions with deep analytical insights. The Senior Data Scientist will also work closely with the Kinara management team to investigate strategically important business questions.\\nLead a team through the entire analytical life cycle: define the problem statement build and clean datasets exploratory data analysis\\napply ML algorithms and assess the performance\\ncodify for deployment Communicate Analysis to Stakeholders\\nManage Data Analysts and Data Scientists\\ncomputer science/math/engineering from a top university Skills:\\nYou should be a deeply curious person with a lot of humility and aptitude in Math and Stats to go along with your technical skills. More specifically:\\nStudies in Data Science/ Stats or other quantitative fields (CS, Eng, Math, Econ)\\n5+ years in an analytical professional role with 3+ years in a leadership role.\\nExcellent communication skills (written, verbal, and data viz). English Fluency.\\nComfort with programming (eg Python), stats tools (Pandas or R), and SQL.\\nWorking knowledge of support tools and utilities (AWS, Git, Airflow, PySpark).\\nDomain knowledge in Financial Services a big plus.\\nInitiative, Energy, Bias for Action, and a commitment to our social mission.',\n",
       " '  The successful candidate will primarily focus on driving business results through the development and execution of world class analytics designed to meet evolving business needs. They will support HBC s strategies through the delivery of best of breed campaign management, measurement of all-channel and cross banner marketing promotions, the extraction of key analytical insights, and by providing customer centric recommendations. The scope of work spans across HBC banners and includes both store and ecomm channels. The ability to think strategically about customer and business challenges and proactively propose solutions will be critical to their success. Forward thinking is the key to this role as new technologies and opportunities present themselves.\\nWho You Are: Gather and translate business requirements on key projects\\nEffectively manage project assignments and documentation, including establishing and communicating overall priority and defining project scope, deliverables and timing. Communicate assignment status against goals ongoing.\\nGenerate ad-hoc reporting/customer profiling and conduct customer analysis based on various models and segmentation including demographic, behavioral and migration trends to support various Hbc initiatives and inquiries by extracting financial, demographic and sales history information via HBC s customer database.\\nGenerate customer-profiling analysis, campaign lists and post campaign analysis in support of various marketing and other CRM initiatives. Develop and present clear and comprehensive findings/recommendations to leadership on key initiatives. You also have: 6 years structuring databases and manipulating large data sets 5 + years writing code in relevant languages (e.g. Pyt hon, PySpark, Snowflake , Hive, SQL, Java or Scala) 2 to 4 years of experience/working knowledge on Amazon S3, EC2, EMR years of experience in marketing analytics and database marketing. 2 to 3 years of experience in supporting personalization strategies for an e-commerce industry. Retail experience preferred. Bachelors degree required; preferably in Engineering, Mathematics, Statistics or Computer Science Strong Microsoft Excel skills. Ability to code macros in VBA a plus. Proven ability to apply findings to business problems to lift revenue and profits. Knowledge of web analytics packages (e.g. Omniture, Coremetrics or Google Analytics). As The Sr. Data Scientist, you will: Understand business needs to define data models/algorithm needs; generating insights from complex data questions Ensure consistency in testing reads, tracking success criteria Ensure single source of truth in data Work collaboratively with other team members to define the advanced analytical modeling capabilities and outcomes required to enable marketing personalization use cases\\nWork collaboratively with the other Analysts, Data Engineers, and Data Architects to identify and spec the data fields and data features needed for analytical models, and adapting and testing them\\nDesign the test and learn / measurement approaches and techniques for newly deployed use cases Work with team to build, manage and measure lifts from test and control populations Work with Data Engineers and Systems Specialists to operationalize models to scale use cases\\nWork with other members of the Marketing and Tech teams including Data, Analytics, and Product teams to peer review code, write unit tests, and provide feedback on data structuring and modeling approaches + scalability as required\\nBe a SME of all data sources such as browse, all channel transactions, product, market research, credit, loyalty and 3rd party data to drive efficiencies, maximize profitability, drive customer loyalty, and optimize promotional strategies.\\nParticipate in the strategic development of system capabilities within advanced analytics and modeling, data mining and database marketing Support Customer Analytics group through ownership of specific personalization goals Develop fact-based strategic and tactical business plans/presentations for leadership on key marketing initiatives Own and manage key vendor relationships for the analytics group Partner closely with Product teams and IT development teams to build necessary project plans and work streams to support delivery of personalization objectives',\n",
       " '---',\n",
       " 'Be part of something revolutionary\\nWe have a vision. Our Digital Brain, o9s AI-powered platform, is being used by global enterprises to drive their digital transformations. The integrated planning and operational efficiencies we provide is helping businesses do more, be more and mean more to the world at large. Because businesses that plan better, reduce waste, creating value for themselves and the planet.\\nBut we also have a vision for our people. We want the most talented, committed and driven people to power our transformative approach. In return, we’ll provide a nurturing environment where you can be a part of something special.\\nJob title - Senior Data Scientist / Data Scientist – Customer Success\\nWhat you’ll do for us\\nAnalyze problems by synthesizing complex information, evaluating alternate methods, and articulating the result with the relevant assumptions/reasons\\nApply a variety of machine learning techniques (clustering, regression, ensemble learning, neural nets, time series, optimizations etc.) to their real-world advantages/drawbacks to develop or optimize planning solutions\\nActively monitor, validate, root cause and tune statistical, time series, ML, optimization models\\nOptimise, scale & deploy ML models using o9’s open big data cloud platform\\nEvaluate/test additional data streams, parameters, algorithms to enhance models post go-live and develop new models to improve existing ones\\nResponsible for solution usability and uptime by resolving any customer issues in a timely fashion, ensuring accuracy of inputs and outputs\\nIdentify any design issues in the existing model and co-ordinate with other o9 consultants and data sceintists to solve the business problem. Be the single point of contact for any platform level upgrade/patch/hot fix.\\nWork with customer data science teams and support Super User and End User training, for a global user base.\\nWhat you’ll have\\nMandatory:\\n2+ years of experience in the field of Data Science and Analytics. Data Scientist or Sr Data Scientist will be decided based experience, knowledge, and interview performance.\\nStrong programming skills and experience in using Python and/or R for Data Science\\nStrong analytical techniques, data mining knowledge and proficiency in handling and processing large amounts of data is needed\\nDeep Knowledge of statistical and machine learning algorithms\\nExperience in maintenance and/or building of scalable ML frameworks by identifying and collecting relevant input data, feature engineering, tuning, and testing.\\nStrong presentation and communications skills\\nBachelors Degree in Computer Science, Mathematics, Statistics, Economics, Engineering or related field\\nNice to have:\\nExperience in time series forecasting in scale using heuristic based hierarchical best-fit models using algorithms like exponential smoothing, ARIMA, prophet and custom parameter tuning\\nExperience in applied analytical methods in the field of Supply chain and planning, like demand planning, demand sensing, supply planning, market intelligence, optimal assortments/pricing/inventory etc.\\nExperience with SQL, databases and ETL tools or similar is optional but preferred\\nExposure to distributed data/computing tools: Map/Reduce, Hadoop, Hive, Spark, Gurobi, or related Big Data technologies\\nExperience with Deep Learning frameworks such as Keras, Tensorflow or PyTorch is preferable but not essential\\nExperience in implementing planning applications will be a plus\\nUnderstanding of Supply Chain Concepts will be preferable\\nWhat we’ll do for you\\nCompetitive salary\\nExposure: Work with the biggest brands in the world in an international environment\\nFlexibility: Work from home two days a week. Get up a bit later, skip the commute and put the time back into your deadlines.\\nGet social: When we work from home, we play from home with fun after-work activities like Friday Socials. If you’re in the office, feel free to join these events in person.\\nFlat organization: With a very strong entrepreneurial culture (and no corporate politics).\\nSupport network: Work with a team you can learn from and every day.\\nDiversity: We pride ourselves on our international working environment.\\nHow the process works\\nApply by clicking the button below.\\nYou’ll be contacted by our recruiter, Shivani Anthony, who’ll fill you in on all things at o9, give you some background about the role and get to know you. They’ll contact you either via video call or phone call - whatever you prefer.\\nYou may be required to take an online data science test\\nDuring the interview phase, you will meet with technical panels for 60 minutes. The recruiter will contact you after the interview to let you know if we’d like to progress your application.\\nWe will have 3 rounds of Technical discussion followed by an HR discussion\\nOur recruiter will let you know if you’re the successful candidate.\\n\\nGood luck!',\n",
       " '---',\n",
       " \"Roles and Responsibilities\\n\\n8+ years experience using core analytics methods, Predictive Modeling, Machine Learning, Simulation, and Optimization.\\nExperience in delivering data-science projects including productizing in cloud platforms, especially Amazon Web Services (AWS)\\nCompleted a Bachelor's degree in engineering, computer science, mathematics or related field. Graduate degree is a plus.\\nKnowledge of a variety of machine learning techniques (clustering, decision tree learning, artificial neural networks, etc.) and their real-world advantages/drawbacks.\\nKnowledge of advanced statistical techniques and concepts (regression, properties of distributions, statistical tests and proper usage, etc.) and experience with applications.\\n\\n\\nDesired Candidate Profile\\n\\nData visualization skills.\\nExperience with Scrum/Agile development methodologies\\nExcellent communication and client facing skills is a must, with good business acumen and hands-on coding experience\\nExperience in working with clients in the Life sciences, healthcare, especially pharma industry experience\\nPerks and Benefits\",\n",
       " \"WHAT WE NEED\\nPh.D. or Masters or Bachelor's in computer science, Electrical / Computer Engineering\\nOperations Research, Industrial Engineering or Mathematics / Statistics\\n3- 5 years of relevant working experience\\nProficient in RDBMS such as PostgresQL or MySQL.\\nExpertise in Python along with expertise in (either one or both) Tensorflow/Pytorch.\\nPractical experience in creating large scale recommender systems would be a huge plus (but is not a mandatory requirement)\\nExperience in training Transformers from scratch would be a huge plus (but is not mandatory requirement).\\nPrior experience of working with Variational Autoencoders would be a huge plus (but is not a mandatory requirement)\\nDeep understanding of statistical and predictive modelling concepts\\nStrong understanding of the practical applications of machine-learning approaches around supervised and unsupervised learning tasks.\\nExperience in building ML models at scale, using real-time big data pipelines on platforms such as Spark/MapReduce.\\nFamiliar with noSQL, postGIS, stream processing and distributed computing platforms\\nWorking knowledge of Big Data technologies such as Hadoop, MPP Databases, or stream processing techniques.\\nExperience working independently and, in a team,\\nSelf-motivated, independent learner, and willing to share knowledge with team members\\nDetail-oriented and efficient time manager in a dynamic and fast-paced working environment\"]"
      ]
     },
     "execution_count": 63,
     "metadata": {},
     "output_type": "execute_result"
    }
   ],
   "source": [
    "full_job_description"
   ]
  },
  {
   "cell_type": "code",
   "execution_count": 71,
   "metadata": {},
   "outputs": [
    {
     "name": "stdout",
     "output_type": "stream",
     "text": [
      "20 20 20 20\n"
     ]
    }
   ],
   "source": [
    "print(len(full_job_description),len(organization_name),len(job_location),len(job_title))"
   ]
  },
  {
   "cell_type": "code",
   "execution_count": 72,
   "metadata": {},
   "outputs": [],
   "source": [
    "df1=pd.DataFrame({})"
   ]
  },
  {
   "cell_type": "code",
   "execution_count": 73,
   "metadata": {},
   "outputs": [],
   "source": [
    "df1['Job_title']=job_title"
   ]
  },
  {
   "cell_type": "code",
   "execution_count": 74,
   "metadata": {},
   "outputs": [],
   "source": [
    "df1['job_location']=job_location"
   ]
  },
  {
   "cell_type": "code",
   "execution_count": null,
   "metadata": {},
   "outputs": [],
   "source": [
    "df1['company_name']=company_name"
   ]
  },
  {
   "cell_type": "code",
   "execution_count": 75,
   "metadata": {},
   "outputs": [],
   "source": [
    "df1['full_job_description']=full_job_description"
   ]
  },
  {
   "cell_type": "code",
   "execution_count": 76,
   "metadata": {},
   "outputs": [
    {
     "data": {
      "text/html": [
       "<div>\n",
       "<style scoped>\n",
       "    .dataframe tbody tr th:only-of-type {\n",
       "        vertical-align: middle;\n",
       "    }\n",
       "\n",
       "    .dataframe tbody tr th {\n",
       "        vertical-align: top;\n",
       "    }\n",
       "\n",
       "    .dataframe thead th {\n",
       "        text-align: right;\n",
       "    }\n",
       "</style>\n",
       "<table border=\"1\" class=\"dataframe\">\n",
       "  <thead>\n",
       "    <tr style=\"text-align: right;\">\n",
       "      <th></th>\n",
       "      <th>Job_title</th>\n",
       "      <th>job_location</th>\n",
       "      <th>full_job_description</th>\n",
       "    </tr>\n",
       "  </thead>\n",
       "  <tbody>\n",
       "    <tr>\n",
       "      <th>0</th>\n",
       "      <td>Data Scientist / Data Analyst -Business Analyst</td>\n",
       "      <td>Mumbai, Hyderabad/Secunderabad, Pune, Gurgaon/...</td>\n",
       "      <td>Job Role : Data Scientist/Data Analyst /Busine...</td>\n",
       "    </tr>\n",
       "    <tr>\n",
       "      <th>1</th>\n",
       "      <td>Lead Data Scientist</td>\n",
       "      <td>Bangalore/Bengaluru</td>\n",
       "      <td>We are seeking an outstanding Lead Data Scient...</td>\n",
       "    </tr>\n",
       "    <tr>\n",
       "      <th>2</th>\n",
       "      <td>Senior Data Scientist, Modeling</td>\n",
       "      <td>Kolkata, Gurgaon/Gurugram, Bangalore/Bengaluru...</td>\n",
       "      <td>We wont say we can predict the future, but our...</td>\n",
       "    </tr>\n",
       "    <tr>\n",
       "      <th>3</th>\n",
       "      <td>Data Scientist - IBM Garage</td>\n",
       "      <td>Noida, Hyderabad/Secunderabad, Bangalore/Benga...</td>\n",
       "      <td>---</td>\n",
       "    </tr>\n",
       "    <tr>\n",
       "      <th>4</th>\n",
       "      <td>Data Scientist</td>\n",
       "      <td>Noida, Hyderabad/Secunderabad, Bangalore/Benga...</td>\n",
       "      <td>---</td>\n",
       "    </tr>\n",
       "    <tr>\n",
       "      <th>5</th>\n",
       "      <td>Senior Data Scientist - Credit risk</td>\n",
       "      <td>Bangalore/Bengaluru</td>\n",
       "      <td>Responsibilities and duties Focus on developin...</td>\n",
       "    </tr>\n",
       "    <tr>\n",
       "      <th>6</th>\n",
       "      <td>Big Data - Data Scientist</td>\n",
       "      <td>Kochi/Cochin, Indore, Hyderabad/Secunderabad, ...</td>\n",
       "      <td>---</td>\n",
       "    </tr>\n",
       "    <tr>\n",
       "      <th>7</th>\n",
       "      <td>SDE Lead Data Scientist-L3</td>\n",
       "      <td>Bangalore/Bengaluru</td>\n",
       "      <td>Business &amp; Team overview:\\nFounded in 1987, Hu...</td>\n",
       "    </tr>\n",
       "    <tr>\n",
       "      <th>8</th>\n",
       "      <td>Computational Design Lead Data Scientist-L3</td>\n",
       "      <td>Bangalore/Bengaluru</td>\n",
       "      <td>Business &amp; Team overview:\\nFounded in 1987, Hu...</td>\n",
       "    </tr>\n",
       "    <tr>\n",
       "      <th>9</th>\n",
       "      <td>Data Scientist</td>\n",
       "      <td>Bangalore/Bengaluru</td>\n",
       "      <td>---</td>\n",
       "    </tr>\n",
       "    <tr>\n",
       "      <th>10</th>\n",
       "      <td>Senior Data Scientist - Chatbot &amp; NLP</td>\n",
       "      <td>Bangalore/Bengaluru</td>\n",
       "      <td>What You Will Do\\nWork with Data Scientists, M...</td>\n",
       "    </tr>\n",
       "    <tr>\n",
       "      <th>11</th>\n",
       "      <td>Senior Data Scientist - Chatbot &amp; NLP</td>\n",
       "      <td>Bangalore/Bengaluru</td>\n",
       "      <td>What You Will Do\\nWork with Data Scientists,...</td>\n",
       "    </tr>\n",
       "    <tr>\n",
       "      <th>12</th>\n",
       "      <td>Hiring For Lead data Scientist For Bangalore l...</td>\n",
       "      <td>Bangalore/Bengaluru</td>\n",
       "      <td>We are hiring for Lead data Scientist for Bang...</td>\n",
       "    </tr>\n",
       "    <tr>\n",
       "      <th>13</th>\n",
       "      <td>Senior Data Scientist - Kinara Capital</td>\n",
       "      <td>Bangalore/Bengaluru</td>\n",
       "      <td>We are looking for a smart and experienced ana...</td>\n",
       "    </tr>\n",
       "    <tr>\n",
       "      <th>14</th>\n",
       "      <td>Senior Data Scientist, Marketing Analytics</td>\n",
       "      <td>Bangalore/Bengaluru</td>\n",
       "      <td>The successful candidate will primarily focu...</td>\n",
       "    </tr>\n",
       "    <tr>\n",
       "      <th>15</th>\n",
       "      <td>Data Scientist</td>\n",
       "      <td>Bangalore/Bengaluru</td>\n",
       "      <td>---</td>\n",
       "    </tr>\n",
       "    <tr>\n",
       "      <th>16</th>\n",
       "      <td>Data Scientist/ Senior Data Scientist</td>\n",
       "      <td>Bangalore/Bengaluru</td>\n",
       "      <td>Be part of something revolutionary\\nWe have a ...</td>\n",
       "    </tr>\n",
       "    <tr>\n",
       "      <th>17</th>\n",
       "      <td>Principal Data Scientist</td>\n",
       "      <td>Bangalore/Bengaluru</td>\n",
       "      <td>---</td>\n",
       "    </tr>\n",
       "    <tr>\n",
       "      <th>18</th>\n",
       "      <td>Lead Data Scientist /Sr. Data Scientist</td>\n",
       "      <td>Hyderabad/Secunderabad, Bangalore/Bengaluru, M...</td>\n",
       "      <td>Roles and Responsibilities\\n\\n8+ years experie...</td>\n",
       "    </tr>\n",
       "    <tr>\n",
       "      <th>19</th>\n",
       "      <td>Data Scientist</td>\n",
       "      <td>Bangalore/Bengaluru</td>\n",
       "      <td>WHAT WE NEED\\nPh.D. or Masters or Bachelor's i...</td>\n",
       "    </tr>\n",
       "  </tbody>\n",
       "</table>\n",
       "</div>"
      ],
      "text/plain": [
       "                                            Job_title  \\\n",
       "0     Data Scientist / Data Analyst -Business Analyst   \n",
       "1                                 Lead Data Scientist   \n",
       "2                     Senior Data Scientist, Modeling   \n",
       "3                         Data Scientist - IBM Garage   \n",
       "4                                      Data Scientist   \n",
       "5                 Senior Data Scientist - Credit risk   \n",
       "6                           Big Data - Data Scientist   \n",
       "7                          SDE Lead Data Scientist-L3   \n",
       "8         Computational Design Lead Data Scientist-L3   \n",
       "9                                      Data Scientist   \n",
       "10              Senior Data Scientist - Chatbot & NLP   \n",
       "11              Senior Data Scientist - Chatbot & NLP   \n",
       "12  Hiring For Lead data Scientist For Bangalore l...   \n",
       "13             Senior Data Scientist - Kinara Capital   \n",
       "14         Senior Data Scientist, Marketing Analytics   \n",
       "15                                     Data Scientist   \n",
       "16              Data Scientist/ Senior Data Scientist   \n",
       "17                           Principal Data Scientist   \n",
       "18            Lead Data Scientist /Sr. Data Scientist   \n",
       "19                                     Data Scientist   \n",
       "\n",
       "                                         job_location  \\\n",
       "0   Mumbai, Hyderabad/Secunderabad, Pune, Gurgaon/...   \n",
       "1                                 Bangalore/Bengaluru   \n",
       "2   Kolkata, Gurgaon/Gurugram, Bangalore/Bengaluru...   \n",
       "3   Noida, Hyderabad/Secunderabad, Bangalore/Benga...   \n",
       "4   Noida, Hyderabad/Secunderabad, Bangalore/Benga...   \n",
       "5                                 Bangalore/Bengaluru   \n",
       "6   Kochi/Cochin, Indore, Hyderabad/Secunderabad, ...   \n",
       "7                                 Bangalore/Bengaluru   \n",
       "8                                 Bangalore/Bengaluru   \n",
       "9                                 Bangalore/Bengaluru   \n",
       "10                                Bangalore/Bengaluru   \n",
       "11                                Bangalore/Bengaluru   \n",
       "12                                Bangalore/Bengaluru   \n",
       "13                                Bangalore/Bengaluru   \n",
       "14                                Bangalore/Bengaluru   \n",
       "15                                Bangalore/Bengaluru   \n",
       "16                                Bangalore/Bengaluru   \n",
       "17                                Bangalore/Bengaluru   \n",
       "18  Hyderabad/Secunderabad, Bangalore/Bengaluru, M...   \n",
       "19                                Bangalore/Bengaluru   \n",
       "\n",
       "                                 full_job_description  \n",
       "0   Job Role : Data Scientist/Data Analyst /Busine...  \n",
       "1   We are seeking an outstanding Lead Data Scient...  \n",
       "2   We wont say we can predict the future, but our...  \n",
       "3                                                 ---  \n",
       "4                                                 ---  \n",
       "5   Responsibilities and duties Focus on developin...  \n",
       "6                                                 ---  \n",
       "7   Business & Team overview:\\nFounded in 1987, Hu...  \n",
       "8   Business & Team overview:\\nFounded in 1987, Hu...  \n",
       "9                                                 ---  \n",
       "10  What You Will Do\\nWork with Data Scientists, M...  \n",
       "11    What You Will Do\\nWork with Data Scientists,...  \n",
       "12  We are hiring for Lead data Scientist for Bang...  \n",
       "13  We are looking for a smart and experienced ana...  \n",
       "14    The successful candidate will primarily focu...  \n",
       "15                                                ---  \n",
       "16  Be part of something revolutionary\\nWe have a ...  \n",
       "17                                                ---  \n",
       "18  Roles and Responsibilities\\n\\n8+ years experie...  \n",
       "19  WHAT WE NEED\\nPh.D. or Masters or Bachelor's i...  "
      ]
     },
     "execution_count": 76,
     "metadata": {},
     "output_type": "execute_result"
    }
   ],
   "source": [
    "df1"
   ]
  },
  {
   "cell_type": "code",
   "execution_count": 77,
   "metadata": {},
   "outputs": [],
   "source": [
    "df1n=df1.iloc[0:10,:]"
   ]
  },
  {
   "cell_type": "code",
   "execution_count": 78,
   "metadata": {},
   "outputs": [
    {
     "data": {
      "text/html": [
       "<div>\n",
       "<style scoped>\n",
       "    .dataframe tbody tr th:only-of-type {\n",
       "        vertical-align: middle;\n",
       "    }\n",
       "\n",
       "    .dataframe tbody tr th {\n",
       "        vertical-align: top;\n",
       "    }\n",
       "\n",
       "    .dataframe thead th {\n",
       "        text-align: right;\n",
       "    }\n",
       "</style>\n",
       "<table border=\"1\" class=\"dataframe\">\n",
       "  <thead>\n",
       "    <tr style=\"text-align: right;\">\n",
       "      <th></th>\n",
       "      <th>Job_title</th>\n",
       "      <th>job_location</th>\n",
       "      <th>full_job_description</th>\n",
       "    </tr>\n",
       "  </thead>\n",
       "  <tbody>\n",
       "    <tr>\n",
       "      <th>0</th>\n",
       "      <td>Data Scientist / Data Analyst -Business Analyst</td>\n",
       "      <td>Mumbai, Hyderabad/Secunderabad, Pune, Gurgaon/...</td>\n",
       "      <td>Job Role : Data Scientist/Data Analyst /Busine...</td>\n",
       "    </tr>\n",
       "    <tr>\n",
       "      <th>1</th>\n",
       "      <td>Lead Data Scientist</td>\n",
       "      <td>Bangalore/Bengaluru</td>\n",
       "      <td>We are seeking an outstanding Lead Data Scient...</td>\n",
       "    </tr>\n",
       "    <tr>\n",
       "      <th>2</th>\n",
       "      <td>Senior Data Scientist, Modeling</td>\n",
       "      <td>Kolkata, Gurgaon/Gurugram, Bangalore/Bengaluru...</td>\n",
       "      <td>We wont say we can predict the future, but our...</td>\n",
       "    </tr>\n",
       "    <tr>\n",
       "      <th>3</th>\n",
       "      <td>Data Scientist - IBM Garage</td>\n",
       "      <td>Noida, Hyderabad/Secunderabad, Bangalore/Benga...</td>\n",
       "      <td>---</td>\n",
       "    </tr>\n",
       "    <tr>\n",
       "      <th>4</th>\n",
       "      <td>Data Scientist</td>\n",
       "      <td>Noida, Hyderabad/Secunderabad, Bangalore/Benga...</td>\n",
       "      <td>---</td>\n",
       "    </tr>\n",
       "    <tr>\n",
       "      <th>5</th>\n",
       "      <td>Senior Data Scientist - Credit risk</td>\n",
       "      <td>Bangalore/Bengaluru</td>\n",
       "      <td>Responsibilities and duties Focus on developin...</td>\n",
       "    </tr>\n",
       "    <tr>\n",
       "      <th>6</th>\n",
       "      <td>Big Data - Data Scientist</td>\n",
       "      <td>Kochi/Cochin, Indore, Hyderabad/Secunderabad, ...</td>\n",
       "      <td>---</td>\n",
       "    </tr>\n",
       "    <tr>\n",
       "      <th>7</th>\n",
       "      <td>SDE Lead Data Scientist-L3</td>\n",
       "      <td>Bangalore/Bengaluru</td>\n",
       "      <td>Business &amp; Team overview:\\nFounded in 1987, Hu...</td>\n",
       "    </tr>\n",
       "    <tr>\n",
       "      <th>8</th>\n",
       "      <td>Computational Design Lead Data Scientist-L3</td>\n",
       "      <td>Bangalore/Bengaluru</td>\n",
       "      <td>Business &amp; Team overview:\\nFounded in 1987, Hu...</td>\n",
       "    </tr>\n",
       "    <tr>\n",
       "      <th>9</th>\n",
       "      <td>Data Scientist</td>\n",
       "      <td>Bangalore/Bengaluru</td>\n",
       "      <td>---</td>\n",
       "    </tr>\n",
       "  </tbody>\n",
       "</table>\n",
       "</div>"
      ],
      "text/plain": [
       "                                         Job_title  \\\n",
       "0  Data Scientist / Data Analyst -Business Analyst   \n",
       "1                              Lead Data Scientist   \n",
       "2                  Senior Data Scientist, Modeling   \n",
       "3                      Data Scientist - IBM Garage   \n",
       "4                                   Data Scientist   \n",
       "5              Senior Data Scientist - Credit risk   \n",
       "6                        Big Data - Data Scientist   \n",
       "7                       SDE Lead Data Scientist-L3   \n",
       "8      Computational Design Lead Data Scientist-L3   \n",
       "9                                   Data Scientist   \n",
       "\n",
       "                                        job_location  \\\n",
       "0  Mumbai, Hyderabad/Secunderabad, Pune, Gurgaon/...   \n",
       "1                                Bangalore/Bengaluru   \n",
       "2  Kolkata, Gurgaon/Gurugram, Bangalore/Bengaluru...   \n",
       "3  Noida, Hyderabad/Secunderabad, Bangalore/Benga...   \n",
       "4  Noida, Hyderabad/Secunderabad, Bangalore/Benga...   \n",
       "5                                Bangalore/Bengaluru   \n",
       "6  Kochi/Cochin, Indore, Hyderabad/Secunderabad, ...   \n",
       "7                                Bangalore/Bengaluru   \n",
       "8                                Bangalore/Bengaluru   \n",
       "9                                Bangalore/Bengaluru   \n",
       "\n",
       "                                full_job_description  \n",
       "0  Job Role : Data Scientist/Data Analyst /Busine...  \n",
       "1  We are seeking an outstanding Lead Data Scient...  \n",
       "2  We wont say we can predict the future, but our...  \n",
       "3                                                ---  \n",
       "4                                                ---  \n",
       "5  Responsibilities and duties Focus on developin...  \n",
       "6                                                ---  \n",
       "7  Business & Team overview:\\nFounded in 1987, Hu...  \n",
       "8  Business & Team overview:\\nFounded in 1987, Hu...  \n",
       "9                                                ---  "
      ]
     },
     "execution_count": 78,
     "metadata": {},
     "output_type": "execute_result"
    }
   ],
   "source": [
    "df1n"
   ]
  },
  {
   "cell_type": "markdown",
   "metadata": {},
   "source": [
    "# Q2 completed"
   ]
  },
  {
   "cell_type": "markdown",
   "metadata": {},
   "source": [
    "# Starting Q3 "
   ]
  },
  {
   "cell_type": "code",
   "execution_count": 258,
   "metadata": {},
   "outputs": [],
   "source": [
    "driver2=webdriver.Chrome(r\"C:\\Users\\Bhumik Shah\\Downloads\\chromedriver_win32\\chromedriver.exe\")"
   ]
  },
  {
   "cell_type": "code",
   "execution_count": 259,
   "metadata": {},
   "outputs": [],
   "source": [
    "url='https://www.naukri.com/'"
   ]
  },
  {
   "cell_type": "code",
   "execution_count": 260,
   "metadata": {},
   "outputs": [],
   "source": [
    "driver2.get(url)"
   ]
  },
  {
   "cell_type": "code",
   "execution_count": 261,
   "metadata": {},
   "outputs": [],
   "source": [
    "title=driver2.find_element_by_id('qsb-keyword-sugg')\n",
    "title\n",
    "title.send_keys('Data Scientist')"
   ]
  },
  {
   "cell_type": "code",
   "execution_count": 262,
   "metadata": {},
   "outputs": [],
   "source": [
    "search=driver2.find_element_by_xpath(\"//button[@class='btn']\")"
   ]
  },
  {
   "cell_type": "code",
   "execution_count": 263,
   "metadata": {},
   "outputs": [],
   "source": [
    "search.click()"
   ]
  },
  {
   "cell_type": "code",
   "execution_count": 264,
   "metadata": {},
   "outputs": [],
   "source": [
    "filter1=driver2.find_element_by_xpath(\"//span[@title='Delhi / NCR']\")"
   ]
  },
  {
   "cell_type": "code",
   "execution_count": 265,
   "metadata": {},
   "outputs": [],
   "source": [
    "filter1\n",
    "filter1.click()"
   ]
  },
  {
   "cell_type": "code",
   "execution_count": 266,
   "metadata": {},
   "outputs": [],
   "source": [
    "fliter2=driver2.find_element_by_xpath(\"//span[@title='3-6 Lakhs']\")"
   ]
  },
  {
   "cell_type": "code",
   "execution_count": 267,
   "metadata": {},
   "outputs": [],
   "source": [
    "fliter2\n",
    "fliter2.click()"
   ]
  },
  {
   "cell_type": "code",
   "execution_count": 214,
   "metadata": {},
   "outputs": [],
   "source": [
    "title=driver2.find_elements_by_xpath(\"//div[@class='info fleft']/a['title'][1]\")"
   ]
  },
  {
   "cell_type": "code",
   "execution_count": 215,
   "metadata": {},
   "outputs": [
    {
     "data": {
      "text/plain": [
       "[<selenium.webdriver.remote.webelement.WebElement (session=\"99f72136bc3e523486e05a0baaf23a03\", element=\"05237709-0ccb-4798-b5ef-030cec768747\")>,\n",
       " <selenium.webdriver.remote.webelement.WebElement (session=\"99f72136bc3e523486e05a0baaf23a03\", element=\"5b3dcd27-a6c2-452d-adce-59201ae5ebca\")>,\n",
       " <selenium.webdriver.remote.webelement.WebElement (session=\"99f72136bc3e523486e05a0baaf23a03\", element=\"232d9fd2-23c2-4bec-87b1-c6ade9eff38b\")>,\n",
       " <selenium.webdriver.remote.webelement.WebElement (session=\"99f72136bc3e523486e05a0baaf23a03\", element=\"a957a328-fc3a-482d-ac90-d3988fd01d72\")>,\n",
       " <selenium.webdriver.remote.webelement.WebElement (session=\"99f72136bc3e523486e05a0baaf23a03\", element=\"f720022c-9b05-4f0f-9d31-28cad7fe45d2\")>,\n",
       " <selenium.webdriver.remote.webelement.WebElement (session=\"99f72136bc3e523486e05a0baaf23a03\", element=\"5ee52132-2c92-4353-a258-4be4e625365a\")>,\n",
       " <selenium.webdriver.remote.webelement.WebElement (session=\"99f72136bc3e523486e05a0baaf23a03\", element=\"74a38aa2-d3c2-412f-b1d1-955007b6ae79\")>,\n",
       " <selenium.webdriver.remote.webelement.WebElement (session=\"99f72136bc3e523486e05a0baaf23a03\", element=\"c5762a02-aa61-4f92-8a85-32d014ffbabc\")>,\n",
       " <selenium.webdriver.remote.webelement.WebElement (session=\"99f72136bc3e523486e05a0baaf23a03\", element=\"bdd55ae2-789e-4ee3-bdf1-08086bf2ef9d\")>,\n",
       " <selenium.webdriver.remote.webelement.WebElement (session=\"99f72136bc3e523486e05a0baaf23a03\", element=\"086379ac-6dbe-40a5-9389-823fef8ec6d2\")>,\n",
       " <selenium.webdriver.remote.webelement.WebElement (session=\"99f72136bc3e523486e05a0baaf23a03\", element=\"0b909e27-466f-4c10-81d7-f5c360903b23\")>,\n",
       " <selenium.webdriver.remote.webelement.WebElement (session=\"99f72136bc3e523486e05a0baaf23a03\", element=\"448e6067-5b7a-4ed1-bcd8-2f66d9192ecb\")>,\n",
       " <selenium.webdriver.remote.webelement.WebElement (session=\"99f72136bc3e523486e05a0baaf23a03\", element=\"fc5e3f0f-299a-462a-9a4d-4429ce7e95da\")>,\n",
       " <selenium.webdriver.remote.webelement.WebElement (session=\"99f72136bc3e523486e05a0baaf23a03\", element=\"c2af39cc-b17f-43fa-afba-d569e8ecd04f\")>,\n",
       " <selenium.webdriver.remote.webelement.WebElement (session=\"99f72136bc3e523486e05a0baaf23a03\", element=\"7878b036-92ea-4169-800f-f280fd5a82bc\")>,\n",
       " <selenium.webdriver.remote.webelement.WebElement (session=\"99f72136bc3e523486e05a0baaf23a03\", element=\"1b4e48ed-8fca-4bd7-8c85-bc878cdfd6f7\")>,\n",
       " <selenium.webdriver.remote.webelement.WebElement (session=\"99f72136bc3e523486e05a0baaf23a03\", element=\"af3706b4-1a8a-45e2-9a4e-058db6f56d66\")>,\n",
       " <selenium.webdriver.remote.webelement.WebElement (session=\"99f72136bc3e523486e05a0baaf23a03\", element=\"f87b3a05-49dc-49dc-8abd-0337a9870093\")>,\n",
       " <selenium.webdriver.remote.webelement.WebElement (session=\"99f72136bc3e523486e05a0baaf23a03\", element=\"153b13b8-23f4-44b3-ada7-5469ff722ade\")>,\n",
       " <selenium.webdriver.remote.webelement.WebElement (session=\"99f72136bc3e523486e05a0baaf23a03\", element=\"92812d8c-35a6-4ee3-b3b9-8727aaba355a\")>]"
      ]
     },
     "execution_count": 215,
     "metadata": {},
     "output_type": "execute_result"
    }
   ],
   "source": [
    "title"
   ]
  },
  {
   "cell_type": "code",
   "execution_count": 216,
   "metadata": {},
   "outputs": [
    {
     "data": {
      "text/plain": [
       "['Data Scientist / Data Analyst -Business Analyst',\n",
       " 'Data Scientist',\n",
       " 'Senior Data Scientist II 5+ yrs II Gurgaon',\n",
       " 'Excellent opportunity For Data Scientist',\n",
       " 'Data Scientist',\n",
       " 'DATA Scientist – Gurgaon (Exp 3-6 years)',\n",
       " 'DATA Scientist – Gurgaon (Exp 3-6 years)',\n",
       " 'Data Scientist - Noida',\n",
       " \"Data Scientist - Noida/ B'lore\",\n",
       " 'Data Scientist',\n",
       " 'Data Scientist',\n",
       " 'Senior Data Scientist',\n",
       " 'Data Scientist',\n",
       " 'Data Scientist/ Data Analyst/ Data Engineer',\n",
       " 'Data Scientist',\n",
       " 'Data Scientist',\n",
       " 'Data Scientist',\n",
       " 'Data Scientist Machine Learning',\n",
       " 'Data Scientist',\n",
       " 'Data Scientist']"
      ]
     },
     "execution_count": 216,
     "metadata": {},
     "output_type": "execute_result"
    }
   ],
   "source": [
    "job_title=[]\n",
    "for i in title:\n",
    "    job_title.append(i.text)\n",
    "job_title"
   ]
  },
  {
   "cell_type": "code",
   "execution_count": 231,
   "metadata": {},
   "outputs": [],
   "source": [
    "location=driver2.find_elements_by_xpath(\"//li[@class='fleft grey-text br2 placeHolderLi location']/span\")"
   ]
  },
  {
   "cell_type": "code",
   "execution_count": 232,
   "metadata": {},
   "outputs": [
    {
     "data": {
      "text/plain": [
       "[<selenium.webdriver.remote.webelement.WebElement (session=\"99f72136bc3e523486e05a0baaf23a03\", element=\"5efdaa4d-79bb-437d-a891-6b44c3649907\")>,\n",
       " <selenium.webdriver.remote.webelement.WebElement (session=\"99f72136bc3e523486e05a0baaf23a03\", element=\"50e653b8-12c0-4858-a8be-17383dc9054e\")>,\n",
       " <selenium.webdriver.remote.webelement.WebElement (session=\"99f72136bc3e523486e05a0baaf23a03\", element=\"8cc94685-53d9-4924-88c6-228eaf4b7551\")>,\n",
       " <selenium.webdriver.remote.webelement.WebElement (session=\"99f72136bc3e523486e05a0baaf23a03\", element=\"b817ec7e-2633-42bd-88c9-0f8b79e52d4e\")>,\n",
       " <selenium.webdriver.remote.webelement.WebElement (session=\"99f72136bc3e523486e05a0baaf23a03\", element=\"ccc97124-2110-49e4-bf95-983a18783da8\")>,\n",
       " <selenium.webdriver.remote.webelement.WebElement (session=\"99f72136bc3e523486e05a0baaf23a03\", element=\"2e7d3d83-292f-4c4a-ad00-f9fbeb701ef2\")>,\n",
       " <selenium.webdriver.remote.webelement.WebElement (session=\"99f72136bc3e523486e05a0baaf23a03\", element=\"2ff4d04e-095a-401e-999b-0a0067a50cd6\")>,\n",
       " <selenium.webdriver.remote.webelement.WebElement (session=\"99f72136bc3e523486e05a0baaf23a03\", element=\"d41a0fc5-e096-44e4-8228-4eed22a08c63\")>,\n",
       " <selenium.webdriver.remote.webelement.WebElement (session=\"99f72136bc3e523486e05a0baaf23a03\", element=\"f0be677a-d7d5-4c05-9620-61c81cb7bac9\")>,\n",
       " <selenium.webdriver.remote.webelement.WebElement (session=\"99f72136bc3e523486e05a0baaf23a03\", element=\"775a8082-e4c5-4f58-b31d-bc2c471ca4f7\")>,\n",
       " <selenium.webdriver.remote.webelement.WebElement (session=\"99f72136bc3e523486e05a0baaf23a03\", element=\"0b017cd6-2333-47f3-a3ce-ca6a49667638\")>,\n",
       " <selenium.webdriver.remote.webelement.WebElement (session=\"99f72136bc3e523486e05a0baaf23a03\", element=\"306dfdf1-0d54-4bf7-b423-48f67e06e684\")>,\n",
       " <selenium.webdriver.remote.webelement.WebElement (session=\"99f72136bc3e523486e05a0baaf23a03\", element=\"0d6dd2b3-7630-4049-a322-ac0bd3481a10\")>,\n",
       " <selenium.webdriver.remote.webelement.WebElement (session=\"99f72136bc3e523486e05a0baaf23a03\", element=\"7bb0f5bc-6ff0-40ea-89fc-bf5eeebb37cc\")>,\n",
       " <selenium.webdriver.remote.webelement.WebElement (session=\"99f72136bc3e523486e05a0baaf23a03\", element=\"ae1501f1-561c-4fef-82c4-8284578f9154\")>,\n",
       " <selenium.webdriver.remote.webelement.WebElement (session=\"99f72136bc3e523486e05a0baaf23a03\", element=\"52b0d51e-2676-41d8-ba25-283b7b102992\")>,\n",
       " <selenium.webdriver.remote.webelement.WebElement (session=\"99f72136bc3e523486e05a0baaf23a03\", element=\"502442bc-e654-4ed8-ae4c-205dd691521b\")>,\n",
       " <selenium.webdriver.remote.webelement.WebElement (session=\"99f72136bc3e523486e05a0baaf23a03\", element=\"45abf084-f211-40d5-8eb7-ebb9fff524e5\")>,\n",
       " <selenium.webdriver.remote.webelement.WebElement (session=\"99f72136bc3e523486e05a0baaf23a03\", element=\"abcbb8f3-819a-44b2-af81-62f74f2bf9e0\")>,\n",
       " <selenium.webdriver.remote.webelement.WebElement (session=\"99f72136bc3e523486e05a0baaf23a03\", element=\"4c76c0b2-a9a8-4c86-97cd-117b9f687cc6\")>]"
      ]
     },
     "execution_count": 232,
     "metadata": {},
     "output_type": "execute_result"
    }
   ],
   "source": [
    "location"
   ]
  },
  {
   "cell_type": "code",
   "execution_count": 233,
   "metadata": {},
   "outputs": [
    {
     "data": {
      "text/plain": [
       "['Mumbai, Hyderabad/Secunderabad, Pune, Gurgaon/Gurugram, Chennai, Bangalore/Bengaluru',\n",
       " 'Noida, Hyderabad/Secunderabad, Bangalore/Bengaluru',\n",
       " 'Gurgaon/Gurugram',\n",
       " 'Noida, Bangalore/Bengaluru',\n",
       " 'New Delhi, Gurgaon/Gurugram, Delhi / NCR',\n",
       " 'Gurgaon/Gurugram, Delhi / NCR',\n",
       " 'Gurgaon/Gurugram, Delhi / NCR',\n",
       " 'Noida',\n",
       " 'Noida, Bangalore/Bengaluru',\n",
       " 'Bangalore/Bengaluru, Delhi / NCR, Mumbai (All Areas)',\n",
       " 'Bharuch, Jaipur, Bhopal, Mumbai, Jhansi, Nagpur, Ghaziabad, Jaunpur, Kanpur, New Delhi, Lucknow, Agra, Gurgaon/Gurugram, Rajkot, Bangalore/Bengaluru',\n",
       " 'Delhi',\n",
       " 'Gurgaon/Gurugram, Bangalore/Bengaluru',\n",
       " 'Noida, Chennai',\n",
       " 'Delhi',\n",
       " 'New Delhi',\n",
       " 'Delhi',\n",
       " 'Gurgaon/Gurugram',\n",
       " 'Mumbai, Delhi / NCR',\n",
       " 'Gurgaon']"
      ]
     },
     "execution_count": 233,
     "metadata": {},
     "output_type": "execute_result"
    }
   ],
   "source": [
    "job_location=[]\n",
    "for i in location:\n",
    "    job_location.append(i.text)\n",
    "job_location"
   ]
  },
  {
   "cell_type": "code",
   "execution_count": 240,
   "metadata": {},
   "outputs": [],
   "source": [
    "name=driver2.find_elements_by_xpath(\"//a[@class='subTitle ellipsis fleft']\")"
   ]
  },
  {
   "cell_type": "code",
   "execution_count": 241,
   "metadata": {},
   "outputs": [
    {
     "data": {
      "text/plain": [
       "[<selenium.webdriver.remote.webelement.WebElement (session=\"99f72136bc3e523486e05a0baaf23a03\", element=\"8a9167d4-d068-431b-b358-86c981d2db33\")>,\n",
       " <selenium.webdriver.remote.webelement.WebElement (session=\"99f72136bc3e523486e05a0baaf23a03\", element=\"8b0acffd-5327-4cd8-8895-3fde7e797456\")>,\n",
       " <selenium.webdriver.remote.webelement.WebElement (session=\"99f72136bc3e523486e05a0baaf23a03\", element=\"599faf04-c2fd-4da0-9602-00dce5571b37\")>,\n",
       " <selenium.webdriver.remote.webelement.WebElement (session=\"99f72136bc3e523486e05a0baaf23a03\", element=\"c4a2fce3-8537-4221-9012-8bdb0afb195c\")>,\n",
       " <selenium.webdriver.remote.webelement.WebElement (session=\"99f72136bc3e523486e05a0baaf23a03\", element=\"847b8b8c-1395-4df9-a305-edff6fdc4e77\")>,\n",
       " <selenium.webdriver.remote.webelement.WebElement (session=\"99f72136bc3e523486e05a0baaf23a03\", element=\"4b080ce1-b089-435c-9491-47e6b7b33102\")>,\n",
       " <selenium.webdriver.remote.webelement.WebElement (session=\"99f72136bc3e523486e05a0baaf23a03\", element=\"6a5b72bc-c635-43b3-8adc-f65ef9ca5e54\")>,\n",
       " <selenium.webdriver.remote.webelement.WebElement (session=\"99f72136bc3e523486e05a0baaf23a03\", element=\"9157c665-7146-4331-8feb-cbb731d44146\")>,\n",
       " <selenium.webdriver.remote.webelement.WebElement (session=\"99f72136bc3e523486e05a0baaf23a03\", element=\"8c237a69-f21c-4d59-a5cc-e3e6bc3253de\")>,\n",
       " <selenium.webdriver.remote.webelement.WebElement (session=\"99f72136bc3e523486e05a0baaf23a03\", element=\"fdb96a5f-ca24-40ba-9ff8-3a0861cc1d0f\")>,\n",
       " <selenium.webdriver.remote.webelement.WebElement (session=\"99f72136bc3e523486e05a0baaf23a03\", element=\"3c741e8a-25e9-4b90-a9b3-b4f3926aadda\")>,\n",
       " <selenium.webdriver.remote.webelement.WebElement (session=\"99f72136bc3e523486e05a0baaf23a03\", element=\"1610210f-fe61-433d-a09c-0925c333686a\")>,\n",
       " <selenium.webdriver.remote.webelement.WebElement (session=\"99f72136bc3e523486e05a0baaf23a03\", element=\"15b9341d-c6f4-4708-abc4-3a1434d81798\")>,\n",
       " <selenium.webdriver.remote.webelement.WebElement (session=\"99f72136bc3e523486e05a0baaf23a03\", element=\"070be03b-4840-4226-84df-c7643c7deafa\")>,\n",
       " <selenium.webdriver.remote.webelement.WebElement (session=\"99f72136bc3e523486e05a0baaf23a03\", element=\"e17d86cb-71c4-4f4e-a176-2624c67e8c3c\")>,\n",
       " <selenium.webdriver.remote.webelement.WebElement (session=\"99f72136bc3e523486e05a0baaf23a03\", element=\"23f7e4ee-a979-498f-8290-14983e3903c2\")>,\n",
       " <selenium.webdriver.remote.webelement.WebElement (session=\"99f72136bc3e523486e05a0baaf23a03\", element=\"d7078c03-75d9-4e71-94c0-405e7b898aeb\")>,\n",
       " <selenium.webdriver.remote.webelement.WebElement (session=\"99f72136bc3e523486e05a0baaf23a03\", element=\"6c349ec3-8920-4b5d-a1e9-2d8e9f11ff81\")>,\n",
       " <selenium.webdriver.remote.webelement.WebElement (session=\"99f72136bc3e523486e05a0baaf23a03\", element=\"5e3b2da7-a5d9-4ee4-937b-2957c5ab3ed9\")>,\n",
       " <selenium.webdriver.remote.webelement.WebElement (session=\"99f72136bc3e523486e05a0baaf23a03\", element=\"0c7f3285-9c76-4a6e-878d-5db55341b09c\")>]"
      ]
     },
     "execution_count": 241,
     "metadata": {},
     "output_type": "execute_result"
    }
   ],
   "source": [
    "name"
   ]
  },
  {
   "cell_type": "code",
   "execution_count": 242,
   "metadata": {},
   "outputs": [
    {
     "data": {
      "text/plain": [
       "['Inflexion Analytix Private Limited',\n",
       " 'IBM India Pvt. Limited',\n",
       " 'Zenatix Solutions Private Limited',\n",
       " 'NEC CORPORATION INDIA PRIVATE LIMITED',\n",
       " 'Mobikwik',\n",
       " 'CRESCENDO GLOBAL LEADERSHIP HIRING INDIA PRIVATE L IMITED',\n",
       " 'CRESCENDO GLOBAL LEADERSHIP HIRING INDIA PRIVATE L IMITED',\n",
       " 'Optum Global Solutions (India) Private Limited',\n",
       " 'NEC CORPORATION INDIA PRIVATE LIMITED',\n",
       " 'Cloudstrats Technologies Private Limited',\n",
       " 'Country Veggie',\n",
       " 'iNICU',\n",
       " 'BlackBuck',\n",
       " 'LANCE LABS PRIVATE LIMITED',\n",
       " 'Sentieo',\n",
       " 'Mahajan Imaging',\n",
       " 'Mahajan Imaging',\n",
       " 'Delhivery',\n",
       " 'VBPO India Pvt Ltd.',\n",
       " 'itForte Staffing Services Private Ltd.']"
      ]
     },
     "execution_count": 242,
     "metadata": {},
     "output_type": "execute_result"
    }
   ],
   "source": [
    "organ_name=[]\n",
    "for i in name:\n",
    "    organ_name.append(i.text)\n",
    "organ_name"
   ]
  },
  {
   "cell_type": "code",
   "execution_count": 246,
   "metadata": {},
   "outputs": [],
   "source": [
    "exp=driver2.find_elements_by_xpath(\"//li[@class='fleft grey-text br2 placeHolderLi experience']/span['title']\")"
   ]
  },
  {
   "cell_type": "code",
   "execution_count": 247,
   "metadata": {},
   "outputs": [
    {
     "data": {
      "text/plain": [
       "[<selenium.webdriver.remote.webelement.WebElement (session=\"99f72136bc3e523486e05a0baaf23a03\", element=\"eed24f23-9e4f-43e4-926c-94b5c6fd5abb\")>,\n",
       " <selenium.webdriver.remote.webelement.WebElement (session=\"99f72136bc3e523486e05a0baaf23a03\", element=\"7ad31d6f-8d39-44d8-860e-6dbe93397871\")>,\n",
       " <selenium.webdriver.remote.webelement.WebElement (session=\"99f72136bc3e523486e05a0baaf23a03\", element=\"a77ad988-c629-49f0-bd3d-b6348c853456\")>,\n",
       " <selenium.webdriver.remote.webelement.WebElement (session=\"99f72136bc3e523486e05a0baaf23a03\", element=\"5af3ccd0-c42d-4f41-804d-7b760ae295c6\")>,\n",
       " <selenium.webdriver.remote.webelement.WebElement (session=\"99f72136bc3e523486e05a0baaf23a03\", element=\"880e4ce3-c37f-4c25-9496-7be4c988274e\")>,\n",
       " <selenium.webdriver.remote.webelement.WebElement (session=\"99f72136bc3e523486e05a0baaf23a03\", element=\"a68d291c-ea11-41e4-a44f-3f89773d30ea\")>,\n",
       " <selenium.webdriver.remote.webelement.WebElement (session=\"99f72136bc3e523486e05a0baaf23a03\", element=\"e80d860c-78e6-4ec0-8487-db8d92b10803\")>,\n",
       " <selenium.webdriver.remote.webelement.WebElement (session=\"99f72136bc3e523486e05a0baaf23a03\", element=\"02c2b957-2fe0-4805-b60e-1eea0307bd69\")>,\n",
       " <selenium.webdriver.remote.webelement.WebElement (session=\"99f72136bc3e523486e05a0baaf23a03\", element=\"3b0b72eb-9191-43ef-b16c-80eae59fd7f0\")>,\n",
       " <selenium.webdriver.remote.webelement.WebElement (session=\"99f72136bc3e523486e05a0baaf23a03\", element=\"c2339a95-91b8-4321-919b-e11e2d1385ee\")>,\n",
       " <selenium.webdriver.remote.webelement.WebElement (session=\"99f72136bc3e523486e05a0baaf23a03\", element=\"4a8438ca-347f-43fe-a389-e836ad66d936\")>,\n",
       " <selenium.webdriver.remote.webelement.WebElement (session=\"99f72136bc3e523486e05a0baaf23a03\", element=\"62da3bf4-4499-4036-8d52-573dd7b4cd53\")>,\n",
       " <selenium.webdriver.remote.webelement.WebElement (session=\"99f72136bc3e523486e05a0baaf23a03\", element=\"efc362b2-617b-49a8-8d33-c72b37cd09cc\")>,\n",
       " <selenium.webdriver.remote.webelement.WebElement (session=\"99f72136bc3e523486e05a0baaf23a03\", element=\"9224d084-246a-4e16-88ee-280ffe4814ed\")>,\n",
       " <selenium.webdriver.remote.webelement.WebElement (session=\"99f72136bc3e523486e05a0baaf23a03\", element=\"33bcaf69-3858-48ed-a56e-838e73c446ca\")>,\n",
       " <selenium.webdriver.remote.webelement.WebElement (session=\"99f72136bc3e523486e05a0baaf23a03\", element=\"0928feda-0996-407a-9fa2-13aa478486e2\")>,\n",
       " <selenium.webdriver.remote.webelement.WebElement (session=\"99f72136bc3e523486e05a0baaf23a03\", element=\"24d1bf93-9f40-4c00-a9d9-d74b85313c4d\")>,\n",
       " <selenium.webdriver.remote.webelement.WebElement (session=\"99f72136bc3e523486e05a0baaf23a03\", element=\"5907c3a5-1630-475f-8042-e8993e6a90e1\")>,\n",
       " <selenium.webdriver.remote.webelement.WebElement (session=\"99f72136bc3e523486e05a0baaf23a03\", element=\"d47ed11e-ec37-4fda-a0ff-31be8476467f\")>,\n",
       " <selenium.webdriver.remote.webelement.WebElement (session=\"99f72136bc3e523486e05a0baaf23a03\", element=\"5b954a58-1424-4725-980e-cb09c65aa058\")>]"
      ]
     },
     "execution_count": 247,
     "metadata": {},
     "output_type": "execute_result"
    }
   ],
   "source": [
    "exp"
   ]
  },
  {
   "cell_type": "code",
   "execution_count": 248,
   "metadata": {},
   "outputs": [
    {
     "data": {
      "text/plain": [
       "['0-3 Yrs',\n",
       " '4-9 Yrs',\n",
       " '5-10 Yrs',\n",
       " '3-7 Yrs',\n",
       " '3-5 Yrs',\n",
       " '3-6 Yrs',\n",
       " '3-6 Yrs',\n",
       " '3-5 Yrs',\n",
       " '3-8 Yrs',\n",
       " '5-8 Yrs',\n",
       " '1-3 Yrs',\n",
       " '1-5 Yrs',\n",
       " '3-7 Yrs',\n",
       " '0-3 Yrs',\n",
       " '2-7 Yrs',\n",
       " '2-6 Yrs',\n",
       " '2-6 Yrs',\n",
       " '1-3 Yrs',\n",
       " '3-6 Yrs',\n",
       " '3-8 Yrs']"
      ]
     },
     "execution_count": 248,
     "metadata": {},
     "output_type": "execute_result"
    }
   ],
   "source": [
    "experience=[]\n",
    "for i in exp:\n",
    "    experience.append(i.text)\n",
    "experience"
   ]
  },
  {
   "cell_type": "code",
   "execution_count": 250,
   "metadata": {},
   "outputs": [
    {
     "name": "stdout",
     "output_type": "stream",
     "text": [
      "20 20 20 20\n"
     ]
    }
   ],
   "source": [
    "print(len(job_title),len(job_location),len(organ_name),len(experience))"
   ]
  },
  {
   "cell_type": "code",
   "execution_count": 251,
   "metadata": {},
   "outputs": [],
   "source": [
    "import pandas as pd"
   ]
  },
  {
   "cell_type": "code",
   "execution_count": 252,
   "metadata": {},
   "outputs": [],
   "source": [
    "df=pd.DataFrame({})\n",
    "df['Job_title']=job_title\n",
    "df['job_location']=job_location\n",
    "df['Company_name']=organ_name\n",
    "df['experience']=experience"
   ]
  },
  {
   "cell_type": "code",
   "execution_count": 253,
   "metadata": {},
   "outputs": [
    {
     "data": {
      "text/html": [
       "<div>\n",
       "<style scoped>\n",
       "    .dataframe tbody tr th:only-of-type {\n",
       "        vertical-align: middle;\n",
       "    }\n",
       "\n",
       "    .dataframe tbody tr th {\n",
       "        vertical-align: top;\n",
       "    }\n",
       "\n",
       "    .dataframe thead th {\n",
       "        text-align: right;\n",
       "    }\n",
       "</style>\n",
       "<table border=\"1\" class=\"dataframe\">\n",
       "  <thead>\n",
       "    <tr style=\"text-align: right;\">\n",
       "      <th></th>\n",
       "      <th>Job_title</th>\n",
       "      <th>job_location</th>\n",
       "      <th>Company_name</th>\n",
       "      <th>experience</th>\n",
       "    </tr>\n",
       "  </thead>\n",
       "  <tbody>\n",
       "    <tr>\n",
       "      <th>0</th>\n",
       "      <td>Data Scientist / Data Analyst -Business Analyst</td>\n",
       "      <td>Mumbai, Hyderabad/Secunderabad, Pune, Gurgaon/...</td>\n",
       "      <td>Inflexion Analytix Private Limited</td>\n",
       "      <td>0-3 Yrs</td>\n",
       "    </tr>\n",
       "    <tr>\n",
       "      <th>1</th>\n",
       "      <td>Data Scientist</td>\n",
       "      <td>Noida, Hyderabad/Secunderabad, Bangalore/Benga...</td>\n",
       "      <td>IBM India Pvt. Limited</td>\n",
       "      <td>4-9 Yrs</td>\n",
       "    </tr>\n",
       "    <tr>\n",
       "      <th>2</th>\n",
       "      <td>Senior Data Scientist II 5+ yrs II Gurgaon</td>\n",
       "      <td>Gurgaon/Gurugram</td>\n",
       "      <td>Zenatix Solutions Private Limited</td>\n",
       "      <td>5-10 Yrs</td>\n",
       "    </tr>\n",
       "    <tr>\n",
       "      <th>3</th>\n",
       "      <td>Excellent opportunity For Data Scientist</td>\n",
       "      <td>Noida, Bangalore/Bengaluru</td>\n",
       "      <td>NEC CORPORATION INDIA PRIVATE LIMITED</td>\n",
       "      <td>3-7 Yrs</td>\n",
       "    </tr>\n",
       "    <tr>\n",
       "      <th>4</th>\n",
       "      <td>Data Scientist</td>\n",
       "      <td>New Delhi, Gurgaon/Gurugram, Delhi / NCR</td>\n",
       "      <td>Mobikwik</td>\n",
       "      <td>3-5 Yrs</td>\n",
       "    </tr>\n",
       "    <tr>\n",
       "      <th>5</th>\n",
       "      <td>DATA Scientist – Gurgaon (Exp 3-6 years)</td>\n",
       "      <td>Gurgaon/Gurugram, Delhi / NCR</td>\n",
       "      <td>CRESCENDO GLOBAL LEADERSHIP HIRING INDIA PRIVA...</td>\n",
       "      <td>3-6 Yrs</td>\n",
       "    </tr>\n",
       "    <tr>\n",
       "      <th>6</th>\n",
       "      <td>DATA Scientist – Gurgaon (Exp 3-6 years)</td>\n",
       "      <td>Gurgaon/Gurugram, Delhi / NCR</td>\n",
       "      <td>CRESCENDO GLOBAL LEADERSHIP HIRING INDIA PRIVA...</td>\n",
       "      <td>3-6 Yrs</td>\n",
       "    </tr>\n",
       "    <tr>\n",
       "      <th>7</th>\n",
       "      <td>Data Scientist - Noida</td>\n",
       "      <td>Noida</td>\n",
       "      <td>Optum Global Solutions (India) Private Limited</td>\n",
       "      <td>3-5 Yrs</td>\n",
       "    </tr>\n",
       "    <tr>\n",
       "      <th>8</th>\n",
       "      <td>Data Scientist - Noida/ B'lore</td>\n",
       "      <td>Noida, Bangalore/Bengaluru</td>\n",
       "      <td>NEC CORPORATION INDIA PRIVATE LIMITED</td>\n",
       "      <td>3-8 Yrs</td>\n",
       "    </tr>\n",
       "    <tr>\n",
       "      <th>9</th>\n",
       "      <td>Data Scientist</td>\n",
       "      <td>Bangalore/Bengaluru, Delhi / NCR, Mumbai (All ...</td>\n",
       "      <td>Cloudstrats Technologies Private Limited</td>\n",
       "      <td>5-8 Yrs</td>\n",
       "    </tr>\n",
       "    <tr>\n",
       "      <th>10</th>\n",
       "      <td>Data Scientist</td>\n",
       "      <td>Bharuch, Jaipur, Bhopal, Mumbai, Jhansi, Nagpu...</td>\n",
       "      <td>Country Veggie</td>\n",
       "      <td>1-3 Yrs</td>\n",
       "    </tr>\n",
       "    <tr>\n",
       "      <th>11</th>\n",
       "      <td>Senior Data Scientist</td>\n",
       "      <td>Delhi</td>\n",
       "      <td>iNICU</td>\n",
       "      <td>1-5 Yrs</td>\n",
       "    </tr>\n",
       "    <tr>\n",
       "      <th>12</th>\n",
       "      <td>Data Scientist</td>\n",
       "      <td>Gurgaon/Gurugram, Bangalore/Bengaluru</td>\n",
       "      <td>BlackBuck</td>\n",
       "      <td>3-7 Yrs</td>\n",
       "    </tr>\n",
       "    <tr>\n",
       "      <th>13</th>\n",
       "      <td>Data Scientist/ Data Analyst/ Data Engineer</td>\n",
       "      <td>Noida, Chennai</td>\n",
       "      <td>LANCE LABS PRIVATE LIMITED</td>\n",
       "      <td>0-3 Yrs</td>\n",
       "    </tr>\n",
       "    <tr>\n",
       "      <th>14</th>\n",
       "      <td>Data Scientist</td>\n",
       "      <td>Delhi</td>\n",
       "      <td>Sentieo</td>\n",
       "      <td>2-7 Yrs</td>\n",
       "    </tr>\n",
       "    <tr>\n",
       "      <th>15</th>\n",
       "      <td>Data Scientist</td>\n",
       "      <td>New Delhi</td>\n",
       "      <td>Mahajan Imaging</td>\n",
       "      <td>2-6 Yrs</td>\n",
       "    </tr>\n",
       "    <tr>\n",
       "      <th>16</th>\n",
       "      <td>Data Scientist</td>\n",
       "      <td>Delhi</td>\n",
       "      <td>Mahajan Imaging</td>\n",
       "      <td>2-6 Yrs</td>\n",
       "    </tr>\n",
       "    <tr>\n",
       "      <th>17</th>\n",
       "      <td>Data Scientist Machine Learning</td>\n",
       "      <td>Gurgaon/Gurugram</td>\n",
       "      <td>Delhivery</td>\n",
       "      <td>1-3 Yrs</td>\n",
       "    </tr>\n",
       "    <tr>\n",
       "      <th>18</th>\n",
       "      <td>Data Scientist</td>\n",
       "      <td>Mumbai, Delhi / NCR</td>\n",
       "      <td>VBPO India Pvt Ltd.</td>\n",
       "      <td>3-6 Yrs</td>\n",
       "    </tr>\n",
       "    <tr>\n",
       "      <th>19</th>\n",
       "      <td>Data Scientist</td>\n",
       "      <td>Gurgaon</td>\n",
       "      <td>itForte Staffing Services Private Ltd.</td>\n",
       "      <td>3-8 Yrs</td>\n",
       "    </tr>\n",
       "  </tbody>\n",
       "</table>\n",
       "</div>"
      ],
      "text/plain": [
       "                                          Job_title  \\\n",
       "0   Data Scientist / Data Analyst -Business Analyst   \n",
       "1                                    Data Scientist   \n",
       "2        Senior Data Scientist II 5+ yrs II Gurgaon   \n",
       "3          Excellent opportunity For Data Scientist   \n",
       "4                                    Data Scientist   \n",
       "5          DATA Scientist – Gurgaon (Exp 3-6 years)   \n",
       "6          DATA Scientist – Gurgaon (Exp 3-6 years)   \n",
       "7                            Data Scientist - Noida   \n",
       "8                    Data Scientist - Noida/ B'lore   \n",
       "9                                    Data Scientist   \n",
       "10                                   Data Scientist   \n",
       "11                            Senior Data Scientist   \n",
       "12                                   Data Scientist   \n",
       "13      Data Scientist/ Data Analyst/ Data Engineer   \n",
       "14                                   Data Scientist   \n",
       "15                                   Data Scientist   \n",
       "16                                   Data Scientist   \n",
       "17                  Data Scientist Machine Learning   \n",
       "18                                   Data Scientist   \n",
       "19                                   Data Scientist   \n",
       "\n",
       "                                         job_location  \\\n",
       "0   Mumbai, Hyderabad/Secunderabad, Pune, Gurgaon/...   \n",
       "1   Noida, Hyderabad/Secunderabad, Bangalore/Benga...   \n",
       "2                                    Gurgaon/Gurugram   \n",
       "3                          Noida, Bangalore/Bengaluru   \n",
       "4            New Delhi, Gurgaon/Gurugram, Delhi / NCR   \n",
       "5                       Gurgaon/Gurugram, Delhi / NCR   \n",
       "6                       Gurgaon/Gurugram, Delhi / NCR   \n",
       "7                                               Noida   \n",
       "8                          Noida, Bangalore/Bengaluru   \n",
       "9   Bangalore/Bengaluru, Delhi / NCR, Mumbai (All ...   \n",
       "10  Bharuch, Jaipur, Bhopal, Mumbai, Jhansi, Nagpu...   \n",
       "11                                              Delhi   \n",
       "12              Gurgaon/Gurugram, Bangalore/Bengaluru   \n",
       "13                                     Noida, Chennai   \n",
       "14                                              Delhi   \n",
       "15                                          New Delhi   \n",
       "16                                              Delhi   \n",
       "17                                   Gurgaon/Gurugram   \n",
       "18                                Mumbai, Delhi / NCR   \n",
       "19                                            Gurgaon   \n",
       "\n",
       "                                         Company_name experience  \n",
       "0                  Inflexion Analytix Private Limited    0-3 Yrs  \n",
       "1                              IBM India Pvt. Limited    4-9 Yrs  \n",
       "2                   Zenatix Solutions Private Limited   5-10 Yrs  \n",
       "3               NEC CORPORATION INDIA PRIVATE LIMITED    3-7 Yrs  \n",
       "4                                            Mobikwik    3-5 Yrs  \n",
       "5   CRESCENDO GLOBAL LEADERSHIP HIRING INDIA PRIVA...    3-6 Yrs  \n",
       "6   CRESCENDO GLOBAL LEADERSHIP HIRING INDIA PRIVA...    3-6 Yrs  \n",
       "7      Optum Global Solutions (India) Private Limited    3-5 Yrs  \n",
       "8               NEC CORPORATION INDIA PRIVATE LIMITED    3-8 Yrs  \n",
       "9            Cloudstrats Technologies Private Limited    5-8 Yrs  \n",
       "10                                     Country Veggie    1-3 Yrs  \n",
       "11                                              iNICU    1-5 Yrs  \n",
       "12                                          BlackBuck    3-7 Yrs  \n",
       "13                         LANCE LABS PRIVATE LIMITED    0-3 Yrs  \n",
       "14                                            Sentieo    2-7 Yrs  \n",
       "15                                    Mahajan Imaging    2-6 Yrs  \n",
       "16                                    Mahajan Imaging    2-6 Yrs  \n",
       "17                                          Delhivery    1-3 Yrs  \n",
       "18                                VBPO India Pvt Ltd.    3-6 Yrs  \n",
       "19             itForte Staffing Services Private Ltd.    3-8 Yrs  "
      ]
     },
     "execution_count": 253,
     "metadata": {},
     "output_type": "execute_result"
    }
   ],
   "source": [
    "df"
   ]
  },
  {
   "cell_type": "code",
   "execution_count": 256,
   "metadata": {},
   "outputs": [],
   "source": [
    "df1=df.iloc[0:10,:]"
   ]
  },
  {
   "cell_type": "code",
   "execution_count": 257,
   "metadata": {},
   "outputs": [
    {
     "data": {
      "text/html": [
       "<div>\n",
       "<style scoped>\n",
       "    .dataframe tbody tr th:only-of-type {\n",
       "        vertical-align: middle;\n",
       "    }\n",
       "\n",
       "    .dataframe tbody tr th {\n",
       "        vertical-align: top;\n",
       "    }\n",
       "\n",
       "    .dataframe thead th {\n",
       "        text-align: right;\n",
       "    }\n",
       "</style>\n",
       "<table border=\"1\" class=\"dataframe\">\n",
       "  <thead>\n",
       "    <tr style=\"text-align: right;\">\n",
       "      <th></th>\n",
       "      <th>Job_title</th>\n",
       "      <th>job_location</th>\n",
       "      <th>Company_name</th>\n",
       "      <th>experience</th>\n",
       "    </tr>\n",
       "  </thead>\n",
       "  <tbody>\n",
       "    <tr>\n",
       "      <th>0</th>\n",
       "      <td>Data Scientist / Data Analyst -Business Analyst</td>\n",
       "      <td>Mumbai, Hyderabad/Secunderabad, Pune, Gurgaon/...</td>\n",
       "      <td>Inflexion Analytix Private Limited</td>\n",
       "      <td>0-3 Yrs</td>\n",
       "    </tr>\n",
       "    <tr>\n",
       "      <th>1</th>\n",
       "      <td>Data Scientist</td>\n",
       "      <td>Noida, Hyderabad/Secunderabad, Bangalore/Benga...</td>\n",
       "      <td>IBM India Pvt. Limited</td>\n",
       "      <td>4-9 Yrs</td>\n",
       "    </tr>\n",
       "    <tr>\n",
       "      <th>2</th>\n",
       "      <td>Senior Data Scientist II 5+ yrs II Gurgaon</td>\n",
       "      <td>Gurgaon/Gurugram</td>\n",
       "      <td>Zenatix Solutions Private Limited</td>\n",
       "      <td>5-10 Yrs</td>\n",
       "    </tr>\n",
       "    <tr>\n",
       "      <th>3</th>\n",
       "      <td>Excellent opportunity For Data Scientist</td>\n",
       "      <td>Noida, Bangalore/Bengaluru</td>\n",
       "      <td>NEC CORPORATION INDIA PRIVATE LIMITED</td>\n",
       "      <td>3-7 Yrs</td>\n",
       "    </tr>\n",
       "    <tr>\n",
       "      <th>4</th>\n",
       "      <td>Data Scientist</td>\n",
       "      <td>New Delhi, Gurgaon/Gurugram, Delhi / NCR</td>\n",
       "      <td>Mobikwik</td>\n",
       "      <td>3-5 Yrs</td>\n",
       "    </tr>\n",
       "    <tr>\n",
       "      <th>5</th>\n",
       "      <td>DATA Scientist – Gurgaon (Exp 3-6 years)</td>\n",
       "      <td>Gurgaon/Gurugram, Delhi / NCR</td>\n",
       "      <td>CRESCENDO GLOBAL LEADERSHIP HIRING INDIA PRIVA...</td>\n",
       "      <td>3-6 Yrs</td>\n",
       "    </tr>\n",
       "    <tr>\n",
       "      <th>6</th>\n",
       "      <td>DATA Scientist – Gurgaon (Exp 3-6 years)</td>\n",
       "      <td>Gurgaon/Gurugram, Delhi / NCR</td>\n",
       "      <td>CRESCENDO GLOBAL LEADERSHIP HIRING INDIA PRIVA...</td>\n",
       "      <td>3-6 Yrs</td>\n",
       "    </tr>\n",
       "    <tr>\n",
       "      <th>7</th>\n",
       "      <td>Data Scientist - Noida</td>\n",
       "      <td>Noida</td>\n",
       "      <td>Optum Global Solutions (India) Private Limited</td>\n",
       "      <td>3-5 Yrs</td>\n",
       "    </tr>\n",
       "    <tr>\n",
       "      <th>8</th>\n",
       "      <td>Data Scientist - Noida/ B'lore</td>\n",
       "      <td>Noida, Bangalore/Bengaluru</td>\n",
       "      <td>NEC CORPORATION INDIA PRIVATE LIMITED</td>\n",
       "      <td>3-8 Yrs</td>\n",
       "    </tr>\n",
       "    <tr>\n",
       "      <th>9</th>\n",
       "      <td>Data Scientist</td>\n",
       "      <td>Bangalore/Bengaluru, Delhi / NCR, Mumbai (All ...</td>\n",
       "      <td>Cloudstrats Technologies Private Limited</td>\n",
       "      <td>5-8 Yrs</td>\n",
       "    </tr>\n",
       "  </tbody>\n",
       "</table>\n",
       "</div>"
      ],
      "text/plain": [
       "                                         Job_title  \\\n",
       "0  Data Scientist / Data Analyst -Business Analyst   \n",
       "1                                   Data Scientist   \n",
       "2       Senior Data Scientist II 5+ yrs II Gurgaon   \n",
       "3         Excellent opportunity For Data Scientist   \n",
       "4                                   Data Scientist   \n",
       "5         DATA Scientist – Gurgaon (Exp 3-6 years)   \n",
       "6         DATA Scientist – Gurgaon (Exp 3-6 years)   \n",
       "7                           Data Scientist - Noida   \n",
       "8                   Data Scientist - Noida/ B'lore   \n",
       "9                                   Data Scientist   \n",
       "\n",
       "                                        job_location  \\\n",
       "0  Mumbai, Hyderabad/Secunderabad, Pune, Gurgaon/...   \n",
       "1  Noida, Hyderabad/Secunderabad, Bangalore/Benga...   \n",
       "2                                   Gurgaon/Gurugram   \n",
       "3                         Noida, Bangalore/Bengaluru   \n",
       "4           New Delhi, Gurgaon/Gurugram, Delhi / NCR   \n",
       "5                      Gurgaon/Gurugram, Delhi / NCR   \n",
       "6                      Gurgaon/Gurugram, Delhi / NCR   \n",
       "7                                              Noida   \n",
       "8                         Noida, Bangalore/Bengaluru   \n",
       "9  Bangalore/Bengaluru, Delhi / NCR, Mumbai (All ...   \n",
       "\n",
       "                                        Company_name experience  \n",
       "0                 Inflexion Analytix Private Limited    0-3 Yrs  \n",
       "1                             IBM India Pvt. Limited    4-9 Yrs  \n",
       "2                  Zenatix Solutions Private Limited   5-10 Yrs  \n",
       "3              NEC CORPORATION INDIA PRIVATE LIMITED    3-7 Yrs  \n",
       "4                                           Mobikwik    3-5 Yrs  \n",
       "5  CRESCENDO GLOBAL LEADERSHIP HIRING INDIA PRIVA...    3-6 Yrs  \n",
       "6  CRESCENDO GLOBAL LEADERSHIP HIRING INDIA PRIVA...    3-6 Yrs  \n",
       "7     Optum Global Solutions (India) Private Limited    3-5 Yrs  \n",
       "8              NEC CORPORATION INDIA PRIVATE LIMITED    3-8 Yrs  \n",
       "9           Cloudstrats Technologies Private Limited    5-8 Yrs  "
      ]
     },
     "execution_count": 257,
     "metadata": {},
     "output_type": "execute_result"
    }
   ],
   "source": [
    "df1"
   ]
  },
  {
   "cell_type": "markdown",
   "metadata": {},
   "source": [
    "# Q3 completed"
   ]
  },
  {
   "cell_type": "code",
   "execution_count": 206,
   "metadata": {},
   "outputs": [],
   "source": [
    "driver4=webdriver.Chrome(r\"C:\\Users\\Bhumik Shah\\Downloads\\chromedriver_win32\\chromedriver.exe\")"
   ]
  },
  {
   "cell_type": "code",
   "execution_count": 207,
   "metadata": {},
   "outputs": [],
   "source": [
    "url='https://www.glassdoor.co.in/index.htm'"
   ]
  },
  {
   "cell_type": "code",
   "execution_count": 208,
   "metadata": {},
   "outputs": [],
   "source": [
    "driver4.get(url)"
   ]
  },
  {
   "cell_type": "code",
   "execution_count": 209,
   "metadata": {},
   "outputs": [],
   "source": [
    "job_search=driver4.find_element_by_id('sc.keyword')"
   ]
  },
  {
   "cell_type": "code",
   "execution_count": 210,
   "metadata": {},
   "outputs": [
    {
     "data": {
      "text/plain": [
       "<selenium.webdriver.remote.webelement.WebElement (session=\"675b00b1083a86e6271c0319488ef534\", element=\"80d65886-49f9-4472-b980-617fa49b7ea8\")>"
      ]
     },
     "execution_count": 210,
     "metadata": {},
     "output_type": "execute_result"
    }
   ],
   "source": [
    "job_search"
   ]
  },
  {
   "cell_type": "code",
   "execution_count": 211,
   "metadata": {},
   "outputs": [],
   "source": [
    "job_search.clear()"
   ]
  },
  {
   "cell_type": "code",
   "execution_count": 212,
   "metadata": {},
   "outputs": [],
   "source": [
    "job_search.send_keys('Data Scientist')"
   ]
  },
  {
   "cell_type": "code",
   "execution_count": 215,
   "metadata": {},
   "outputs": [],
   "source": [
    "job_loc=driver4.find_element_by_id(\"sc.location\")"
   ]
  },
  {
   "cell_type": "code",
   "execution_count": 216,
   "metadata": {},
   "outputs": [
    {
     "data": {
      "text/plain": [
       "<selenium.webdriver.remote.webelement.WebElement (session=\"675b00b1083a86e6271c0319488ef534\", element=\"8acc88a3-ee93-4cb6-9c68-23cdd913f114\")>"
      ]
     },
     "execution_count": 216,
     "metadata": {},
     "output_type": "execute_result"
    }
   ],
   "source": [
    "job_loc"
   ]
  },
  {
   "cell_type": "code",
   "execution_count": 217,
   "metadata": {},
   "outputs": [],
   "source": [
    "job_loc.clear()"
   ]
  },
  {
   "cell_type": "code",
   "execution_count": 218,
   "metadata": {},
   "outputs": [],
   "source": [
    "job_loc.send_keys('Noida')"
   ]
  },
  {
   "cell_type": "code",
   "execution_count": 220,
   "metadata": {},
   "outputs": [],
   "source": [
    "search=driver4.find_element_by_xpath(\"//button[@type='submit']/span\")"
   ]
  },
  {
   "cell_type": "code",
   "execution_count": 221,
   "metadata": {},
   "outputs": [
    {
     "data": {
      "text/plain": [
       "<selenium.webdriver.remote.webelement.WebElement (session=\"675b00b1083a86e6271c0319488ef534\", element=\"104fabf8-a669-4ca9-82ef-ae7940ec54ed\")>"
      ]
     },
     "execution_count": 221,
     "metadata": {},
     "output_type": "execute_result"
    }
   ],
   "source": [
    "search"
   ]
  },
  {
   "cell_type": "code",
   "execution_count": 222,
   "metadata": {},
   "outputs": [],
   "source": [
    "search.click()"
   ]
  },
  {
   "cell_type": "code",
   "execution_count": 233,
   "metadata": {},
   "outputs": [],
   "source": [
    "com_name=driver4.find_elements_by_xpath(\"//a[@class=' css-l2wjgv e1n63ojh0 jobLink']\")"
   ]
  },
  {
   "cell_type": "code",
   "execution_count": 234,
   "metadata": {},
   "outputs": [
    {
     "data": {
      "text/plain": [
       "[<selenium.webdriver.remote.webelement.WebElement (session=\"675b00b1083a86e6271c0319488ef534\", element=\"95f1ae48-d47c-439d-95c2-ce79cae2b227\")>,\n",
       " <selenium.webdriver.remote.webelement.WebElement (session=\"675b00b1083a86e6271c0319488ef534\", element=\"0504e6ae-67eb-4f56-83f2-1058605e3899\")>,\n",
       " <selenium.webdriver.remote.webelement.WebElement (session=\"675b00b1083a86e6271c0319488ef534\", element=\"f7c321c0-d8b8-40f0-8a24-3da1b28dcaf2\")>,\n",
       " <selenium.webdriver.remote.webelement.WebElement (session=\"675b00b1083a86e6271c0319488ef534\", element=\"48c22c96-c6cb-494b-90bd-d991f0756915\")>,\n",
       " <selenium.webdriver.remote.webelement.WebElement (session=\"675b00b1083a86e6271c0319488ef534\", element=\"ab0685bb-89b0-4568-a33f-3be28279e495\")>,\n",
       " <selenium.webdriver.remote.webelement.WebElement (session=\"675b00b1083a86e6271c0319488ef534\", element=\"ddd0403a-0566-4cdb-a7ce-a19369b70898\")>,\n",
       " <selenium.webdriver.remote.webelement.WebElement (session=\"675b00b1083a86e6271c0319488ef534\", element=\"05824c4b-ca93-4a1f-be8e-8c571e2b849b\")>,\n",
       " <selenium.webdriver.remote.webelement.WebElement (session=\"675b00b1083a86e6271c0319488ef534\", element=\"ed0c2691-bb12-4cec-93d7-edfd797874dc\")>,\n",
       " <selenium.webdriver.remote.webelement.WebElement (session=\"675b00b1083a86e6271c0319488ef534\", element=\"367ec9bd-1cd8-4c66-92d3-1d05647971ee\")>,\n",
       " <selenium.webdriver.remote.webelement.WebElement (session=\"675b00b1083a86e6271c0319488ef534\", element=\"bad4afbb-db7e-4074-9799-7b8af6377d1f\")>,\n",
       " <selenium.webdriver.remote.webelement.WebElement (session=\"675b00b1083a86e6271c0319488ef534\", element=\"aee6489f-5546-4de6-a721-b2d4eb5d5412\")>,\n",
       " <selenium.webdriver.remote.webelement.WebElement (session=\"675b00b1083a86e6271c0319488ef534\", element=\"d69c8133-3736-4af0-9c06-d442aa950cb4\")>,\n",
       " <selenium.webdriver.remote.webelement.WebElement (session=\"675b00b1083a86e6271c0319488ef534\", element=\"02c8b3d5-be65-4456-92d8-5621844b611a\")>,\n",
       " <selenium.webdriver.remote.webelement.WebElement (session=\"675b00b1083a86e6271c0319488ef534\", element=\"d1aaed53-cdd0-4d17-9101-4b7f32032883\")>,\n",
       " <selenium.webdriver.remote.webelement.WebElement (session=\"675b00b1083a86e6271c0319488ef534\", element=\"5f447aef-bde1-405a-8dad-ddc0656e72a6\")>,\n",
       " <selenium.webdriver.remote.webelement.WebElement (session=\"675b00b1083a86e6271c0319488ef534\", element=\"281f8f0d-ae9c-4be7-bb9a-01de566a269e\")>,\n",
       " <selenium.webdriver.remote.webelement.WebElement (session=\"675b00b1083a86e6271c0319488ef534\", element=\"2c1da375-fdda-4241-8fc0-62b1266aa12d\")>,\n",
       " <selenium.webdriver.remote.webelement.WebElement (session=\"675b00b1083a86e6271c0319488ef534\", element=\"6e67663e-c04b-4292-a22e-1f6bd680d315\")>,\n",
       " <selenium.webdriver.remote.webelement.WebElement (session=\"675b00b1083a86e6271c0319488ef534\", element=\"afcefff7-8271-439d-87c1-40a226f22af9\")>,\n",
       " <selenium.webdriver.remote.webelement.WebElement (session=\"675b00b1083a86e6271c0319488ef534\", element=\"ac640059-00f7-4c98-9bf7-428d3f9acb6a\")>,\n",
       " <selenium.webdriver.remote.webelement.WebElement (session=\"675b00b1083a86e6271c0319488ef534\", element=\"e863a8ce-05ff-4d49-810d-76b03a05f653\")>,\n",
       " <selenium.webdriver.remote.webelement.WebElement (session=\"675b00b1083a86e6271c0319488ef534\", element=\"7c76162e-2729-4f02-992a-2e8f6c78b41f\")>,\n",
       " <selenium.webdriver.remote.webelement.WebElement (session=\"675b00b1083a86e6271c0319488ef534\", element=\"0e2e3bef-fc3d-4ee1-8921-b74b55170ab7\")>,\n",
       " <selenium.webdriver.remote.webelement.WebElement (session=\"675b00b1083a86e6271c0319488ef534\", element=\"760850f1-8ab0-4cf7-ba39-89a399610d9a\")>,\n",
       " <selenium.webdriver.remote.webelement.WebElement (session=\"675b00b1083a86e6271c0319488ef534\", element=\"2a069946-df5d-405d-b48b-8491bbdba6d9\")>,\n",
       " <selenium.webdriver.remote.webelement.WebElement (session=\"675b00b1083a86e6271c0319488ef534\", element=\"fc057a93-d49c-436c-95bc-b35b73ef4303\")>,\n",
       " <selenium.webdriver.remote.webelement.WebElement (session=\"675b00b1083a86e6271c0319488ef534\", element=\"ca708cab-8694-4519-b0fc-ecc9f8e1bc94\")>,\n",
       " <selenium.webdriver.remote.webelement.WebElement (session=\"675b00b1083a86e6271c0319488ef534\", element=\"84da0320-438a-4154-9183-a59b1065de14\")>,\n",
       " <selenium.webdriver.remote.webelement.WebElement (session=\"675b00b1083a86e6271c0319488ef534\", element=\"d1100bf8-86ed-4612-84c1-80002ce8e4a0\")>,\n",
       " <selenium.webdriver.remote.webelement.WebElement (session=\"675b00b1083a86e6271c0319488ef534\", element=\"94433a30-5dfd-4fa3-9f18-58343f0d05e1\")>]"
      ]
     },
     "execution_count": 234,
     "metadata": {},
     "output_type": "execute_result"
    }
   ],
   "source": [
    "com_name"
   ]
  },
  {
   "cell_type": "code",
   "execution_count": 235,
   "metadata": {},
   "outputs": [
    {
     "data": {
      "text/plain": [
       "['Biz2Credit Inc',\n",
       " 'Ericsson',\n",
       " 'CRMNEXT',\n",
       " 'CRMNEXT',\n",
       " 'Techlive',\n",
       " 'Salasar New Age Technologies',\n",
       " 'ANI Calls India Private Limited',\n",
       " 'Sparkbpl',\n",
       " 'Salasar New Age Technologies',\n",
       " 'SearchUrCollege',\n",
       " 'WishFin',\n",
       " 'Skyjobs hr services',\n",
       " 'Galaxy Card',\n",
       " 'xtLytics',\n",
       " 'ANI Calls India Private Limited',\n",
       " 'Adobe',\n",
       " 'HDFC Bank',\n",
       " 'Innovacer',\n",
       " 'Dürr Somac GmbH',\n",
       " 'Adobe',\n",
       " 'Dürr IT Services India',\n",
       " 'dunnhumby',\n",
       " 'xtLytics',\n",
       " 'ANI Calls India Private Limited',\n",
       " 'UnitedHealth Group',\n",
       " 'Priority Vendor',\n",
       " 'Nitesh Kumar',\n",
       " 'Lantern Digital Services',\n",
       " 'Emerging India Group',\n",
       " 'Mind Works Global']"
      ]
     },
     "execution_count": 235,
     "metadata": {},
     "output_type": "execute_result"
    }
   ],
   "source": [
    "comp_name1=[]\n",
    "for i in com_name:\n",
    "        comp_name1.append(i.text)\n",
    "comp_name1"
   ]
  },
  {
   "cell_type": "code",
   "execution_count": 236,
   "metadata": {},
   "outputs": [],
   "source": [
    "job_post=driver4.find_elements_by_xpath(\"//div[@class='d-flex align-items-end pl-std css-mi55ob']\")"
   ]
  },
  {
   "cell_type": "code",
   "execution_count": 237,
   "metadata": {},
   "outputs": [
    {
     "data": {
      "text/plain": [
       "[<selenium.webdriver.remote.webelement.WebElement (session=\"675b00b1083a86e6271c0319488ef534\", element=\"b3fd11b3-b7aa-4446-abc9-de2c6c6ad7f0\")>,\n",
       " <selenium.webdriver.remote.webelement.WebElement (session=\"675b00b1083a86e6271c0319488ef534\", element=\"ae932736-7114-4b32-bd2f-ca7a061100ea\")>,\n",
       " <selenium.webdriver.remote.webelement.WebElement (session=\"675b00b1083a86e6271c0319488ef534\", element=\"e47ca563-d72d-454d-954f-be349e13b8d5\")>,\n",
       " <selenium.webdriver.remote.webelement.WebElement (session=\"675b00b1083a86e6271c0319488ef534\", element=\"0c2e7ce5-bf9b-4606-a7a1-e8d0dfba1ab6\")>,\n",
       " <selenium.webdriver.remote.webelement.WebElement (session=\"675b00b1083a86e6271c0319488ef534\", element=\"13e0e860-140d-4616-a637-35bdf893565d\")>,\n",
       " <selenium.webdriver.remote.webelement.WebElement (session=\"675b00b1083a86e6271c0319488ef534\", element=\"4338e765-7963-45dd-80c2-2d2675ace056\")>,\n",
       " <selenium.webdriver.remote.webelement.WebElement (session=\"675b00b1083a86e6271c0319488ef534\", element=\"a13f326d-deb0-4dc4-8d59-4db306d8a6ff\")>,\n",
       " <selenium.webdriver.remote.webelement.WebElement (session=\"675b00b1083a86e6271c0319488ef534\", element=\"8cc939a5-77aa-490e-8221-24709c40403f\")>,\n",
       " <selenium.webdriver.remote.webelement.WebElement (session=\"675b00b1083a86e6271c0319488ef534\", element=\"4dbf7cf8-36ee-401b-af4b-c8aaa593c760\")>,\n",
       " <selenium.webdriver.remote.webelement.WebElement (session=\"675b00b1083a86e6271c0319488ef534\", element=\"9a8feea5-22a1-4d76-aed2-4c4cdc642b15\")>,\n",
       " <selenium.webdriver.remote.webelement.WebElement (session=\"675b00b1083a86e6271c0319488ef534\", element=\"013c9a79-6280-42a3-9355-61f73a7ab355\")>,\n",
       " <selenium.webdriver.remote.webelement.WebElement (session=\"675b00b1083a86e6271c0319488ef534\", element=\"7145c102-18c1-4d83-86fc-4ee66e8a371e\")>,\n",
       " <selenium.webdriver.remote.webelement.WebElement (session=\"675b00b1083a86e6271c0319488ef534\", element=\"1176274e-80f7-42f2-b855-6f0eac3285c1\")>,\n",
       " <selenium.webdriver.remote.webelement.WebElement (session=\"675b00b1083a86e6271c0319488ef534\", element=\"40dd8305-2d03-402b-a8d5-e7efa8e47bab\")>,\n",
       " <selenium.webdriver.remote.webelement.WebElement (session=\"675b00b1083a86e6271c0319488ef534\", element=\"4ebe570f-1a22-4938-989e-3524775610a7\")>,\n",
       " <selenium.webdriver.remote.webelement.WebElement (session=\"675b00b1083a86e6271c0319488ef534\", element=\"7aa9e601-353f-4fe1-9aac-290e3adcf445\")>,\n",
       " <selenium.webdriver.remote.webelement.WebElement (session=\"675b00b1083a86e6271c0319488ef534\", element=\"b226410b-8da5-438f-96c5-9c9f14042443\")>,\n",
       " <selenium.webdriver.remote.webelement.WebElement (session=\"675b00b1083a86e6271c0319488ef534\", element=\"3851a225-da13-47d6-be1c-3ac2d282f6ea\")>,\n",
       " <selenium.webdriver.remote.webelement.WebElement (session=\"675b00b1083a86e6271c0319488ef534\", element=\"17b306a6-df58-4d2c-a877-c58221513370\")>,\n",
       " <selenium.webdriver.remote.webelement.WebElement (session=\"675b00b1083a86e6271c0319488ef534\", element=\"30cc9808-363f-4f4b-abc9-ff547d5dba85\")>,\n",
       " <selenium.webdriver.remote.webelement.WebElement (session=\"675b00b1083a86e6271c0319488ef534\", element=\"060c6da0-fe2b-403c-9a02-ee2dbb4ad4df\")>,\n",
       " <selenium.webdriver.remote.webelement.WebElement (session=\"675b00b1083a86e6271c0319488ef534\", element=\"521ca868-c3f1-4163-9c10-8b42cf43ecba\")>,\n",
       " <selenium.webdriver.remote.webelement.WebElement (session=\"675b00b1083a86e6271c0319488ef534\", element=\"2480d109-bf34-4f1e-93f2-9a2d2cd3c08e\")>,\n",
       " <selenium.webdriver.remote.webelement.WebElement (session=\"675b00b1083a86e6271c0319488ef534\", element=\"9d824bef-4e72-4186-a8d3-faca338c41bd\")>,\n",
       " <selenium.webdriver.remote.webelement.WebElement (session=\"675b00b1083a86e6271c0319488ef534\", element=\"c6a7b68c-fc97-4df5-be7c-89b3d7e79ee2\")>,\n",
       " <selenium.webdriver.remote.webelement.WebElement (session=\"675b00b1083a86e6271c0319488ef534\", element=\"c7e177fb-6237-44b8-94e9-12ff43ecc80c\")>,\n",
       " <selenium.webdriver.remote.webelement.WebElement (session=\"675b00b1083a86e6271c0319488ef534\", element=\"5c0335cd-f807-4b38-8b63-850b05eb9ff4\")>,\n",
       " <selenium.webdriver.remote.webelement.WebElement (session=\"675b00b1083a86e6271c0319488ef534\", element=\"0970598e-8b15-4717-b927-e36c6f8276c9\")>,\n",
       " <selenium.webdriver.remote.webelement.WebElement (session=\"675b00b1083a86e6271c0319488ef534\", element=\"01e80efb-2b2c-4976-ae88-3c8babc4370c\")>,\n",
       " <selenium.webdriver.remote.webelement.WebElement (session=\"675b00b1083a86e6271c0319488ef534\", element=\"0025a5ca-cafd-4fcc-bf50-19feb50d1ed1\")>]"
      ]
     },
     "execution_count": 237,
     "metadata": {},
     "output_type": "execute_result"
    }
   ],
   "source": [
    "job_post"
   ]
  },
  {
   "cell_type": "code",
   "execution_count": 238,
   "metadata": {},
   "outputs": [
    {
     "data": {
      "text/plain": [
       "['30d+',\n",
       " '8d',\n",
       " '6d',\n",
       " '6d',\n",
       " '30d+',\n",
       " '30d+',\n",
       " '30d+',\n",
       " '7d',\n",
       " '30d+',\n",
       " '30d+',\n",
       " '30d+',\n",
       " '24h',\n",
       " '12d',\n",
       " '30d+',\n",
       " '30d+',\n",
       " '24h',\n",
       " '30d+',\n",
       " '26d',\n",
       " '30d+',\n",
       " '18d',\n",
       " '30d+',\n",
       " '6d',\n",
       " '30d+',\n",
       " '30d+',\n",
       " '30d+',\n",
       " '30d+',\n",
       " '3d',\n",
       " '30d+',\n",
       " '6d',\n",
       " '11d']"
      ]
     },
     "execution_count": 238,
     "metadata": {},
     "output_type": "execute_result"
    }
   ],
   "source": [
    "job_post_date=[]\n",
    "for i in job_post:\n",
    "    job_post_date.append(i.text)\n",
    "job_post_date"
   ]
  },
  {
   "cell_type": "code",
   "execution_count": 239,
   "metadata": {},
   "outputs": [],
   "source": [
    "review=driver4.find_elements_by_xpath(\"//span[@class='css-19pjha7 e1cjmv6j1']\")"
   ]
  },
  {
   "cell_type": "code",
   "execution_count": 240,
   "metadata": {},
   "outputs": [
    {
     "data": {
      "text/plain": [
       "[<selenium.webdriver.remote.webelement.WebElement (session=\"675b00b1083a86e6271c0319488ef534\", element=\"ad830e66-85a1-40d2-8857-c89955e9a3c7\")>,\n",
       " <selenium.webdriver.remote.webelement.WebElement (session=\"675b00b1083a86e6271c0319488ef534\", element=\"a0d24cf0-f4b7-483a-ac12-08073a3a3bcb\")>,\n",
       " <selenium.webdriver.remote.webelement.WebElement (session=\"675b00b1083a86e6271c0319488ef534\", element=\"e95cdebd-140e-4530-9558-3c2d046916f9\")>,\n",
       " <selenium.webdriver.remote.webelement.WebElement (session=\"675b00b1083a86e6271c0319488ef534\", element=\"a732f9fc-80b4-4373-a2e4-19f91f0f64f8\")>,\n",
       " <selenium.webdriver.remote.webelement.WebElement (session=\"675b00b1083a86e6271c0319488ef534\", element=\"4d9c17e1-0c6d-48fe-97c9-a07b7663d666\")>,\n",
       " <selenium.webdriver.remote.webelement.WebElement (session=\"675b00b1083a86e6271c0319488ef534\", element=\"300b4a66-f0c0-436b-9057-78f374403459\")>,\n",
       " <selenium.webdriver.remote.webelement.WebElement (session=\"675b00b1083a86e6271c0319488ef534\", element=\"71843799-c1b5-44ea-bc61-1886202f6cab\")>,\n",
       " <selenium.webdriver.remote.webelement.WebElement (session=\"675b00b1083a86e6271c0319488ef534\", element=\"83e7219d-f5ee-4668-9bda-b17f5df71345\")>,\n",
       " <selenium.webdriver.remote.webelement.WebElement (session=\"675b00b1083a86e6271c0319488ef534\", element=\"2ff40142-1213-47f5-8f16-f334ab9eb849\")>,\n",
       " <selenium.webdriver.remote.webelement.WebElement (session=\"675b00b1083a86e6271c0319488ef534\", element=\"08a5dde7-23a2-4542-8e70-7de5bfc81138\")>,\n",
       " <selenium.webdriver.remote.webelement.WebElement (session=\"675b00b1083a86e6271c0319488ef534\", element=\"784690ba-4413-44f1-85c8-b1de1486e6fb\")>,\n",
       " <selenium.webdriver.remote.webelement.WebElement (session=\"675b00b1083a86e6271c0319488ef534\", element=\"994d9960-4d5f-47b5-961c-64b0ad32ddf6\")>,\n",
       " <selenium.webdriver.remote.webelement.WebElement (session=\"675b00b1083a86e6271c0319488ef534\", element=\"4fe795aa-5e6d-4a82-890c-d87b1af242b0\")>,\n",
       " <selenium.webdriver.remote.webelement.WebElement (session=\"675b00b1083a86e6271c0319488ef534\", element=\"6a6a4aff-87c0-4269-bbe8-1d3bd000fd2d\")>,\n",
       " <selenium.webdriver.remote.webelement.WebElement (session=\"675b00b1083a86e6271c0319488ef534\", element=\"370f8cbb-1e99-4716-ad3f-0e61fced516f\")>,\n",
       " <selenium.webdriver.remote.webelement.WebElement (session=\"675b00b1083a86e6271c0319488ef534\", element=\"e4884f39-6989-4493-ad9c-fb42c266273e\")>,\n",
       " <selenium.webdriver.remote.webelement.WebElement (session=\"675b00b1083a86e6271c0319488ef534\", element=\"6b66fbff-c913-4243-b1d7-d2ab7eaef963\")>,\n",
       " <selenium.webdriver.remote.webelement.WebElement (session=\"675b00b1083a86e6271c0319488ef534\", element=\"472ab24b-ca06-4e34-9eb1-bd7ceea9964a\")>,\n",
       " <selenium.webdriver.remote.webelement.WebElement (session=\"675b00b1083a86e6271c0319488ef534\", element=\"c50b00cc-2ff7-4f56-9a1c-cdfce6c56cd8\")>,\n",
       " <selenium.webdriver.remote.webelement.WebElement (session=\"675b00b1083a86e6271c0319488ef534\", element=\"f3f819f6-2c09-4c3a-b577-275b27b87cc9\")>]"
      ]
     },
     "execution_count": 240,
     "metadata": {},
     "output_type": "execute_result"
    }
   ],
   "source": [
    "review"
   ]
  },
  {
   "cell_type": "code",
   "execution_count": 241,
   "metadata": {},
   "outputs": [],
   "source": [
    "reviews=[]\n",
    "for i in review:\n",
    "    if i.text is None:\n",
    "        reviews.append(0)\n",
    "    else:\n",
    "        reviews.append(i.text)"
   ]
  },
  {
   "cell_type": "code",
   "execution_count": 242,
   "metadata": {},
   "outputs": [
    {
     "data": {
      "text/plain": [
       "['3.8',\n",
       " '4.1',\n",
       " '3.6',\n",
       " '3.6',\n",
       " '5.0',\n",
       " '3.8',\n",
       " '3.0',\n",
       " '4.4',\n",
       " '3.6',\n",
       " '3.5',\n",
       " '4.4',\n",
       " '4.0',\n",
       " '4.1',\n",
       " '3.0',\n",
       " '3.6',\n",
       " '3.7',\n",
       " '3.8',\n",
       " '3.6',\n",
       " '1.9',\n",
       " '3.1']"
      ]
     },
     "execution_count": 242,
     "metadata": {},
     "output_type": "execute_result"
    }
   ],
   "source": [
    "reviews"
   ]
  },
  {
   "cell_type": "code",
   "execution_count": 244,
   "metadata": {},
   "outputs": [
    {
     "name": "stdout",
     "output_type": "stream",
     "text": [
      "20 30\n"
     ]
    }
   ],
   "source": [
    "print(len(reviews),len(job_post_date))"
   ]
  },
  {
   "cell_type": "code",
   "execution_count": 245,
   "metadata": {},
   "outputs": [],
   "source": [
    "reviews.insert(5,'0')"
   ]
  },
  {
   "cell_type": "code",
   "execution_count": 247,
   "metadata": {},
   "outputs": [],
   "source": [
    "reviews.insert(6,'0')\n",
    "reviews.insert(7,'0')\n",
    "reviews.insert(8,'0')\n",
    "reviews.insert(9,'0')\n",
    "reviews.insert(11,'0')\n",
    "reviews.insert(12,'0')\n",
    "reviews.insert(14,'0')\n",
    "reviews.insert(18,'0')\n",
    "reviews.insert(23,'0')"
   ]
  },
  {
   "cell_type": "code",
   "execution_count": 248,
   "metadata": {},
   "outputs": [
    {
     "data": {
      "text/plain": [
       "['3.8',\n",
       " '4.1',\n",
       " '3.6',\n",
       " '3.6',\n",
       " '5.0',\n",
       " '0',\n",
       " '0',\n",
       " '0',\n",
       " '0',\n",
       " '0',\n",
       " '3.8',\n",
       " '0',\n",
       " '0',\n",
       " '3.0',\n",
       " '0',\n",
       " '4.4',\n",
       " '3.6',\n",
       " '3.5',\n",
       " '0',\n",
       " '4.4',\n",
       " '4.0',\n",
       " '4.1',\n",
       " '3.0',\n",
       " '0',\n",
       " '3.6',\n",
       " '3.7',\n",
       " '3.8',\n",
       " '3.6',\n",
       " '1.9',\n",
       " '3.1']"
      ]
     },
     "execution_count": 248,
     "metadata": {},
     "output_type": "execute_result"
    }
   ],
   "source": [
    "reviews"
   ]
  },
  {
   "cell_type": "code",
   "execution_count": 251,
   "metadata": {},
   "outputs": [
    {
     "name": "stdout",
     "output_type": "stream",
     "text": [
      "30 30 30\n"
     ]
    }
   ],
   "source": [
    "print(len(comp_name1),len(job_post_date),len(reviews))"
   ]
  },
  {
   "cell_type": "code",
   "execution_count": 252,
   "metadata": {},
   "outputs": [],
   "source": [
    "df5=pd.DataFrame({})\n",
    "df5['Organization_name']=comp_name1\n",
    "df5['job_posting']=job_post_date\n",
    "df5['reviews']=reviews"
   ]
  },
  {
   "cell_type": "code",
   "execution_count": 253,
   "metadata": {},
   "outputs": [
    {
     "data": {
      "text/html": [
       "<div>\n",
       "<style scoped>\n",
       "    .dataframe tbody tr th:only-of-type {\n",
       "        vertical-align: middle;\n",
       "    }\n",
       "\n",
       "    .dataframe tbody tr th {\n",
       "        vertical-align: top;\n",
       "    }\n",
       "\n",
       "    .dataframe thead th {\n",
       "        text-align: right;\n",
       "    }\n",
       "</style>\n",
       "<table border=\"1\" class=\"dataframe\">\n",
       "  <thead>\n",
       "    <tr style=\"text-align: right;\">\n",
       "      <th></th>\n",
       "      <th>Organization_name</th>\n",
       "      <th>job_posting</th>\n",
       "      <th>reviews</th>\n",
       "    </tr>\n",
       "  </thead>\n",
       "  <tbody>\n",
       "    <tr>\n",
       "      <th>0</th>\n",
       "      <td>Biz2Credit Inc</td>\n",
       "      <td>30d+</td>\n",
       "      <td>3.8</td>\n",
       "    </tr>\n",
       "    <tr>\n",
       "      <th>1</th>\n",
       "      <td>Ericsson</td>\n",
       "      <td>8d</td>\n",
       "      <td>4.1</td>\n",
       "    </tr>\n",
       "    <tr>\n",
       "      <th>2</th>\n",
       "      <td>CRMNEXT</td>\n",
       "      <td>6d</td>\n",
       "      <td>3.6</td>\n",
       "    </tr>\n",
       "    <tr>\n",
       "      <th>3</th>\n",
       "      <td>CRMNEXT</td>\n",
       "      <td>6d</td>\n",
       "      <td>3.6</td>\n",
       "    </tr>\n",
       "    <tr>\n",
       "      <th>4</th>\n",
       "      <td>Techlive</td>\n",
       "      <td>30d+</td>\n",
       "      <td>5.0</td>\n",
       "    </tr>\n",
       "    <tr>\n",
       "      <th>5</th>\n",
       "      <td>Salasar New Age Technologies</td>\n",
       "      <td>30d+</td>\n",
       "      <td>0</td>\n",
       "    </tr>\n",
       "    <tr>\n",
       "      <th>6</th>\n",
       "      <td>ANI Calls India Private Limited</td>\n",
       "      <td>30d+</td>\n",
       "      <td>0</td>\n",
       "    </tr>\n",
       "    <tr>\n",
       "      <th>7</th>\n",
       "      <td>Sparkbpl</td>\n",
       "      <td>7d</td>\n",
       "      <td>0</td>\n",
       "    </tr>\n",
       "    <tr>\n",
       "      <th>8</th>\n",
       "      <td>Salasar New Age Technologies</td>\n",
       "      <td>30d+</td>\n",
       "      <td>0</td>\n",
       "    </tr>\n",
       "    <tr>\n",
       "      <th>9</th>\n",
       "      <td>SearchUrCollege</td>\n",
       "      <td>30d+</td>\n",
       "      <td>0</td>\n",
       "    </tr>\n",
       "    <tr>\n",
       "      <th>10</th>\n",
       "      <td>WishFin</td>\n",
       "      <td>30d+</td>\n",
       "      <td>3.8</td>\n",
       "    </tr>\n",
       "    <tr>\n",
       "      <th>11</th>\n",
       "      <td>Skyjobs hr services</td>\n",
       "      <td>24h</td>\n",
       "      <td>0</td>\n",
       "    </tr>\n",
       "    <tr>\n",
       "      <th>12</th>\n",
       "      <td>Galaxy Card</td>\n",
       "      <td>12d</td>\n",
       "      <td>0</td>\n",
       "    </tr>\n",
       "    <tr>\n",
       "      <th>13</th>\n",
       "      <td>xtLytics</td>\n",
       "      <td>30d+</td>\n",
       "      <td>3.0</td>\n",
       "    </tr>\n",
       "    <tr>\n",
       "      <th>14</th>\n",
       "      <td>ANI Calls India Private Limited</td>\n",
       "      <td>30d+</td>\n",
       "      <td>0</td>\n",
       "    </tr>\n",
       "    <tr>\n",
       "      <th>15</th>\n",
       "      <td>Adobe</td>\n",
       "      <td>24h</td>\n",
       "      <td>4.4</td>\n",
       "    </tr>\n",
       "    <tr>\n",
       "      <th>16</th>\n",
       "      <td>HDFC Bank</td>\n",
       "      <td>30d+</td>\n",
       "      <td>3.6</td>\n",
       "    </tr>\n",
       "    <tr>\n",
       "      <th>17</th>\n",
       "      <td>Innovacer</td>\n",
       "      <td>26d</td>\n",
       "      <td>3.5</td>\n",
       "    </tr>\n",
       "    <tr>\n",
       "      <th>18</th>\n",
       "      <td>Dürr Somac GmbH</td>\n",
       "      <td>30d+</td>\n",
       "      <td>0</td>\n",
       "    </tr>\n",
       "    <tr>\n",
       "      <th>19</th>\n",
       "      <td>Adobe</td>\n",
       "      <td>18d</td>\n",
       "      <td>4.4</td>\n",
       "    </tr>\n",
       "    <tr>\n",
       "      <th>20</th>\n",
       "      <td>Dürr IT Services India</td>\n",
       "      <td>30d+</td>\n",
       "      <td>4.0</td>\n",
       "    </tr>\n",
       "    <tr>\n",
       "      <th>21</th>\n",
       "      <td>dunnhumby</td>\n",
       "      <td>6d</td>\n",
       "      <td>4.1</td>\n",
       "    </tr>\n",
       "    <tr>\n",
       "      <th>22</th>\n",
       "      <td>xtLytics</td>\n",
       "      <td>30d+</td>\n",
       "      <td>3.0</td>\n",
       "    </tr>\n",
       "    <tr>\n",
       "      <th>23</th>\n",
       "      <td>ANI Calls India Private Limited</td>\n",
       "      <td>30d+</td>\n",
       "      <td>0</td>\n",
       "    </tr>\n",
       "    <tr>\n",
       "      <th>24</th>\n",
       "      <td>UnitedHealth Group</td>\n",
       "      <td>30d+</td>\n",
       "      <td>3.6</td>\n",
       "    </tr>\n",
       "    <tr>\n",
       "      <th>25</th>\n",
       "      <td>Priority Vendor</td>\n",
       "      <td>30d+</td>\n",
       "      <td>3.7</td>\n",
       "    </tr>\n",
       "    <tr>\n",
       "      <th>26</th>\n",
       "      <td>Nitesh Kumar</td>\n",
       "      <td>3d</td>\n",
       "      <td>3.8</td>\n",
       "    </tr>\n",
       "    <tr>\n",
       "      <th>27</th>\n",
       "      <td>Lantern Digital Services</td>\n",
       "      <td>30d+</td>\n",
       "      <td>3.6</td>\n",
       "    </tr>\n",
       "    <tr>\n",
       "      <th>28</th>\n",
       "      <td>Emerging India Group</td>\n",
       "      <td>6d</td>\n",
       "      <td>1.9</td>\n",
       "    </tr>\n",
       "    <tr>\n",
       "      <th>29</th>\n",
       "      <td>Mind Works Global</td>\n",
       "      <td>11d</td>\n",
       "      <td>3.1</td>\n",
       "    </tr>\n",
       "  </tbody>\n",
       "</table>\n",
       "</div>"
      ],
      "text/plain": [
       "                  Organization_name job_posting reviews\n",
       "0                    Biz2Credit Inc        30d+     3.8\n",
       "1                          Ericsson          8d     4.1\n",
       "2                           CRMNEXT          6d     3.6\n",
       "3                           CRMNEXT          6d     3.6\n",
       "4                          Techlive        30d+     5.0\n",
       "5      Salasar New Age Technologies        30d+       0\n",
       "6   ANI Calls India Private Limited        30d+       0\n",
       "7                          Sparkbpl          7d       0\n",
       "8      Salasar New Age Technologies        30d+       0\n",
       "9                   SearchUrCollege        30d+       0\n",
       "10                          WishFin        30d+     3.8\n",
       "11              Skyjobs hr services         24h       0\n",
       "12                      Galaxy Card         12d       0\n",
       "13                         xtLytics        30d+     3.0\n",
       "14  ANI Calls India Private Limited        30d+       0\n",
       "15                            Adobe         24h     4.4\n",
       "16                        HDFC Bank        30d+     3.6\n",
       "17                        Innovacer         26d     3.5\n",
       "18                  Dürr Somac GmbH        30d+       0\n",
       "19                            Adobe         18d     4.4\n",
       "20           Dürr IT Services India        30d+     4.0\n",
       "21                        dunnhumby          6d     4.1\n",
       "22                         xtLytics        30d+     3.0\n",
       "23  ANI Calls India Private Limited        30d+       0\n",
       "24               UnitedHealth Group        30d+     3.6\n",
       "25                  Priority Vendor        30d+     3.7\n",
       "26                     Nitesh Kumar          3d     3.8\n",
       "27         Lantern Digital Services        30d+     3.6\n",
       "28             Emerging India Group          6d     1.9\n",
       "29                Mind Works Global         11d     3.1"
      ]
     },
     "execution_count": 253,
     "metadata": {},
     "output_type": "execute_result"
    }
   ],
   "source": [
    "df5"
   ]
  },
  {
   "cell_type": "code",
   "execution_count": 254,
   "metadata": {},
   "outputs": [],
   "source": [
    "df6=df5.iloc[0:10,:]"
   ]
  },
  {
   "cell_type": "code",
   "execution_count": 256,
   "metadata": {},
   "outputs": [
    {
     "data": {
      "text/html": [
       "<div>\n",
       "<style scoped>\n",
       "    .dataframe tbody tr th:only-of-type {\n",
       "        vertical-align: middle;\n",
       "    }\n",
       "\n",
       "    .dataframe tbody tr th {\n",
       "        vertical-align: top;\n",
       "    }\n",
       "\n",
       "    .dataframe thead th {\n",
       "        text-align: right;\n",
       "    }\n",
       "</style>\n",
       "<table border=\"1\" class=\"dataframe\">\n",
       "  <thead>\n",
       "    <tr style=\"text-align: right;\">\n",
       "      <th></th>\n",
       "      <th>Organization_name</th>\n",
       "      <th>job_posting</th>\n",
       "      <th>reviews</th>\n",
       "    </tr>\n",
       "  </thead>\n",
       "  <tbody>\n",
       "    <tr>\n",
       "      <th>0</th>\n",
       "      <td>Biz2Credit Inc</td>\n",
       "      <td>30d+</td>\n",
       "      <td>3.8</td>\n",
       "    </tr>\n",
       "    <tr>\n",
       "      <th>1</th>\n",
       "      <td>Ericsson</td>\n",
       "      <td>8d</td>\n",
       "      <td>4.1</td>\n",
       "    </tr>\n",
       "    <tr>\n",
       "      <th>2</th>\n",
       "      <td>CRMNEXT</td>\n",
       "      <td>6d</td>\n",
       "      <td>3.6</td>\n",
       "    </tr>\n",
       "    <tr>\n",
       "      <th>3</th>\n",
       "      <td>CRMNEXT</td>\n",
       "      <td>6d</td>\n",
       "      <td>3.6</td>\n",
       "    </tr>\n",
       "    <tr>\n",
       "      <th>4</th>\n",
       "      <td>Techlive</td>\n",
       "      <td>30d+</td>\n",
       "      <td>5.0</td>\n",
       "    </tr>\n",
       "    <tr>\n",
       "      <th>5</th>\n",
       "      <td>Salasar New Age Technologies</td>\n",
       "      <td>30d+</td>\n",
       "      <td>0</td>\n",
       "    </tr>\n",
       "    <tr>\n",
       "      <th>6</th>\n",
       "      <td>ANI Calls India Private Limited</td>\n",
       "      <td>30d+</td>\n",
       "      <td>0</td>\n",
       "    </tr>\n",
       "    <tr>\n",
       "      <th>7</th>\n",
       "      <td>Sparkbpl</td>\n",
       "      <td>7d</td>\n",
       "      <td>0</td>\n",
       "    </tr>\n",
       "    <tr>\n",
       "      <th>8</th>\n",
       "      <td>Salasar New Age Technologies</td>\n",
       "      <td>30d+</td>\n",
       "      <td>0</td>\n",
       "    </tr>\n",
       "    <tr>\n",
       "      <th>9</th>\n",
       "      <td>SearchUrCollege</td>\n",
       "      <td>30d+</td>\n",
       "      <td>0</td>\n",
       "    </tr>\n",
       "  </tbody>\n",
       "</table>\n",
       "</div>"
      ],
      "text/plain": [
       "                 Organization_name job_posting reviews\n",
       "0                   Biz2Credit Inc        30d+     3.8\n",
       "1                         Ericsson          8d     4.1\n",
       "2                          CRMNEXT          6d     3.6\n",
       "3                          CRMNEXT          6d     3.6\n",
       "4                         Techlive        30d+     5.0\n",
       "5     Salasar New Age Technologies        30d+       0\n",
       "6  ANI Calls India Private Limited        30d+       0\n",
       "7                         Sparkbpl          7d       0\n",
       "8     Salasar New Age Technologies        30d+       0\n",
       "9                  SearchUrCollege        30d+       0"
      ]
     },
     "execution_count": 256,
     "metadata": {},
     "output_type": "execute_result"
    }
   ],
   "source": [
    "df6"
   ]
  },
  {
   "cell_type": "markdown",
   "metadata": {},
   "source": [
    "# Q4 completed"
   ]
  },
  {
   "cell_type": "code",
   "execution_count": 317,
   "metadata": {},
   "outputs": [],
   "source": [
    "driver5=webdriver.Chrome(r\"C:\\Users\\Bhumik Shah\\Downloads\\chromedriver_win32\\chromedriver.exe\")"
   ]
  },
  {
   "cell_type": "code",
   "execution_count": 318,
   "metadata": {},
   "outputs": [],
   "source": [
    "url='https://www.glassdoor.co.in/Salaries/index.htm'"
   ]
  },
  {
   "cell_type": "code",
   "execution_count": 319,
   "metadata": {},
   "outputs": [],
   "source": [
    "driver5.get(url)"
   ]
  },
  {
   "cell_type": "code",
   "execution_count": 320,
   "metadata": {},
   "outputs": [],
   "source": [
    "keywords=driver5.find_element_by_id('KeywordSearch')"
   ]
  },
  {
   "cell_type": "code",
   "execution_count": 321,
   "metadata": {},
   "outputs": [
    {
     "data": {
      "text/plain": [
       "<selenium.webdriver.remote.webelement.WebElement (session=\"ab08acf770dabdaa5ec761db82a2effd\", element=\"411d7298-796f-472a-bcd0-0841602da7b1\")>"
      ]
     },
     "execution_count": 321,
     "metadata": {},
     "output_type": "execute_result"
    }
   ],
   "source": [
    "keywords"
   ]
  },
  {
   "cell_type": "code",
   "execution_count": 322,
   "metadata": {},
   "outputs": [],
   "source": [
    "keywords.send_keys('Data Scientist')"
   ]
  },
  {
   "cell_type": "code",
   "execution_count": 323,
   "metadata": {},
   "outputs": [],
   "source": [
    "loc=driver5.find_element_by_id('LocationSearch')"
   ]
  },
  {
   "cell_type": "code",
   "execution_count": 324,
   "metadata": {},
   "outputs": [
    {
     "data": {
      "text/plain": [
       "<selenium.webdriver.remote.webelement.WebElement (session=\"ab08acf770dabdaa5ec761db82a2effd\", element=\"c534ea5f-3ee8-4046-9eae-f0d8ee8ac857\")>"
      ]
     },
     "execution_count": 324,
     "metadata": {},
     "output_type": "execute_result"
    }
   ],
   "source": [
    "loc"
   ]
  },
  {
   "cell_type": "code",
   "execution_count": 325,
   "metadata": {},
   "outputs": [],
   "source": [
    "loc.clear()"
   ]
  },
  {
   "cell_type": "code",
   "execution_count": 326,
   "metadata": {},
   "outputs": [],
   "source": [
    "loc.send_keys('Noida')"
   ]
  },
  {
   "cell_type": "code",
   "execution_count": 327,
   "metadata": {},
   "outputs": [],
   "source": [
    "search1=driver5.find_element_by_id('HeroSearchButton')"
   ]
  },
  {
   "cell_type": "code",
   "execution_count": 328,
   "metadata": {},
   "outputs": [
    {
     "data": {
      "text/plain": [
       "<selenium.webdriver.remote.webelement.WebElement (session=\"ab08acf770dabdaa5ec761db82a2effd\", element=\"1fd4a7c2-d920-4013-8b4b-70e668657ad9\")>"
      ]
     },
     "execution_count": 328,
     "metadata": {},
     "output_type": "execute_result"
    }
   ],
   "source": [
    "search1"
   ]
  },
  {
   "cell_type": "code",
   "execution_count": 329,
   "metadata": {},
   "outputs": [],
   "source": [
    "search1.click()"
   ]
  },
  {
   "cell_type": "code",
   "execution_count": 330,
   "metadata": {},
   "outputs": [],
   "source": [
    "companies_name=driver5.find_elements_by_xpath(\"//p[@class='m-0 ']\")"
   ]
  },
  {
   "cell_type": "code",
   "execution_count": 331,
   "metadata": {},
   "outputs": [
    {
     "data": {
      "text/plain": [
       "[<selenium.webdriver.remote.webelement.WebElement (session=\"ab08acf770dabdaa5ec761db82a2effd\", element=\"8c272ce6-c1e5-4000-bea0-66bb65ac432f\")>,\n",
       " <selenium.webdriver.remote.webelement.WebElement (session=\"ab08acf770dabdaa5ec761db82a2effd\", element=\"2fe70c82-6b6a-4168-a8d4-7a13ce53a823\")>,\n",
       " <selenium.webdriver.remote.webelement.WebElement (session=\"ab08acf770dabdaa5ec761db82a2effd\", element=\"889abcea-11cb-4f5c-a705-e68f215e4cdd\")>,\n",
       " <selenium.webdriver.remote.webelement.WebElement (session=\"ab08acf770dabdaa5ec761db82a2effd\", element=\"d9336a2e-384b-4d58-bed5-23605c72073a\")>,\n",
       " <selenium.webdriver.remote.webelement.WebElement (session=\"ab08acf770dabdaa5ec761db82a2effd\", element=\"c3cec507-faaf-4301-bb1d-8783d1119bad\")>,\n",
       " <selenium.webdriver.remote.webelement.WebElement (session=\"ab08acf770dabdaa5ec761db82a2effd\", element=\"f0a88384-db6f-4c84-95d2-b8180bbb6a0c\")>,\n",
       " <selenium.webdriver.remote.webelement.WebElement (session=\"ab08acf770dabdaa5ec761db82a2effd\", element=\"92f2a765-ac38-4199-9b86-b7e1fcfad273\")>,\n",
       " <selenium.webdriver.remote.webelement.WebElement (session=\"ab08acf770dabdaa5ec761db82a2effd\", element=\"670fa5c3-ff68-4ec6-bad0-a5580bb82502\")>,\n",
       " <selenium.webdriver.remote.webelement.WebElement (session=\"ab08acf770dabdaa5ec761db82a2effd\", element=\"85e32558-dca2-4feb-b596-cf9d9c079e13\")>,\n",
       " <selenium.webdriver.remote.webelement.WebElement (session=\"ab08acf770dabdaa5ec761db82a2effd\", element=\"263e16e4-f534-4ca1-83c3-9742df7b5611\")>,\n",
       " <selenium.webdriver.remote.webelement.WebElement (session=\"ab08acf770dabdaa5ec761db82a2effd\", element=\"a9f71faa-c72c-4018-b04b-a062c470fd4e\")>,\n",
       " <selenium.webdriver.remote.webelement.WebElement (session=\"ab08acf770dabdaa5ec761db82a2effd\", element=\"6aa41bb8-e780-435a-a186-23c9d32e4d0c\")>,\n",
       " <selenium.webdriver.remote.webelement.WebElement (session=\"ab08acf770dabdaa5ec761db82a2effd\", element=\"a320df89-9b2e-4bdf-9318-7f25ecc5e07a\")>,\n",
       " <selenium.webdriver.remote.webelement.WebElement (session=\"ab08acf770dabdaa5ec761db82a2effd\", element=\"5b8994d5-f5a7-49b5-ac3a-67422fd3b85f\")>,\n",
       " <selenium.webdriver.remote.webelement.WebElement (session=\"ab08acf770dabdaa5ec761db82a2effd\", element=\"f9c1723d-2f5b-45c7-8dc9-a0481575ade1\")>,\n",
       " <selenium.webdriver.remote.webelement.WebElement (session=\"ab08acf770dabdaa5ec761db82a2effd\", element=\"1bdf40b5-7c7f-4f3b-a689-0651f9c6de93\")>,\n",
       " <selenium.webdriver.remote.webelement.WebElement (session=\"ab08acf770dabdaa5ec761db82a2effd\", element=\"caf4fd0b-c1a1-4928-a6fa-f27a24ff6e47\")>,\n",
       " <selenium.webdriver.remote.webelement.WebElement (session=\"ab08acf770dabdaa5ec761db82a2effd\", element=\"30afc675-7121-4ea7-9354-184fbebc5dac\")>,\n",
       " <selenium.webdriver.remote.webelement.WebElement (session=\"ab08acf770dabdaa5ec761db82a2effd\", element=\"fa7c02a2-e843-4482-abdf-5d5fbce60ac6\")>,\n",
       " <selenium.webdriver.remote.webelement.WebElement (session=\"ab08acf770dabdaa5ec761db82a2effd\", element=\"c288e78d-ea75-45f8-b75d-3854727e48c3\")>]"
      ]
     },
     "execution_count": 331,
     "metadata": {},
     "output_type": "execute_result"
    }
   ],
   "source": [
    "companies_name"
   ]
  },
  {
   "cell_type": "code",
   "execution_count": 332,
   "metadata": {},
   "outputs": [
    {
     "data": {
      "text/plain": [
       "['Tata Consultancy Services',\n",
       " 'IBM',\n",
       " 'Ericsson-Worldwide',\n",
       " 'Delhivery',\n",
       " 'Accenture',\n",
       " 'UnitedHealth Group',\n",
       " 'Valiance Solutions',\n",
       " 'ZS Associates',\n",
       " 'EXL Service',\n",
       " 'Optum Global Solutions',\n",
       " 'Innovaccer',\n",
       " 'Cognizant Technology Solutions',\n",
       " 'Optum',\n",
       " 'Tech Mahindra',\n",
       " 'OYO',\n",
       " 'Nagarro',\n",
       " 'dunnhumby',\n",
       " 'Vidooly Media Tech',\n",
       " 'Algo8.ai',\n",
       " 'Amazon']"
      ]
     },
     "execution_count": 332,
     "metadata": {},
     "output_type": "execute_result"
    }
   ],
   "source": [
    "company_name=[]\n",
    "for i in companies_name:\n",
    "    company_name.append(i.text)\n",
    "company_name"
   ]
  },
  {
   "cell_type": "code",
   "execution_count": 335,
   "metadata": {},
   "outputs": [],
   "source": [
    "no_of_salary=driver5.find_elements_by_xpath(\"//p[@class='css-1uyte9r css-1kuy7z7 m-0 ']\")"
   ]
  },
  {
   "cell_type": "code",
   "execution_count": 336,
   "metadata": {},
   "outputs": [
    {
     "data": {
      "text/plain": [
       "[<selenium.webdriver.remote.webelement.WebElement (session=\"ab08acf770dabdaa5ec761db82a2effd\", element=\"a9318a98-676a-4e91-a4c4-458da9931761\")>,\n",
       " <selenium.webdriver.remote.webelement.WebElement (session=\"ab08acf770dabdaa5ec761db82a2effd\", element=\"dc4100af-5cea-4d69-bf28-1325611c7b72\")>,\n",
       " <selenium.webdriver.remote.webelement.WebElement (session=\"ab08acf770dabdaa5ec761db82a2effd\", element=\"b82415cf-ed2b-472b-9f3d-7fcae79bc6f7\")>,\n",
       " <selenium.webdriver.remote.webelement.WebElement (session=\"ab08acf770dabdaa5ec761db82a2effd\", element=\"a1e535b8-2bee-406d-93a4-d02786283522\")>,\n",
       " <selenium.webdriver.remote.webelement.WebElement (session=\"ab08acf770dabdaa5ec761db82a2effd\", element=\"5bee11eb-28ca-439b-b8c6-39a2e924b6d3\")>,\n",
       " <selenium.webdriver.remote.webelement.WebElement (session=\"ab08acf770dabdaa5ec761db82a2effd\", element=\"9b106c26-ec32-4717-99a2-d40a13ea72f7\")>,\n",
       " <selenium.webdriver.remote.webelement.WebElement (session=\"ab08acf770dabdaa5ec761db82a2effd\", element=\"73fd8b7b-c1a1-419d-8a94-dbc870f7e8a4\")>,\n",
       " <selenium.webdriver.remote.webelement.WebElement (session=\"ab08acf770dabdaa5ec761db82a2effd\", element=\"d9e7a227-bc8c-4927-a36b-9f1e80eeb34c\")>,\n",
       " <selenium.webdriver.remote.webelement.WebElement (session=\"ab08acf770dabdaa5ec761db82a2effd\", element=\"87d8c17d-3b94-4632-9509-ad3b9fe13346\")>,\n",
       " <selenium.webdriver.remote.webelement.WebElement (session=\"ab08acf770dabdaa5ec761db82a2effd\", element=\"2757c667-26a1-4e8f-bcf2-1c20d6c957b7\")>,\n",
       " <selenium.webdriver.remote.webelement.WebElement (session=\"ab08acf770dabdaa5ec761db82a2effd\", element=\"ee43acb8-2223-4a59-943a-d4582b54a761\")>,\n",
       " <selenium.webdriver.remote.webelement.WebElement (session=\"ab08acf770dabdaa5ec761db82a2effd\", element=\"837ceca4-ba24-453e-888c-241f86271114\")>,\n",
       " <selenium.webdriver.remote.webelement.WebElement (session=\"ab08acf770dabdaa5ec761db82a2effd\", element=\"936638ab-232d-4b42-a588-06352a4f42de\")>,\n",
       " <selenium.webdriver.remote.webelement.WebElement (session=\"ab08acf770dabdaa5ec761db82a2effd\", element=\"51ff135c-2636-44fe-b0de-e29adecdf264\")>,\n",
       " <selenium.webdriver.remote.webelement.WebElement (session=\"ab08acf770dabdaa5ec761db82a2effd\", element=\"20460d34-7bff-4ea5-b90d-3b459835e627\")>,\n",
       " <selenium.webdriver.remote.webelement.WebElement (session=\"ab08acf770dabdaa5ec761db82a2effd\", element=\"e119f070-d9db-4b20-bddf-c31738890b06\")>,\n",
       " <selenium.webdriver.remote.webelement.WebElement (session=\"ab08acf770dabdaa5ec761db82a2effd\", element=\"47f28eb7-1f5a-4cf9-b8a9-334b8f693bff\")>,\n",
       " <selenium.webdriver.remote.webelement.WebElement (session=\"ab08acf770dabdaa5ec761db82a2effd\", element=\"36c77469-894c-44f6-860d-a0891fc35b34\")>,\n",
       " <selenium.webdriver.remote.webelement.WebElement (session=\"ab08acf770dabdaa5ec761db82a2effd\", element=\"4c259c67-f77f-4b92-a95e-1e5ce038729f\")>,\n",
       " <selenium.webdriver.remote.webelement.WebElement (session=\"ab08acf770dabdaa5ec761db82a2effd\", element=\"7b79847e-f17c-4673-aa54-39cd1e3b111e\")>]"
      ]
     },
     "execution_count": 336,
     "metadata": {},
     "output_type": "execute_result"
    }
   ],
   "source": [
    "no_of_salary"
   ]
  },
  {
   "cell_type": "code",
   "execution_count": 337,
   "metadata": {},
   "outputs": [
    {
     "data": {
      "text/plain": [
       "['16 salaries',\n",
       " '14 salaries',\n",
       " '14 salaries',\n",
       " '14 salaries',\n",
       " '13 salaries',\n",
       " '11 salaries',\n",
       " '9 salaries',\n",
       " '8 salaries',\n",
       " '8 salaries',\n",
       " '8 salaries',\n",
       " '8 salaries',\n",
       " '6 salaries',\n",
       " '6 salaries',\n",
       " '5 salaries',\n",
       " '5 salaries',\n",
       " '5 salaries',\n",
       " '5 salaries',\n",
       " '5 salaries',\n",
       " '5 salaries',\n",
       " '4 salaries']"
      ]
     },
     "execution_count": 337,
     "metadata": {},
     "output_type": "execute_result"
    }
   ],
   "source": [
    "number_of_salary=[]\n",
    "for i in no_of_salary:\n",
    "    number_of_salary.append(i.text)\n",
    "number_of_salary"
   ]
  },
  {
   "cell_type": "code",
   "execution_count": 338,
   "metadata": {},
   "outputs": [],
   "source": [
    "avg_sal=driver5.find_elements_by_xpath(\"//div[@class='col-2 d-none d-md-flex flex-row justify-content-end']/strong\")"
   ]
  },
  {
   "cell_type": "code",
   "execution_count": 339,
   "metadata": {},
   "outputs": [
    {
     "data": {
      "text/plain": [
       "[<selenium.webdriver.remote.webelement.WebElement (session=\"ab08acf770dabdaa5ec761db82a2effd\", element=\"6199defe-ac18-4d72-afe9-738e858e4529\")>,\n",
       " <selenium.webdriver.remote.webelement.WebElement (session=\"ab08acf770dabdaa5ec761db82a2effd\", element=\"91b7de42-ee73-4514-8b26-cfe3ca4f73b5\")>,\n",
       " <selenium.webdriver.remote.webelement.WebElement (session=\"ab08acf770dabdaa5ec761db82a2effd\", element=\"7a8ffab3-fa4f-4e6e-a7b7-6e4acf960f7e\")>,\n",
       " <selenium.webdriver.remote.webelement.WebElement (session=\"ab08acf770dabdaa5ec761db82a2effd\", element=\"b780ad0b-04c0-4ee9-9197-dcb5cc45b091\")>,\n",
       " <selenium.webdriver.remote.webelement.WebElement (session=\"ab08acf770dabdaa5ec761db82a2effd\", element=\"5ec4931c-c44b-454e-a77b-dbf059823bea\")>,\n",
       " <selenium.webdriver.remote.webelement.WebElement (session=\"ab08acf770dabdaa5ec761db82a2effd\", element=\"e9606d45-445b-4e3d-96a2-58fee2e2d40f\")>,\n",
       " <selenium.webdriver.remote.webelement.WebElement (session=\"ab08acf770dabdaa5ec761db82a2effd\", element=\"7be2d534-1d95-4f73-9192-826accbd7fee\")>,\n",
       " <selenium.webdriver.remote.webelement.WebElement (session=\"ab08acf770dabdaa5ec761db82a2effd\", element=\"1260270f-3437-40f2-a5b9-c5965cd19804\")>,\n",
       " <selenium.webdriver.remote.webelement.WebElement (session=\"ab08acf770dabdaa5ec761db82a2effd\", element=\"ae1c6f87-60db-4258-b5ec-89c6ffdef72b\")>,\n",
       " <selenium.webdriver.remote.webelement.WebElement (session=\"ab08acf770dabdaa5ec761db82a2effd\", element=\"16087bd0-babf-4802-90da-60719edef167\")>,\n",
       " <selenium.webdriver.remote.webelement.WebElement (session=\"ab08acf770dabdaa5ec761db82a2effd\", element=\"483ee94d-9e91-4f1b-bd09-90a332d3ddbc\")>,\n",
       " <selenium.webdriver.remote.webelement.WebElement (session=\"ab08acf770dabdaa5ec761db82a2effd\", element=\"bb8f665e-6229-47da-aab9-d2ba6f792012\")>,\n",
       " <selenium.webdriver.remote.webelement.WebElement (session=\"ab08acf770dabdaa5ec761db82a2effd\", element=\"4bb3c27f-2f51-4bc5-a691-63510f949b99\")>,\n",
       " <selenium.webdriver.remote.webelement.WebElement (session=\"ab08acf770dabdaa5ec761db82a2effd\", element=\"4a700f4d-09e7-459d-a068-064b34364628\")>,\n",
       " <selenium.webdriver.remote.webelement.WebElement (session=\"ab08acf770dabdaa5ec761db82a2effd\", element=\"429900e2-f9dc-42b6-aa35-6046abfc22ac\")>,\n",
       " <selenium.webdriver.remote.webelement.WebElement (session=\"ab08acf770dabdaa5ec761db82a2effd\", element=\"6d0b585f-76d2-407d-8559-74a43691db04\")>,\n",
       " <selenium.webdriver.remote.webelement.WebElement (session=\"ab08acf770dabdaa5ec761db82a2effd\", element=\"a81ce2a3-c118-4b11-a70e-10b0a8b6b188\")>,\n",
       " <selenium.webdriver.remote.webelement.WebElement (session=\"ab08acf770dabdaa5ec761db82a2effd\", element=\"b5134afd-a241-4a33-a986-0ce8dce28f86\")>,\n",
       " <selenium.webdriver.remote.webelement.WebElement (session=\"ab08acf770dabdaa5ec761db82a2effd\", element=\"3a0370de-17fe-4020-baa1-76ca1155467a\")>,\n",
       " <selenium.webdriver.remote.webelement.WebElement (session=\"ab08acf770dabdaa5ec761db82a2effd\", element=\"7fd6b677-eb89-401a-b4ad-0a09455f5a4d\")>]"
      ]
     },
     "execution_count": 339,
     "metadata": {},
     "output_type": "execute_result"
    }
   ],
   "source": [
    "avg_sal"
   ]
  },
  {
   "cell_type": "code",
   "execution_count": 340,
   "metadata": {},
   "outputs": [
    {
     "data": {
      "text/plain": [
       "['₹ 5,97,967',\n",
       " '₹ 8,79,486',\n",
       " '₹ 7,15,984',\n",
       " '₹ 12,12,741',\n",
       " '₹ 10,97,744',\n",
       " '₹ 12,96,182',\n",
       " '₹ 7,90,812',\n",
       " '₹ 11,19,962',\n",
       " '₹ 11,10,022',\n",
       " '₹ 13,93,451',\n",
       " '₹ 11,81,047',\n",
       " '₹ 9,77,281',\n",
       " '₹ 12,89,447',\n",
       " '₹ 10,21,234',\n",
       " '₹ 13,70,817',\n",
       " '₹ 9,32,892',\n",
       " '₹ 11,00,000',\n",
       " '₹ 15,412',\n",
       " '₹ 6,75,000',\n",
       " '₹ 15,00,000']"
      ]
     },
     "execution_count": 340,
     "metadata": {},
     "output_type": "execute_result"
    }
   ],
   "source": [
    "average_salary=[]\n",
    "for i in avg_sal:\n",
    "    average_salary.append(i.text)\n",
    "average_salary"
   ]
  },
  {
   "cell_type": "code",
   "execution_count": 342,
   "metadata": {},
   "outputs": [],
   "source": [
    "min_sal=driver5.find_elements_by_xpath(\"//div[@class='common__RangeBarStyle__values d-flex justify-content-between ']/span[1]\")"
   ]
  },
  {
   "cell_type": "code",
   "execution_count": 343,
   "metadata": {},
   "outputs": [
    {
     "data": {
      "text/plain": [
       "[<selenium.webdriver.remote.webelement.WebElement (session=\"ab08acf770dabdaa5ec761db82a2effd\", element=\"364b1bc8-a7b4-4ef9-8be8-5a5b628c33d5\")>,\n",
       " <selenium.webdriver.remote.webelement.WebElement (session=\"ab08acf770dabdaa5ec761db82a2effd\", element=\"57aade82-dcdd-4591-91b6-79b1ec364a9c\")>,\n",
       " <selenium.webdriver.remote.webelement.WebElement (session=\"ab08acf770dabdaa5ec761db82a2effd\", element=\"4a36bd12-ad1f-42ae-b03e-1a81be5bc9a5\")>,\n",
       " <selenium.webdriver.remote.webelement.WebElement (session=\"ab08acf770dabdaa5ec761db82a2effd\", element=\"bf790164-b6ac-42de-aae2-f98154a821b6\")>,\n",
       " <selenium.webdriver.remote.webelement.WebElement (session=\"ab08acf770dabdaa5ec761db82a2effd\", element=\"305b2d93-2360-4262-b6e1-d5ee37b1b629\")>,\n",
       " <selenium.webdriver.remote.webelement.WebElement (session=\"ab08acf770dabdaa5ec761db82a2effd\", element=\"37f97512-c817-4994-983e-9bffbb4dd755\")>,\n",
       " <selenium.webdriver.remote.webelement.WebElement (session=\"ab08acf770dabdaa5ec761db82a2effd\", element=\"5c8fafa2-f650-41bc-835d-cabe52452314\")>,\n",
       " <selenium.webdriver.remote.webelement.WebElement (session=\"ab08acf770dabdaa5ec761db82a2effd\", element=\"285cf215-6c7d-494e-bce1-153a4083704b\")>,\n",
       " <selenium.webdriver.remote.webelement.WebElement (session=\"ab08acf770dabdaa5ec761db82a2effd\", element=\"787a7ea3-af75-4db7-b3a5-b0d38b7ac92e\")>,\n",
       " <selenium.webdriver.remote.webelement.WebElement (session=\"ab08acf770dabdaa5ec761db82a2effd\", element=\"1dd38b63-3389-472b-a590-6dcb0c09dd5e\")>,\n",
       " <selenium.webdriver.remote.webelement.WebElement (session=\"ab08acf770dabdaa5ec761db82a2effd\", element=\"d1444809-a6d9-4503-b692-11c2de4b2646\")>,\n",
       " <selenium.webdriver.remote.webelement.WebElement (session=\"ab08acf770dabdaa5ec761db82a2effd\", element=\"3199e9af-be13-4770-946f-61b6d821bfb4\")>,\n",
       " <selenium.webdriver.remote.webelement.WebElement (session=\"ab08acf770dabdaa5ec761db82a2effd\", element=\"f9dbb424-fcf9-4f15-8d00-416e609bb131\")>,\n",
       " <selenium.webdriver.remote.webelement.WebElement (session=\"ab08acf770dabdaa5ec761db82a2effd\", element=\"6ac7a725-26fe-47fd-8066-2b909098116e\")>,\n",
       " <selenium.webdriver.remote.webelement.WebElement (session=\"ab08acf770dabdaa5ec761db82a2effd\", element=\"dffd54ca-2589-436d-baa6-77ad385e5f2d\")>,\n",
       " <selenium.webdriver.remote.webelement.WebElement (session=\"ab08acf770dabdaa5ec761db82a2effd\", element=\"404a75b3-65c1-4517-9ed8-4be1be5866fd\")>,\n",
       " <selenium.webdriver.remote.webelement.WebElement (session=\"ab08acf770dabdaa5ec761db82a2effd\", element=\"2e331751-010f-459e-865f-87c7622ff0a8\")>,\n",
       " <selenium.webdriver.remote.webelement.WebElement (session=\"ab08acf770dabdaa5ec761db82a2effd\", element=\"de2916a1-d21d-4a5b-803d-495cc3c82059\")>,\n",
       " <selenium.webdriver.remote.webelement.WebElement (session=\"ab08acf770dabdaa5ec761db82a2effd\", element=\"1cbbc96d-3b0a-4f9d-9262-a4cb9d0c7b42\")>,\n",
       " <selenium.webdriver.remote.webelement.WebElement (session=\"ab08acf770dabdaa5ec761db82a2effd\", element=\"54ff757d-41a9-486d-965d-a7736fb8dbf2\")>]"
      ]
     },
     "execution_count": 343,
     "metadata": {},
     "output_type": "execute_result"
    }
   ],
   "source": [
    "min_sal"
   ]
  },
  {
   "cell_type": "code",
   "execution_count": 344,
   "metadata": {},
   "outputs": [
    {
     "data": {
      "text/plain": [
       "['₹333K',\n",
       " '₹569K',\n",
       " '₹350K',\n",
       " '₹436K',\n",
       " '₹560K',\n",
       " '₹1,037K',\n",
       " '₹487K',\n",
       " '₹196K',\n",
       " '₹558K',\n",
       " '₹1,000K',\n",
       " '₹602K',\n",
       " '₹769K',\n",
       " '₹783K',\n",
       " '₹400K',\n",
       " '₹942K',\n",
       " '₹400K',\n",
       " '₹793K',\n",
       " '₹12K',\n",
       " '₹83K',\n",
       " '₹749K']"
      ]
     },
     "execution_count": 344,
     "metadata": {},
     "output_type": "execute_result"
    }
   ],
   "source": [
    "minimum_salary=[]\n",
    "for i in min_sal:\n",
    "    minimum_salary.append(i.text)\n",
    "minimum_salary"
   ]
  },
  {
   "cell_type": "code",
   "execution_count": 345,
   "metadata": {},
   "outputs": [],
   "source": [
    "max_sal=driver5.find_elements_by_xpath(\"//div[@class='common__RangeBarStyle__values d-flex justify-content-between ']/span[2]\")"
   ]
  },
  {
   "cell_type": "code",
   "execution_count": 346,
   "metadata": {},
   "outputs": [
    {
     "data": {
      "text/plain": [
       "[<selenium.webdriver.remote.webelement.WebElement (session=\"ab08acf770dabdaa5ec761db82a2effd\", element=\"442e2747-74fc-4410-bec2-a6a5d23cb9e8\")>,\n",
       " <selenium.webdriver.remote.webelement.WebElement (session=\"ab08acf770dabdaa5ec761db82a2effd\", element=\"12715c5c-9461-465d-841b-80fa6a4e8b7a\")>,\n",
       " <selenium.webdriver.remote.webelement.WebElement (session=\"ab08acf770dabdaa5ec761db82a2effd\", element=\"c28bdf04-0ce1-4a37-a6ab-2bfdbc8d97d2\")>,\n",
       " <selenium.webdriver.remote.webelement.WebElement (session=\"ab08acf770dabdaa5ec761db82a2effd\", element=\"0b47559c-5745-4465-8ae2-1267c118dda1\")>,\n",
       " <selenium.webdriver.remote.webelement.WebElement (session=\"ab08acf770dabdaa5ec761db82a2effd\", element=\"70ec77c9-d34d-467e-8f4c-e3f907eb56c6\")>,\n",
       " <selenium.webdriver.remote.webelement.WebElement (session=\"ab08acf770dabdaa5ec761db82a2effd\", element=\"66df95d3-3410-439e-ac21-08b27731500f\")>,\n",
       " <selenium.webdriver.remote.webelement.WebElement (session=\"ab08acf770dabdaa5ec761db82a2effd\", element=\"5920fd81-16ab-4c5d-bac8-77d7c415ec9f\")>,\n",
       " <selenium.webdriver.remote.webelement.WebElement (session=\"ab08acf770dabdaa5ec761db82a2effd\", element=\"0940bafa-858b-4e90-95ee-759fc2ff41e9\")>,\n",
       " <selenium.webdriver.remote.webelement.WebElement (session=\"ab08acf770dabdaa5ec761db82a2effd\", element=\"fa2a0588-130a-49bc-ab94-c1a2fdc04561\")>,\n",
       " <selenium.webdriver.remote.webelement.WebElement (session=\"ab08acf770dabdaa5ec761db82a2effd\", element=\"4ecb473e-a674-4cc7-ae38-db24f14aa856\")>,\n",
       " <selenium.webdriver.remote.webelement.WebElement (session=\"ab08acf770dabdaa5ec761db82a2effd\", element=\"f77522c7-cc18-4a7b-b761-d0ec3f23ecaf\")>,\n",
       " <selenium.webdriver.remote.webelement.WebElement (session=\"ab08acf770dabdaa5ec761db82a2effd\", element=\"dcadf429-a91a-462e-b9dd-72c2b2983e39\")>,\n",
       " <selenium.webdriver.remote.webelement.WebElement (session=\"ab08acf770dabdaa5ec761db82a2effd\", element=\"f1752167-cf3b-4695-80e0-7825ab9effa3\")>,\n",
       " <selenium.webdriver.remote.webelement.WebElement (session=\"ab08acf770dabdaa5ec761db82a2effd\", element=\"a81f21e9-25fa-465b-83da-413952bf58a0\")>,\n",
       " <selenium.webdriver.remote.webelement.WebElement (session=\"ab08acf770dabdaa5ec761db82a2effd\", element=\"dec9123d-e784-4710-9306-671f9ae95bfb\")>,\n",
       " <selenium.webdriver.remote.webelement.WebElement (session=\"ab08acf770dabdaa5ec761db82a2effd\", element=\"ead9d07b-8e5f-4609-b9c8-e2c99b9fc29a\")>,\n",
       " <selenium.webdriver.remote.webelement.WebElement (session=\"ab08acf770dabdaa5ec761db82a2effd\", element=\"f10e2036-3601-40aa-8c65-9d21f4eade4c\")>,\n",
       " <selenium.webdriver.remote.webelement.WebElement (session=\"ab08acf770dabdaa5ec761db82a2effd\", element=\"04554445-32c8-4ca1-9980-a74607fc0ff2\")>,\n",
       " <selenium.webdriver.remote.webelement.WebElement (session=\"ab08acf770dabdaa5ec761db82a2effd\", element=\"ed9fce67-b858-4310-83b5-a35f4135eafa\")>,\n",
       " <selenium.webdriver.remote.webelement.WebElement (session=\"ab08acf770dabdaa5ec761db82a2effd\", element=\"bd9258a9-750e-406f-8ac0-d6ab5c0e3a4b\")>]"
      ]
     },
     "execution_count": 346,
     "metadata": {},
     "output_type": "execute_result"
    }
   ],
   "source": [
    "max_sal"
   ]
  },
  {
   "cell_type": "code",
   "execution_count": 347,
   "metadata": {},
   "outputs": [
    {
     "data": {
      "text/plain": [
       "['₹1,080K',\n",
       " '₹2,648K',\n",
       " '₹1,565K',\n",
       " '₹11,274K',\n",
       " '₹2,147K',\n",
       " '₹1,500K',\n",
       " '₹1,421K',\n",
       " '₹1,755K',\n",
       " '₹1,500K',\n",
       " '₹2,085K',\n",
       " '₹1,644K',\n",
       " '₹1,225K',\n",
       " '₹1,959K',\n",
       " '₹1,680K',\n",
       " '₹1,827K',\n",
       " '₹1,091K',\n",
       " '₹1,946K',\n",
       " '₹61K',\n",
       " '₹1,317K',\n",
       " '₹2,028K']"
      ]
     },
     "execution_count": 347,
     "metadata": {},
     "output_type": "execute_result"
    }
   ],
   "source": [
    "maximum_salary=[]\n",
    "for i in max_sal:\n",
    "    maximum_salary.append(i.text)\n",
    "maximum_salary"
   ]
  },
  {
   "cell_type": "code",
   "execution_count": 348,
   "metadata": {},
   "outputs": [],
   "source": [
    "Ques5=pd.DataFrame({})\n",
    "Ques5['company_name']=company_name\n",
    "Ques5['number of salaries']=number_of_salary\n",
    "Ques5['average salary']=average_salary\n",
    "Ques5['minimum salary']=minimum_salary\n",
    "Ques5['maximum salary']=maximum_salary"
   ]
  },
  {
   "cell_type": "code",
   "execution_count": 350,
   "metadata": {},
   "outputs": [
    {
     "data": {
      "text/html": [
       "<div>\n",
       "<style scoped>\n",
       "    .dataframe tbody tr th:only-of-type {\n",
       "        vertical-align: middle;\n",
       "    }\n",
       "\n",
       "    .dataframe tbody tr th {\n",
       "        vertical-align: top;\n",
       "    }\n",
       "\n",
       "    .dataframe thead th {\n",
       "        text-align: right;\n",
       "    }\n",
       "</style>\n",
       "<table border=\"1\" class=\"dataframe\">\n",
       "  <thead>\n",
       "    <tr style=\"text-align: right;\">\n",
       "      <th></th>\n",
       "      <th>company_name</th>\n",
       "      <th>number of salaries</th>\n",
       "      <th>average salary</th>\n",
       "      <th>minimum salary</th>\n",
       "      <th>maximum salary</th>\n",
       "    </tr>\n",
       "  </thead>\n",
       "  <tbody>\n",
       "    <tr>\n",
       "      <th>0</th>\n",
       "      <td>Tata Consultancy Services</td>\n",
       "      <td>16 salaries</td>\n",
       "      <td>₹ 5,97,967</td>\n",
       "      <td>₹333K</td>\n",
       "      <td>₹1,080K</td>\n",
       "    </tr>\n",
       "    <tr>\n",
       "      <th>1</th>\n",
       "      <td>IBM</td>\n",
       "      <td>14 salaries</td>\n",
       "      <td>₹ 8,79,486</td>\n",
       "      <td>₹569K</td>\n",
       "      <td>₹2,648K</td>\n",
       "    </tr>\n",
       "    <tr>\n",
       "      <th>2</th>\n",
       "      <td>Ericsson-Worldwide</td>\n",
       "      <td>14 salaries</td>\n",
       "      <td>₹ 7,15,984</td>\n",
       "      <td>₹350K</td>\n",
       "      <td>₹1,565K</td>\n",
       "    </tr>\n",
       "    <tr>\n",
       "      <th>3</th>\n",
       "      <td>Delhivery</td>\n",
       "      <td>14 salaries</td>\n",
       "      <td>₹ 12,12,741</td>\n",
       "      <td>₹436K</td>\n",
       "      <td>₹11,274K</td>\n",
       "    </tr>\n",
       "    <tr>\n",
       "      <th>4</th>\n",
       "      <td>Accenture</td>\n",
       "      <td>13 salaries</td>\n",
       "      <td>₹ 10,97,744</td>\n",
       "      <td>₹560K</td>\n",
       "      <td>₹2,147K</td>\n",
       "    </tr>\n",
       "    <tr>\n",
       "      <th>5</th>\n",
       "      <td>UnitedHealth Group</td>\n",
       "      <td>11 salaries</td>\n",
       "      <td>₹ 12,96,182</td>\n",
       "      <td>₹1,037K</td>\n",
       "      <td>₹1,500K</td>\n",
       "    </tr>\n",
       "    <tr>\n",
       "      <th>6</th>\n",
       "      <td>Valiance Solutions</td>\n",
       "      <td>9 salaries</td>\n",
       "      <td>₹ 7,90,812</td>\n",
       "      <td>₹487K</td>\n",
       "      <td>₹1,421K</td>\n",
       "    </tr>\n",
       "    <tr>\n",
       "      <th>7</th>\n",
       "      <td>ZS Associates</td>\n",
       "      <td>8 salaries</td>\n",
       "      <td>₹ 11,19,962</td>\n",
       "      <td>₹196K</td>\n",
       "      <td>₹1,755K</td>\n",
       "    </tr>\n",
       "    <tr>\n",
       "      <th>8</th>\n",
       "      <td>EXL Service</td>\n",
       "      <td>8 salaries</td>\n",
       "      <td>₹ 11,10,022</td>\n",
       "      <td>₹558K</td>\n",
       "      <td>₹1,500K</td>\n",
       "    </tr>\n",
       "    <tr>\n",
       "      <th>9</th>\n",
       "      <td>Optum Global Solutions</td>\n",
       "      <td>8 salaries</td>\n",
       "      <td>₹ 13,93,451</td>\n",
       "      <td>₹1,000K</td>\n",
       "      <td>₹2,085K</td>\n",
       "    </tr>\n",
       "    <tr>\n",
       "      <th>10</th>\n",
       "      <td>Innovaccer</td>\n",
       "      <td>8 salaries</td>\n",
       "      <td>₹ 11,81,047</td>\n",
       "      <td>₹602K</td>\n",
       "      <td>₹1,644K</td>\n",
       "    </tr>\n",
       "    <tr>\n",
       "      <th>11</th>\n",
       "      <td>Cognizant Technology Solutions</td>\n",
       "      <td>6 salaries</td>\n",
       "      <td>₹ 9,77,281</td>\n",
       "      <td>₹769K</td>\n",
       "      <td>₹1,225K</td>\n",
       "    </tr>\n",
       "    <tr>\n",
       "      <th>12</th>\n",
       "      <td>Optum</td>\n",
       "      <td>6 salaries</td>\n",
       "      <td>₹ 12,89,447</td>\n",
       "      <td>₹783K</td>\n",
       "      <td>₹1,959K</td>\n",
       "    </tr>\n",
       "    <tr>\n",
       "      <th>13</th>\n",
       "      <td>Tech Mahindra</td>\n",
       "      <td>5 salaries</td>\n",
       "      <td>₹ 10,21,234</td>\n",
       "      <td>₹400K</td>\n",
       "      <td>₹1,680K</td>\n",
       "    </tr>\n",
       "    <tr>\n",
       "      <th>14</th>\n",
       "      <td>OYO</td>\n",
       "      <td>5 salaries</td>\n",
       "      <td>₹ 13,70,817</td>\n",
       "      <td>₹942K</td>\n",
       "      <td>₹1,827K</td>\n",
       "    </tr>\n",
       "    <tr>\n",
       "      <th>15</th>\n",
       "      <td>Nagarro</td>\n",
       "      <td>5 salaries</td>\n",
       "      <td>₹ 9,32,892</td>\n",
       "      <td>₹400K</td>\n",
       "      <td>₹1,091K</td>\n",
       "    </tr>\n",
       "    <tr>\n",
       "      <th>16</th>\n",
       "      <td>dunnhumby</td>\n",
       "      <td>5 salaries</td>\n",
       "      <td>₹ 11,00,000</td>\n",
       "      <td>₹793K</td>\n",
       "      <td>₹1,946K</td>\n",
       "    </tr>\n",
       "    <tr>\n",
       "      <th>17</th>\n",
       "      <td>Vidooly Media Tech</td>\n",
       "      <td>5 salaries</td>\n",
       "      <td>₹ 15,412</td>\n",
       "      <td>₹12K</td>\n",
       "      <td>₹61K</td>\n",
       "    </tr>\n",
       "    <tr>\n",
       "      <th>18</th>\n",
       "      <td>Algo8.ai</td>\n",
       "      <td>5 salaries</td>\n",
       "      <td>₹ 6,75,000</td>\n",
       "      <td>₹83K</td>\n",
       "      <td>₹1,317K</td>\n",
       "    </tr>\n",
       "    <tr>\n",
       "      <th>19</th>\n",
       "      <td>Amazon</td>\n",
       "      <td>4 salaries</td>\n",
       "      <td>₹ 15,00,000</td>\n",
       "      <td>₹749K</td>\n",
       "      <td>₹2,028K</td>\n",
       "    </tr>\n",
       "  </tbody>\n",
       "</table>\n",
       "</div>"
      ],
      "text/plain": [
       "                      company_name number of salaries average salary  \\\n",
       "0        Tata Consultancy Services        16 salaries     ₹ 5,97,967   \n",
       "1                              IBM        14 salaries     ₹ 8,79,486   \n",
       "2               Ericsson-Worldwide        14 salaries     ₹ 7,15,984   \n",
       "3                        Delhivery        14 salaries    ₹ 12,12,741   \n",
       "4                        Accenture        13 salaries    ₹ 10,97,744   \n",
       "5               UnitedHealth Group        11 salaries    ₹ 12,96,182   \n",
       "6               Valiance Solutions         9 salaries     ₹ 7,90,812   \n",
       "7                    ZS Associates         8 salaries    ₹ 11,19,962   \n",
       "8                      EXL Service         8 salaries    ₹ 11,10,022   \n",
       "9           Optum Global Solutions         8 salaries    ₹ 13,93,451   \n",
       "10                      Innovaccer         8 salaries    ₹ 11,81,047   \n",
       "11  Cognizant Technology Solutions         6 salaries     ₹ 9,77,281   \n",
       "12                           Optum         6 salaries    ₹ 12,89,447   \n",
       "13                   Tech Mahindra         5 salaries    ₹ 10,21,234   \n",
       "14                             OYO         5 salaries    ₹ 13,70,817   \n",
       "15                         Nagarro         5 salaries     ₹ 9,32,892   \n",
       "16                       dunnhumby         5 salaries    ₹ 11,00,000   \n",
       "17              Vidooly Media Tech         5 salaries       ₹ 15,412   \n",
       "18                        Algo8.ai         5 salaries     ₹ 6,75,000   \n",
       "19                          Amazon         4 salaries    ₹ 15,00,000   \n",
       "\n",
       "   minimum salary maximum salary  \n",
       "0           ₹333K        ₹1,080K  \n",
       "1           ₹569K        ₹2,648K  \n",
       "2           ₹350K        ₹1,565K  \n",
       "3           ₹436K       ₹11,274K  \n",
       "4           ₹560K        ₹2,147K  \n",
       "5         ₹1,037K        ₹1,500K  \n",
       "6           ₹487K        ₹1,421K  \n",
       "7           ₹196K        ₹1,755K  \n",
       "8           ₹558K        ₹1,500K  \n",
       "9         ₹1,000K        ₹2,085K  \n",
       "10          ₹602K        ₹1,644K  \n",
       "11          ₹769K        ₹1,225K  \n",
       "12          ₹783K        ₹1,959K  \n",
       "13          ₹400K        ₹1,680K  \n",
       "14          ₹942K        ₹1,827K  \n",
       "15          ₹400K        ₹1,091K  \n",
       "16          ₹793K        ₹1,946K  \n",
       "17           ₹12K           ₹61K  \n",
       "18           ₹83K        ₹1,317K  \n",
       "19          ₹749K        ₹2,028K  "
      ]
     },
     "execution_count": 350,
     "metadata": {},
     "output_type": "execute_result"
    }
   ],
   "source": [
    "Ques5"
   ]
  },
  {
   "cell_type": "code",
   "execution_count": 351,
   "metadata": {},
   "outputs": [],
   "source": [
    "new_Ques5=Ques5.iloc[0:10,:]"
   ]
  },
  {
   "cell_type": "code",
   "execution_count": 352,
   "metadata": {},
   "outputs": [
    {
     "data": {
      "text/html": [
       "<div>\n",
       "<style scoped>\n",
       "    .dataframe tbody tr th:only-of-type {\n",
       "        vertical-align: middle;\n",
       "    }\n",
       "\n",
       "    .dataframe tbody tr th {\n",
       "        vertical-align: top;\n",
       "    }\n",
       "\n",
       "    .dataframe thead th {\n",
       "        text-align: right;\n",
       "    }\n",
       "</style>\n",
       "<table border=\"1\" class=\"dataframe\">\n",
       "  <thead>\n",
       "    <tr style=\"text-align: right;\">\n",
       "      <th></th>\n",
       "      <th>company_name</th>\n",
       "      <th>number of salaries</th>\n",
       "      <th>average salary</th>\n",
       "      <th>minimum salary</th>\n",
       "      <th>maximum salary</th>\n",
       "    </tr>\n",
       "  </thead>\n",
       "  <tbody>\n",
       "    <tr>\n",
       "      <th>0</th>\n",
       "      <td>Tata Consultancy Services</td>\n",
       "      <td>16 salaries</td>\n",
       "      <td>₹ 5,97,967</td>\n",
       "      <td>₹333K</td>\n",
       "      <td>₹1,080K</td>\n",
       "    </tr>\n",
       "    <tr>\n",
       "      <th>1</th>\n",
       "      <td>IBM</td>\n",
       "      <td>14 salaries</td>\n",
       "      <td>₹ 8,79,486</td>\n",
       "      <td>₹569K</td>\n",
       "      <td>₹2,648K</td>\n",
       "    </tr>\n",
       "    <tr>\n",
       "      <th>2</th>\n",
       "      <td>Ericsson-Worldwide</td>\n",
       "      <td>14 salaries</td>\n",
       "      <td>₹ 7,15,984</td>\n",
       "      <td>₹350K</td>\n",
       "      <td>₹1,565K</td>\n",
       "    </tr>\n",
       "    <tr>\n",
       "      <th>3</th>\n",
       "      <td>Delhivery</td>\n",
       "      <td>14 salaries</td>\n",
       "      <td>₹ 12,12,741</td>\n",
       "      <td>₹436K</td>\n",
       "      <td>₹11,274K</td>\n",
       "    </tr>\n",
       "    <tr>\n",
       "      <th>4</th>\n",
       "      <td>Accenture</td>\n",
       "      <td>13 salaries</td>\n",
       "      <td>₹ 10,97,744</td>\n",
       "      <td>₹560K</td>\n",
       "      <td>₹2,147K</td>\n",
       "    </tr>\n",
       "    <tr>\n",
       "      <th>5</th>\n",
       "      <td>UnitedHealth Group</td>\n",
       "      <td>11 salaries</td>\n",
       "      <td>₹ 12,96,182</td>\n",
       "      <td>₹1,037K</td>\n",
       "      <td>₹1,500K</td>\n",
       "    </tr>\n",
       "    <tr>\n",
       "      <th>6</th>\n",
       "      <td>Valiance Solutions</td>\n",
       "      <td>9 salaries</td>\n",
       "      <td>₹ 7,90,812</td>\n",
       "      <td>₹487K</td>\n",
       "      <td>₹1,421K</td>\n",
       "    </tr>\n",
       "    <tr>\n",
       "      <th>7</th>\n",
       "      <td>ZS Associates</td>\n",
       "      <td>8 salaries</td>\n",
       "      <td>₹ 11,19,962</td>\n",
       "      <td>₹196K</td>\n",
       "      <td>₹1,755K</td>\n",
       "    </tr>\n",
       "    <tr>\n",
       "      <th>8</th>\n",
       "      <td>EXL Service</td>\n",
       "      <td>8 salaries</td>\n",
       "      <td>₹ 11,10,022</td>\n",
       "      <td>₹558K</td>\n",
       "      <td>₹1,500K</td>\n",
       "    </tr>\n",
       "    <tr>\n",
       "      <th>9</th>\n",
       "      <td>Optum Global Solutions</td>\n",
       "      <td>8 salaries</td>\n",
       "      <td>₹ 13,93,451</td>\n",
       "      <td>₹1,000K</td>\n",
       "      <td>₹2,085K</td>\n",
       "    </tr>\n",
       "  </tbody>\n",
       "</table>\n",
       "</div>"
      ],
      "text/plain": [
       "                company_name number of salaries average salary minimum salary  \\\n",
       "0  Tata Consultancy Services        16 salaries     ₹ 5,97,967          ₹333K   \n",
       "1                        IBM        14 salaries     ₹ 8,79,486          ₹569K   \n",
       "2         Ericsson-Worldwide        14 salaries     ₹ 7,15,984          ₹350K   \n",
       "3                  Delhivery        14 salaries    ₹ 12,12,741          ₹436K   \n",
       "4                  Accenture        13 salaries    ₹ 10,97,744          ₹560K   \n",
       "5         UnitedHealth Group        11 salaries    ₹ 12,96,182        ₹1,037K   \n",
       "6         Valiance Solutions         9 salaries     ₹ 7,90,812          ₹487K   \n",
       "7              ZS Associates         8 salaries    ₹ 11,19,962          ₹196K   \n",
       "8                EXL Service         8 salaries    ₹ 11,10,022          ₹558K   \n",
       "9     Optum Global Solutions         8 salaries    ₹ 13,93,451        ₹1,000K   \n",
       "\n",
       "  maximum salary  \n",
       "0        ₹1,080K  \n",
       "1        ₹2,648K  \n",
       "2        ₹1,565K  \n",
       "3       ₹11,274K  \n",
       "4        ₹2,147K  \n",
       "5        ₹1,500K  \n",
       "6        ₹1,421K  \n",
       "7        ₹1,755K  \n",
       "8        ₹1,500K  \n",
       "9        ₹2,085K  "
      ]
     },
     "execution_count": 352,
     "metadata": {},
     "output_type": "execute_result"
    }
   ],
   "source": [
    "new_Ques5"
   ]
  },
  {
   "cell_type": "markdown",
   "metadata": {},
   "source": [
    "# Question 5 completed"
   ]
  },
  {
   "cell_type": "code",
   "execution_count": 97,
   "metadata": {},
   "outputs": [],
   "source": [
    "driver6=webdriver.Chrome(r\"C:\\Users\\Bhumik Shah\\Downloads\\chromedriver_win32\\chromedriver.exe\")"
   ]
  },
  {
   "cell_type": "code",
   "execution_count": 98,
   "metadata": {},
   "outputs": [],
   "source": [
    "url='https://www.flipkart.com/'"
   ]
  },
  {
   "cell_type": "code",
   "execution_count": 99,
   "metadata": {},
   "outputs": [],
   "source": [
    "driver6.get(url)"
   ]
  },
  {
   "cell_type": "code",
   "execution_count": 100,
   "metadata": {},
   "outputs": [],
   "source": [
    "products=driver6.find_element_by_xpath(\"//div[@class='_3OO5Xc']/input\")"
   ]
  },
  {
   "cell_type": "code",
   "execution_count": 101,
   "metadata": {},
   "outputs": [
    {
     "data": {
      "text/plain": [
       "<selenium.webdriver.remote.webelement.WebElement (session=\"c7e571209f63ef8ddd7dd8ff22c671ad\", element=\"c9c955c6-b29c-4756-b59d-65145b15eae5\")>"
      ]
     },
     "execution_count": 101,
     "metadata": {},
     "output_type": "execute_result"
    }
   ],
   "source": [
    "products"
   ]
  },
  {
   "cell_type": "code",
   "execution_count": 102,
   "metadata": {},
   "outputs": [],
   "source": [
    "products.send_keys('sunglasses')"
   ]
  },
  {
   "cell_type": "code",
   "execution_count": 103,
   "metadata": {},
   "outputs": [],
   "source": [
    "search=driver6.find_element_by_xpath(\"//button[@class='L0Z3Pu']\")"
   ]
  },
  {
   "cell_type": "code",
   "execution_count": 104,
   "metadata": {},
   "outputs": [
    {
     "data": {
      "text/plain": [
       "<selenium.webdriver.remote.webelement.WebElement (session=\"c7e571209f63ef8ddd7dd8ff22c671ad\", element=\"6d6042df-37f4-445b-91e4-f9838bdda4ea\")>"
      ]
     },
     "execution_count": 104,
     "metadata": {},
     "output_type": "execute_result"
    }
   ],
   "source": [
    "search"
   ]
  },
  {
   "cell_type": "code",
   "execution_count": 105,
   "metadata": {},
   "outputs": [],
   "source": [
    "search.click()"
   ]
  },
  {
   "cell_type": "code",
   "execution_count": 106,
   "metadata": {},
   "outputs": [],
   "source": [
    "Url = []\n",
    "nxt_page =driver6.find_elements_by_xpath(\"//nav[@class='yFHi8N']//a\")\n",
    "for i in nxt_page:\n",
    "    Url.append(i.get_attribute('href'))"
   ]
  },
  {
   "cell_type": "code",
   "execution_count": 107,
   "metadata": {},
   "outputs": [
    {
     "data": {
      "text/plain": [
       "['https://www.flipkart.com/search?q=sunglasses&otracker=search&otracker1=search&marketplace=FLIPKART&as-show=on&as=off&page=1',\n",
       " 'https://www.flipkart.com/search?q=sunglasses&otracker=search&otracker1=search&marketplace=FLIPKART&as-show=on&as=off&page=2',\n",
       " 'https://www.flipkart.com/search?q=sunglasses&otracker=search&otracker1=search&marketplace=FLIPKART&as-show=on&as=off&page=3',\n",
       " 'https://www.flipkart.com/search?q=sunglasses&otracker=search&otracker1=search&marketplace=FLIPKART&as-show=on&as=off&page=4',\n",
       " 'https://www.flipkart.com/search?q=sunglasses&otracker=search&otracker1=search&marketplace=FLIPKART&as-show=on&as=off&page=5',\n",
       " 'https://www.flipkart.com/search?q=sunglasses&otracker=search&otracker1=search&marketplace=FLIPKART&as-show=on&as=off&page=6',\n",
       " 'https://www.flipkart.com/search?q=sunglasses&otracker=search&otracker1=search&marketplace=FLIPKART&as-show=on&as=off&page=7',\n",
       " 'https://www.flipkart.com/search?q=sunglasses&otracker=search&otracker1=search&marketplace=FLIPKART&as-show=on&as=off&page=8',\n",
       " 'https://www.flipkart.com/search?q=sunglasses&otracker=search&otracker1=search&marketplace=FLIPKART&as-show=on&as=off&page=9',\n",
       " 'https://www.flipkart.com/search?q=sunglasses&otracker=search&otracker1=search&marketplace=FLIPKART&as-show=on&as=off&page=10',\n",
       " 'https://www.flipkart.com/search?q=sunglasses&otracker=search&otracker1=search&marketplace=FLIPKART&as-show=on&as=off&page=2']"
      ]
     },
     "execution_count": 107,
     "metadata": {},
     "output_type": "execute_result"
    }
   ],
   "source": [
    "Url"
   ]
  },
  {
   "cell_type": "code",
   "execution_count": 108,
   "metadata": {},
   "outputs": [
    {
     "data": {
      "text/plain": [
       "11"
      ]
     },
     "execution_count": 108,
     "metadata": {},
     "output_type": "execute_result"
    }
   ],
   "source": [
    "len(Url)"
   ]
  },
  {
   "cell_type": "code",
   "execution_count": 110,
   "metadata": {},
   "outputs": [],
   "source": [
    "import time\n",
    "brand_name4=[]\n",
    "description3=[]\n",
    "price3=[]\n",
    "discount3=[]\n",
    "for i in Url[:3]:\n",
    "    driver6.get(i)\n",
    "    for j in driver6.find_elements_by_xpath(\"//div[@class='_2WkVRV']\"):\n",
    "        brand_name4.append(j.text)\n",
    "    for k in driver6.find_elements_by_xpath(\"//a[@class='IRpwTa']\"):\n",
    "        description3.append(k.text)\n",
    "    for l in driver6.find_elements_by_xpath(\"//div[@class='_30jeq3']\"):\n",
    "        price3.append(l.text)\n",
    "    for n in driver6.find_elements_by_xpath(\"//div[@class='_3Ay6Sb']\"):\n",
    "        discount3.append(n.text)        \n",
    "   "
   ]
  },
  {
   "cell_type": "code",
   "execution_count": 112,
   "metadata": {},
   "outputs": [
    {
     "name": "stdout",
     "output_type": "stream",
     "text": [
      "120 120 120 120\n"
     ]
    }
   ],
   "source": [
    "print(len(brand_name4),len(description3),len(price3),len(discount3))"
   ]
  },
  {
   "cell_type": "code",
   "execution_count": 113,
   "metadata": {},
   "outputs": [],
   "source": [
    "df7=pd.DataFrame({})"
   ]
  },
  {
   "cell_type": "code",
   "execution_count": 114,
   "metadata": {},
   "outputs": [],
   "source": [
    "df7['brand_name']=brand_name4"
   ]
  },
  {
   "cell_type": "code",
   "execution_count": 115,
   "metadata": {},
   "outputs": [],
   "source": [
    "df7['description']=description3"
   ]
  },
  {
   "cell_type": "code",
   "execution_count": 116,
   "metadata": {},
   "outputs": [],
   "source": [
    "df7['price']=price3"
   ]
  },
  {
   "cell_type": "code",
   "execution_count": 117,
   "metadata": {},
   "outputs": [],
   "source": [
    "df7['discount']=discount3"
   ]
  },
  {
   "cell_type": "code",
   "execution_count": 118,
   "metadata": {},
   "outputs": [
    {
     "data": {
      "text/html": [
       "<div>\n",
       "<style scoped>\n",
       "    .dataframe tbody tr th:only-of-type {\n",
       "        vertical-align: middle;\n",
       "    }\n",
       "\n",
       "    .dataframe tbody tr th {\n",
       "        vertical-align: top;\n",
       "    }\n",
       "\n",
       "    .dataframe thead th {\n",
       "        text-align: right;\n",
       "    }\n",
       "</style>\n",
       "<table border=\"1\" class=\"dataframe\">\n",
       "  <thead>\n",
       "    <tr style=\"text-align: right;\">\n",
       "      <th></th>\n",
       "      <th>brand_name</th>\n",
       "      <th>description</th>\n",
       "      <th>price</th>\n",
       "      <th>discount</th>\n",
       "    </tr>\n",
       "  </thead>\n",
       "  <tbody>\n",
       "    <tr>\n",
       "      <th>0</th>\n",
       "      <td>Fastrack</td>\n",
       "      <td>UV Protection Rectangular Sunglasses (Free Size)</td>\n",
       "      <td>₹630</td>\n",
       "      <td>21% off</td>\n",
       "    </tr>\n",
       "    <tr>\n",
       "      <th>1</th>\n",
       "      <td>GANSTA</td>\n",
       "      <td>UV Protection Aviator Sunglasses (57)</td>\n",
       "      <td>₹281</td>\n",
       "      <td>85% off</td>\n",
       "    </tr>\n",
       "    <tr>\n",
       "      <th>2</th>\n",
       "      <td>ROZZETTA CRAFT</td>\n",
       "      <td>UV Protection Retro Square Sunglasses (Free Size)</td>\n",
       "      <td>₹499</td>\n",
       "      <td>77% off</td>\n",
       "    </tr>\n",
       "    <tr>\n",
       "      <th>3</th>\n",
       "      <td>PIRASO</td>\n",
       "      <td>UV Protection Aviator Sunglasses (Free Size)</td>\n",
       "      <td>₹349</td>\n",
       "      <td>78% off</td>\n",
       "    </tr>\n",
       "    <tr>\n",
       "      <th>4</th>\n",
       "      <td>DEIXELS</td>\n",
       "      <td>UV Protection Aviator, Wayfarer Sunglasses (Fr...</td>\n",
       "      <td>₹213</td>\n",
       "      <td>82% off</td>\n",
       "    </tr>\n",
       "    <tr>\n",
       "      <th>...</th>\n",
       "      <td>...</td>\n",
       "      <td>...</td>\n",
       "      <td>...</td>\n",
       "      <td>...</td>\n",
       "    </tr>\n",
       "    <tr>\n",
       "      <th>115</th>\n",
       "      <td>Fastrack</td>\n",
       "      <td>UV Protection Round Sunglasses (52)</td>\n",
       "      <td>₹1,232</td>\n",
       "      <td>5% off</td>\n",
       "    </tr>\n",
       "    <tr>\n",
       "      <th>116</th>\n",
       "      <td>Fastrack</td>\n",
       "      <td>UV Protection Wayfarer Sunglasses (55)</td>\n",
       "      <td>₹744</td>\n",
       "      <td>17% off</td>\n",
       "    </tr>\n",
       "    <tr>\n",
       "      <th>117</th>\n",
       "      <td>Fastrack</td>\n",
       "      <td>UV Protection Round Sunglasses (52)</td>\n",
       "      <td>₹1,243</td>\n",
       "      <td>4% off</td>\n",
       "    </tr>\n",
       "    <tr>\n",
       "      <th>118</th>\n",
       "      <td>Fastrack</td>\n",
       "      <td>UV Protection Wrap-around Sunglasses (Free Size)</td>\n",
       "      <td>₹853</td>\n",
       "      <td>5% off</td>\n",
       "    </tr>\n",
       "    <tr>\n",
       "      <th>119</th>\n",
       "      <td>Fastrack</td>\n",
       "      <td>UV Protection Round Sunglasses (52)</td>\n",
       "      <td>₹1,217</td>\n",
       "      <td>6% off</td>\n",
       "    </tr>\n",
       "  </tbody>\n",
       "</table>\n",
       "<p>120 rows × 4 columns</p>\n",
       "</div>"
      ],
      "text/plain": [
       "         brand_name                                        description  \\\n",
       "0          Fastrack   UV Protection Rectangular Sunglasses (Free Size)   \n",
       "1            GANSTA              UV Protection Aviator Sunglasses (57)   \n",
       "2    ROZZETTA CRAFT  UV Protection Retro Square Sunglasses (Free Size)   \n",
       "3            PIRASO       UV Protection Aviator Sunglasses (Free Size)   \n",
       "4           DEIXELS  UV Protection Aviator, Wayfarer Sunglasses (Fr...   \n",
       "..              ...                                                ...   \n",
       "115        Fastrack                UV Protection Round Sunglasses (52)   \n",
       "116        Fastrack             UV Protection Wayfarer Sunglasses (55)   \n",
       "117        Fastrack                UV Protection Round Sunglasses (52)   \n",
       "118        Fastrack   UV Protection Wrap-around Sunglasses (Free Size)   \n",
       "119        Fastrack                UV Protection Round Sunglasses (52)   \n",
       "\n",
       "      price discount  \n",
       "0      ₹630  21% off  \n",
       "1      ₹281  85% off  \n",
       "2      ₹499  77% off  \n",
       "3      ₹349  78% off  \n",
       "4      ₹213  82% off  \n",
       "..      ...      ...  \n",
       "115  ₹1,232   5% off  \n",
       "116    ₹744  17% off  \n",
       "117  ₹1,243   4% off  \n",
       "118    ₹853   5% off  \n",
       "119  ₹1,217   6% off  \n",
       "\n",
       "[120 rows x 4 columns]"
      ]
     },
     "execution_count": 118,
     "metadata": {},
     "output_type": "execute_result"
    }
   ],
   "source": [
    "df7"
   ]
  },
  {
   "cell_type": "code",
   "execution_count": 120,
   "metadata": {},
   "outputs": [],
   "source": [
    "df7n=df7.iloc[0:100,:]"
   ]
  },
  {
   "cell_type": "code",
   "execution_count": 121,
   "metadata": {},
   "outputs": [
    {
     "data": {
      "text/html": [
       "<div>\n",
       "<style scoped>\n",
       "    .dataframe tbody tr th:only-of-type {\n",
       "        vertical-align: middle;\n",
       "    }\n",
       "\n",
       "    .dataframe tbody tr th {\n",
       "        vertical-align: top;\n",
       "    }\n",
       "\n",
       "    .dataframe thead th {\n",
       "        text-align: right;\n",
       "    }\n",
       "</style>\n",
       "<table border=\"1\" class=\"dataframe\">\n",
       "  <thead>\n",
       "    <tr style=\"text-align: right;\">\n",
       "      <th></th>\n",
       "      <th>brand_name</th>\n",
       "      <th>description</th>\n",
       "      <th>price</th>\n",
       "      <th>discount</th>\n",
       "    </tr>\n",
       "  </thead>\n",
       "  <tbody>\n",
       "    <tr>\n",
       "      <th>0</th>\n",
       "      <td>Fastrack</td>\n",
       "      <td>UV Protection Rectangular Sunglasses (Free Size)</td>\n",
       "      <td>₹630</td>\n",
       "      <td>21% off</td>\n",
       "    </tr>\n",
       "    <tr>\n",
       "      <th>1</th>\n",
       "      <td>GANSTA</td>\n",
       "      <td>UV Protection Aviator Sunglasses (57)</td>\n",
       "      <td>₹281</td>\n",
       "      <td>85% off</td>\n",
       "    </tr>\n",
       "    <tr>\n",
       "      <th>2</th>\n",
       "      <td>ROZZETTA CRAFT</td>\n",
       "      <td>UV Protection Retro Square Sunglasses (Free Size)</td>\n",
       "      <td>₹499</td>\n",
       "      <td>77% off</td>\n",
       "    </tr>\n",
       "    <tr>\n",
       "      <th>3</th>\n",
       "      <td>PIRASO</td>\n",
       "      <td>UV Protection Aviator Sunglasses (Free Size)</td>\n",
       "      <td>₹349</td>\n",
       "      <td>78% off</td>\n",
       "    </tr>\n",
       "    <tr>\n",
       "      <th>4</th>\n",
       "      <td>DEIXELS</td>\n",
       "      <td>UV Protection Aviator, Wayfarer Sunglasses (Fr...</td>\n",
       "      <td>₹213</td>\n",
       "      <td>82% off</td>\n",
       "    </tr>\n",
       "    <tr>\n",
       "      <th>...</th>\n",
       "      <td>...</td>\n",
       "      <td>...</td>\n",
       "      <td>...</td>\n",
       "      <td>...</td>\n",
       "    </tr>\n",
       "    <tr>\n",
       "      <th>95</th>\n",
       "      <td>ROYAL SON</td>\n",
       "      <td>UV Protection Retro Square Sunglasses (88)</td>\n",
       "      <td>₹599</td>\n",
       "      <td>70% off</td>\n",
       "    </tr>\n",
       "    <tr>\n",
       "      <th>96</th>\n",
       "      <td>Fastrack</td>\n",
       "      <td>Gradient, UV Protection Wayfarer Sunglasses (F...</td>\n",
       "      <td>₹777</td>\n",
       "      <td>22% off</td>\n",
       "    </tr>\n",
       "    <tr>\n",
       "      <th>97</th>\n",
       "      <td>ROYAL SON</td>\n",
       "      <td>Gradient, UV Protection Round, Oval, Cat-eye S...</td>\n",
       "      <td>₹699</td>\n",
       "      <td>53% off</td>\n",
       "    </tr>\n",
       "    <tr>\n",
       "      <th>98</th>\n",
       "      <td>Fastrack</td>\n",
       "      <td>UV Protection Aviator Sunglasses (58)</td>\n",
       "      <td>₹1,115</td>\n",
       "      <td>14% off</td>\n",
       "    </tr>\n",
       "    <tr>\n",
       "      <th>99</th>\n",
       "      <td>Fastrack</td>\n",
       "      <td>UV Protection Wayfarer Sunglasses (Free Size)</td>\n",
       "      <td>₹758</td>\n",
       "      <td>15% off</td>\n",
       "    </tr>\n",
       "  </tbody>\n",
       "</table>\n",
       "<p>100 rows × 4 columns</p>\n",
       "</div>"
      ],
      "text/plain": [
       "        brand_name                                        description   price  \\\n",
       "0         Fastrack   UV Protection Rectangular Sunglasses (Free Size)    ₹630   \n",
       "1           GANSTA              UV Protection Aviator Sunglasses (57)    ₹281   \n",
       "2   ROZZETTA CRAFT  UV Protection Retro Square Sunglasses (Free Size)    ₹499   \n",
       "3           PIRASO       UV Protection Aviator Sunglasses (Free Size)    ₹349   \n",
       "4          DEIXELS  UV Protection Aviator, Wayfarer Sunglasses (Fr...    ₹213   \n",
       "..             ...                                                ...     ...   \n",
       "95       ROYAL SON         UV Protection Retro Square Sunglasses (88)    ₹599   \n",
       "96        Fastrack  Gradient, UV Protection Wayfarer Sunglasses (F...    ₹777   \n",
       "97       ROYAL SON  Gradient, UV Protection Round, Oval, Cat-eye S...    ₹699   \n",
       "98        Fastrack              UV Protection Aviator Sunglasses (58)  ₹1,115   \n",
       "99        Fastrack      UV Protection Wayfarer Sunglasses (Free Size)    ₹758   \n",
       "\n",
       "   discount  \n",
       "0   21% off  \n",
       "1   85% off  \n",
       "2   77% off  \n",
       "3   78% off  \n",
       "4   82% off  \n",
       "..      ...  \n",
       "95  70% off  \n",
       "96  22% off  \n",
       "97  53% off  \n",
       "98  14% off  \n",
       "99  15% off  \n",
       "\n",
       "[100 rows x 4 columns]"
      ]
     },
     "execution_count": 121,
     "metadata": {},
     "output_type": "execute_result"
    }
   ],
   "source": [
    "df7n"
   ]
  },
  {
   "cell_type": "markdown",
   "metadata": {},
   "source": [
    "# Question 6 completed"
   ]
  },
  {
   "cell_type": "markdown",
   "metadata": {},
   "source": [
    "# Q7 starting"
   ]
  },
  {
   "cell_type": "code",
   "execution_count": 1,
   "metadata": {},
   "outputs": [
    {
     "ename": "NameError",
     "evalue": "name 'webdriver' is not defined",
     "output_type": "error",
     "traceback": [
      "\u001b[1;31m---------------------------------------------------------------------------\u001b[0m",
      "\u001b[1;31mNameError\u001b[0m                                 Traceback (most recent call last)",
      "\u001b[1;32m<ipython-input-1-fd509f4f9588>\u001b[0m in \u001b[0;36m<module>\u001b[1;34m\u001b[0m\n\u001b[1;32m----> 1\u001b[1;33m \u001b[0mdriver7\u001b[0m\u001b[1;33m=\u001b[0m\u001b[0mwebdriver\u001b[0m\u001b[1;33m.\u001b[0m\u001b[0mChrome\u001b[0m\u001b[1;33m(\u001b[0m\u001b[1;34mr\"C:\\Users\\Bhumik Shah\\Downloads\\chromedriver_win32\\chromedriver.exe\"\u001b[0m\u001b[1;33m)\u001b[0m\u001b[1;33m\u001b[0m\u001b[1;33m\u001b[0m\u001b[0m\n\u001b[0m",
      "\u001b[1;31mNameError\u001b[0m: name 'webdriver' is not defined"
     ]
    }
   ],
   "source": [
    "driver7=webdriver.Chrome(r\"C:\\Users\\Bhumik Shah\\Downloads\\chromedriver_win32\\chromedriver.exe\")"
   ]
  },
  {
   "cell_type": "code",
   "execution_count": null,
   "metadata": {},
   "outputs": [],
   "source": [
    "url=\"https://www.flipkart.com/apple-iphone-11-black-64-gb-includes-earpods-power-adapter/p/itm0f37c2240b217?pid=MOBFKCTSVZAXUHGR&lid=LSTMOBFKCTSVZAXUHGREPBFGI&marketplace\""
   ]
  },
  {
   "cell_type": "code",
   "execution_count": 139,
   "metadata": {},
   "outputs": [],
   "source": [
    "driver7.get(url)"
   ]
  },
  {
   "cell_type": "code",
   "execution_count": 140,
   "metadata": {},
   "outputs": [],
   "source": [
    "total_reviews=driver7.find_element_by_xpath(\"//div[@class='_3UAT2v _16PBlm']/span\")"
   ]
  },
  {
   "cell_type": "code",
   "execution_count": 141,
   "metadata": {},
   "outputs": [
    {
     "data": {
      "text/plain": [
       "<selenium.webdriver.remote.webelement.WebElement (session=\"98a4440758b0239dd541b1daa4f66951\", element=\"32e69c02-03cd-4ae2-810b-07aec9a94972\")>"
      ]
     },
     "execution_count": 141,
     "metadata": {},
     "output_type": "execute_result"
    }
   ],
   "source": [
    "total_reviews"
   ]
  },
  {
   "cell_type": "code",
   "execution_count": 142,
   "metadata": {},
   "outputs": [],
   "source": [
    "total_reviews.click()"
   ]
  },
  {
   "cell_type": "code",
   "execution_count": 148,
   "metadata": {},
   "outputs": [
    {
     "data": {
      "text/plain": [
       "['https://www.flipkart.com/apple-iphone-11-black-64-gb-includes-earpods-power-adapter/product-reviews/itm0f37c2240b217?pid=MOBFKCTSVZAXUHGR&lid=LSTMOBFKCTSVZAXUHGREPBFGI&marketplace=FLIPKART&page=1',\n",
       " 'https://www.flipkart.com/apple-iphone-11-black-64-gb-includes-earpods-power-adapter/product-reviews/itm0f37c2240b217?pid=MOBFKCTSVZAXUHGR&lid=LSTMOBFKCTSVZAXUHGREPBFGI&marketplace=FLIPKART&page=2',\n",
       " 'https://www.flipkart.com/apple-iphone-11-black-64-gb-includes-earpods-power-adapter/product-reviews/itm0f37c2240b217?pid=MOBFKCTSVZAXUHGR&lid=LSTMOBFKCTSVZAXUHGREPBFGI&marketplace=FLIPKART&page=3',\n",
       " 'https://www.flipkart.com/apple-iphone-11-black-64-gb-includes-earpods-power-adapter/product-reviews/itm0f37c2240b217?pid=MOBFKCTSVZAXUHGR&lid=LSTMOBFKCTSVZAXUHGREPBFGI&marketplace=FLIPKART&page=4',\n",
       " 'https://www.flipkart.com/apple-iphone-11-black-64-gb-includes-earpods-power-adapter/product-reviews/itm0f37c2240b217?pid=MOBFKCTSVZAXUHGR&lid=LSTMOBFKCTSVZAXUHGREPBFGI&marketplace=FLIPKART&page=5',\n",
       " 'https://www.flipkart.com/apple-iphone-11-black-64-gb-includes-earpods-power-adapter/product-reviews/itm0f37c2240b217?pid=MOBFKCTSVZAXUHGR&lid=LSTMOBFKCTSVZAXUHGREPBFGI&marketplace=FLIPKART&page=6',\n",
       " 'https://www.flipkart.com/apple-iphone-11-black-64-gb-includes-earpods-power-adapter/product-reviews/itm0f37c2240b217?pid=MOBFKCTSVZAXUHGR&lid=LSTMOBFKCTSVZAXUHGREPBFGI&marketplace=FLIPKART&page=7',\n",
       " 'https://www.flipkart.com/apple-iphone-11-black-64-gb-includes-earpods-power-adapter/product-reviews/itm0f37c2240b217?pid=MOBFKCTSVZAXUHGR&lid=LSTMOBFKCTSVZAXUHGREPBFGI&marketplace=FLIPKART&page=8',\n",
       " 'https://www.flipkart.com/apple-iphone-11-black-64-gb-includes-earpods-power-adapter/product-reviews/itm0f37c2240b217?pid=MOBFKCTSVZAXUHGR&lid=LSTMOBFKCTSVZAXUHGREPBFGI&marketplace=FLIPKART&page=9',\n",
       " 'https://www.flipkart.com/apple-iphone-11-black-64-gb-includes-earpods-power-adapter/product-reviews/itm0f37c2240b217?pid=MOBFKCTSVZAXUHGR&lid=LSTMOBFKCTSVZAXUHGREPBFGI&marketplace=FLIPKART&page=10',\n",
       " 'https://www.flipkart.com/apple-iphone-11-black-64-gb-includes-earpods-power-adapter/product-reviews/itm0f37c2240b217?pid=MOBFKCTSVZAXUHGR&lid=LSTMOBFKCTSVZAXUHGREPBFGI&marketplace=FLIPKART&page=2']"
      ]
     },
     "execution_count": 148,
     "metadata": {},
     "output_type": "execute_result"
    }
   ],
   "source": [
    "Urls1=[]\n",
    "next_page=driver7.find_elements_by_xpath(\"//nav[@class='yFHi8N']//a\")\n",
    "for i in next_page:\n",
    "    Urls1.append(i.get_attribute('href'))\n",
    "Urls1"
   ]
  },
  {
   "cell_type": "code",
   "execution_count": 165,
   "metadata": {},
   "outputs": [],
   "source": [
    "ratings1=[]\n",
    "summary1=[]\n",
    "full_review1=[]\n",
    "\n",
    "for i in Urls1[:10]:\n",
    "    driver7.get(i)\n",
    "    try:\n",
    "        for a in driver7.find_elements_by_xpath(\"//div[@class='_3LWZlK _1BLPMq']\"):\n",
    "           ratings1.append(a.text)\n",
    "        for b in driver7.find_elements_by_xpath(\"//p[@class='_2-N8zT']\"):\n",
    "           summary1.append(b.text)\n",
    "        for c in driver7.find_elements_by_xpath(\"//div[@class='t-ZTKy']\"):\n",
    "           full_review1.append(c.text)\n",
    "    except NoSuchElementException:\n",
    "        ratings1.append('-')\n"
   ]
  },
  {
   "cell_type": "code",
   "execution_count": 166,
   "metadata": {},
   "outputs": [
    {
     "name": "stdout",
     "output_type": "stream",
     "text": [
      "98 100 100\n"
     ]
    }
   ],
   "source": [
    "print(len(ratings1),len(summary1),len(full_review1))"
   ]
  },
  {
   "cell_type": "code",
   "execution_count": 168,
   "metadata": {},
   "outputs": [],
   "source": [
    "ratings1.insert(98,4)"
   ]
  },
  {
   "cell_type": "code",
   "execution_count": 170,
   "metadata": {},
   "outputs": [],
   "source": [
    "ratings1.insert(99,5)"
   ]
  },
  {
   "cell_type": "code",
   "execution_count": 171,
   "metadata": {},
   "outputs": [
    {
     "data": {
      "text/plain": [
       "100"
      ]
     },
     "execution_count": 171,
     "metadata": {},
     "output_type": "execute_result"
    }
   ],
   "source": [
    "len(ratings1)"
   ]
  },
  {
   "cell_type": "code",
   "execution_count": 172,
   "metadata": {},
   "outputs": [],
   "source": [
    "df8=pd.DataFrame({})\n",
    "df8['ratings']=ratings1\n",
    "df8['summary']=summary1\n",
    "df8['full_reviews']=full_review1"
   ]
  },
  {
   "cell_type": "code",
   "execution_count": 173,
   "metadata": {},
   "outputs": [
    {
     "data": {
      "text/html": [
       "<div>\n",
       "<style scoped>\n",
       "    .dataframe tbody tr th:only-of-type {\n",
       "        vertical-align: middle;\n",
       "    }\n",
       "\n",
       "    .dataframe tbody tr th {\n",
       "        vertical-align: top;\n",
       "    }\n",
       "\n",
       "    .dataframe thead th {\n",
       "        text-align: right;\n",
       "    }\n",
       "</style>\n",
       "<table border=\"1\" class=\"dataframe\">\n",
       "  <thead>\n",
       "    <tr style=\"text-align: right;\">\n",
       "      <th></th>\n",
       "      <th>ratings</th>\n",
       "      <th>summary</th>\n",
       "      <th>full_reviews</th>\n",
       "    </tr>\n",
       "  </thead>\n",
       "  <tbody>\n",
       "    <tr>\n",
       "      <th>0</th>\n",
       "      <td>5</td>\n",
       "      <td>Brilliant</td>\n",
       "      <td>The Best Phone for the Money\\n\\nThe iPhone 11 ...</td>\n",
       "    </tr>\n",
       "    <tr>\n",
       "      <th>1</th>\n",
       "      <td>5</td>\n",
       "      <td>Perfect product!</td>\n",
       "      <td>Amazing phone with great cameras and better ba...</td>\n",
       "    </tr>\n",
       "    <tr>\n",
       "      <th>2</th>\n",
       "      <td>5</td>\n",
       "      <td>Great product</td>\n",
       "      <td>Amazing Powerful and Durable Gadget.\\n\\nI’m am...</td>\n",
       "    </tr>\n",
       "    <tr>\n",
       "      <th>3</th>\n",
       "      <td>5</td>\n",
       "      <td>Worth every penny</td>\n",
       "      <td>Previously I was using one plus 3t it was a gr...</td>\n",
       "    </tr>\n",
       "    <tr>\n",
       "      <th>4</th>\n",
       "      <td>4</td>\n",
       "      <td>Good choice</td>\n",
       "      <td>So far it’s been an AMAZING experience coming ...</td>\n",
       "    </tr>\n",
       "    <tr>\n",
       "      <th>...</th>\n",
       "      <td>...</td>\n",
       "      <td>...</td>\n",
       "      <td>...</td>\n",
       "    </tr>\n",
       "    <tr>\n",
       "      <th>95</th>\n",
       "      <td>5</td>\n",
       "      <td>Excellent</td>\n",
       "      <td>A perfect phone and a good battery super camer...</td>\n",
       "    </tr>\n",
       "    <tr>\n",
       "      <th>96</th>\n",
       "      <td>5</td>\n",
       "      <td>Fabulous!</td>\n",
       "      <td>Everything is perfect pictures come out so cle...</td>\n",
       "    </tr>\n",
       "    <tr>\n",
       "      <th>97</th>\n",
       "      <td>4</td>\n",
       "      <td>Wonderful</td>\n",
       "      <td>Nice value for money good and best price I pho...</td>\n",
       "    </tr>\n",
       "    <tr>\n",
       "      <th>98</th>\n",
       "      <td>4</td>\n",
       "      <td>Fabulous!</td>\n",
       "      <td>Just an awesome phone...upgraded from 6s to 11...</td>\n",
       "    </tr>\n",
       "    <tr>\n",
       "      <th>99</th>\n",
       "      <td>5</td>\n",
       "      <td>Value-for-money</td>\n",
       "      <td>As usual a great product from Apple. but the l...</td>\n",
       "    </tr>\n",
       "  </tbody>\n",
       "</table>\n",
       "<p>100 rows × 3 columns</p>\n",
       "</div>"
      ],
      "text/plain": [
       "   ratings            summary  \\\n",
       "0        5          Brilliant   \n",
       "1        5   Perfect product!   \n",
       "2        5      Great product   \n",
       "3        5  Worth every penny   \n",
       "4        4        Good choice   \n",
       "..     ...                ...   \n",
       "95       5          Excellent   \n",
       "96       5          Fabulous!   \n",
       "97       4          Wonderful   \n",
       "98       4          Fabulous!   \n",
       "99       5    Value-for-money   \n",
       "\n",
       "                                         full_reviews  \n",
       "0   The Best Phone for the Money\\n\\nThe iPhone 11 ...  \n",
       "1   Amazing phone with great cameras and better ba...  \n",
       "2   Amazing Powerful and Durable Gadget.\\n\\nI’m am...  \n",
       "3   Previously I was using one plus 3t it was a gr...  \n",
       "4   So far it’s been an AMAZING experience coming ...  \n",
       "..                                                ...  \n",
       "95  A perfect phone and a good battery super camer...  \n",
       "96  Everything is perfect pictures come out so cle...  \n",
       "97  Nice value for money good and best price I pho...  \n",
       "98  Just an awesome phone...upgraded from 6s to 11...  \n",
       "99  As usual a great product from Apple. but the l...  \n",
       "\n",
       "[100 rows x 3 columns]"
      ]
     },
     "execution_count": 173,
     "metadata": {},
     "output_type": "execute_result"
    }
   ],
   "source": [
    "df8"
   ]
  },
  {
   "cell_type": "markdown",
   "metadata": {},
   "source": [
    "# Question 7 completed"
   ]
  },
  {
   "cell_type": "code",
   "execution_count": 23,
   "metadata": {},
   "outputs": [],
   "source": [
    "driver8=webdriver.Chrome(r\"C:\\Users\\Bhumik Shah\\Downloads\\chromedriver_win32\\chromedriver.exe\")"
   ]
  },
  {
   "cell_type": "code",
   "execution_count": 24,
   "metadata": {},
   "outputs": [],
   "source": [
    "url='https://www.flipkart.com/'"
   ]
  },
  {
   "cell_type": "code",
   "execution_count": 25,
   "metadata": {},
   "outputs": [],
   "source": [
    "driver8.get(url)"
   ]
  },
  {
   "cell_type": "code",
   "execution_count": 26,
   "metadata": {},
   "outputs": [],
   "source": [
    "data=driver8.find_element_by_xpath(\"//div[@class='_3OO5Xc']/input\")"
   ]
  },
  {
   "cell_type": "code",
   "execution_count": 27,
   "metadata": {},
   "outputs": [],
   "source": [
    "data.send_keys('Sneakers')"
   ]
  },
  {
   "cell_type": "code",
   "execution_count": 28,
   "metadata": {},
   "outputs": [],
   "source": [
    "search1=driver8.find_element_by_xpath(\"//button[@class='L0Z3Pu']\")"
   ]
  },
  {
   "cell_type": "code",
   "execution_count": 29,
   "metadata": {},
   "outputs": [],
   "source": [
    "search1.click()"
   ]
  },
  {
   "cell_type": "code",
   "execution_count": 30,
   "metadata": {},
   "outputs": [
    {
     "data": {
      "text/plain": [
       "['https://www.flipkart.com/search?q=Sneakers&otracker=search&otracker1=search&marketplace=FLIPKART&as-show=on&as=off&page=1',\n",
       " 'https://www.flipkart.com/search?q=Sneakers&otracker=search&otracker1=search&marketplace=FLIPKART&as-show=on&as=off&page=2',\n",
       " 'https://www.flipkart.com/search?q=Sneakers&otracker=search&otracker1=search&marketplace=FLIPKART&as-show=on&as=off&page=3',\n",
       " 'https://www.flipkart.com/search?q=Sneakers&otracker=search&otracker1=search&marketplace=FLIPKART&as-show=on&as=off&page=4',\n",
       " 'https://www.flipkart.com/search?q=Sneakers&otracker=search&otracker1=search&marketplace=FLIPKART&as-show=on&as=off&page=5',\n",
       " 'https://www.flipkart.com/search?q=Sneakers&otracker=search&otracker1=search&marketplace=FLIPKART&as-show=on&as=off&page=6',\n",
       " 'https://www.flipkart.com/search?q=Sneakers&otracker=search&otracker1=search&marketplace=FLIPKART&as-show=on&as=off&page=7',\n",
       " 'https://www.flipkart.com/search?q=Sneakers&otracker=search&otracker1=search&marketplace=FLIPKART&as-show=on&as=off&page=8',\n",
       " 'https://www.flipkart.com/search?q=Sneakers&otracker=search&otracker1=search&marketplace=FLIPKART&as-show=on&as=off&page=9',\n",
       " 'https://www.flipkart.com/search?q=Sneakers&otracker=search&otracker1=search&marketplace=FLIPKART&as-show=on&as=off&page=10',\n",
       " 'https://www.flipkart.com/search?q=Sneakers&otracker=search&otracker1=search&marketplace=FLIPKART&as-show=on&as=off&page=2']"
      ]
     },
     "execution_count": 30,
     "metadata": {},
     "output_type": "execute_result"
    }
   ],
   "source": [
    "urls2=[]\n",
    "nex_page=driver8.find_elements_by_xpath(\"//nav[@class='yFHi8N']//a\")\n",
    "for i in nex_page:\n",
    "    urls2.append(i.get_attribute('href'))\n",
    "urls2\n"
   ]
  },
  {
   "cell_type": "code",
   "execution_count": 36,
   "metadata": {},
   "outputs": [],
   "source": [
    "brand2=[]\n",
    "productdescription2=[]\n",
    "price2=[]\n",
    "discount2=[]\n",
    "productdescription3=[]\n",
    "url8=[]\n",
    "\n",
    "for i in urls2[:4]:\n",
    "    driver8.get(i)\n",
    "    for j in driver8.find_elements_by_xpath(\"//div[@class='_2WkVRV']\"):\n",
    "               brand2.append(j.text)\n",
    "    for l in driver8.find_elements_by_xpath(\"//div[@class='_30jeq3']\"):\n",
    "            price2.append(l.text)\n",
    "\n",
    "    \n",
    "    \n",
    "  \n",
    "    \n"
   ]
  },
  {
   "cell_type": "code",
   "execution_count": 32,
   "metadata": {},
   "outputs": [],
   "source": [
    "urls = []\n",
    "\n",
    "for page in range(0,4):\n",
    "    \n",
    "    product_url = driver8.find_elements_by_xpath(\"//a[@class='_2UzuFa']\")\n",
    "    for i in product_url:\n",
    "        urls.append(i.get_attribute('href'))\n",
    "    \n",
    "    nxt_button=driver8.find_elements_by_xpath(\"//a[@class='_1LKTO3']\")\n",
    "    try:\n",
    "        driver8.get(nxt_button[1].get_attribute('href'))\n",
    "    except:\n",
    "        driver8.get(nxt_button[0].get_attribute('href'))\n",
    "        \n",
    "        \n",
    "description = []\n",
    "discount=[]        \n",
    "for i in urls:\n",
    "    driver8.get(i)\n",
    "    desc=driver8.find_elements_by_xpath('//span[@class=\"B_NuCI\"]')\n",
    "    for i in desc:\n",
    "        description.append(i.text)\n",
    "    disc=driver8.find_elements_by_xpath(\"//div[@class='_3Ay6Sb _31Dcoz pZkvcx']/span\")\n",
    "    for j in disc:\n",
    "        discount.append(j.text)\n",
    "        \n",
    "        "
   ]
  },
  {
   "cell_type": "code",
   "execution_count": 41,
   "metadata": {},
   "outputs": [],
   "source": [
    "discount.insert(160,20)"
   ]
  },
  {
   "cell_type": "code",
   "execution_count": 43,
   "metadata": {},
   "outputs": [],
   "source": [
    "df4=pd.DataFrame({})\n",
    "df4['brand']=brand2\n",
    "df4['price']=price2\n",
    "df4['description']=description\n",
    "df4['discount']=discount"
   ]
  },
  {
   "cell_type": "code",
   "execution_count": 44,
   "metadata": {},
   "outputs": [
    {
     "data": {
      "text/html": [
       "<div>\n",
       "<style scoped>\n",
       "    .dataframe tbody tr th:only-of-type {\n",
       "        vertical-align: middle;\n",
       "    }\n",
       "\n",
       "    .dataframe tbody tr th {\n",
       "        vertical-align: top;\n",
       "    }\n",
       "\n",
       "    .dataframe thead th {\n",
       "        text-align: right;\n",
       "    }\n",
       "</style>\n",
       "<table border=\"1\" class=\"dataframe\">\n",
       "  <thead>\n",
       "    <tr style=\"text-align: right;\">\n",
       "      <th></th>\n",
       "      <th>brand</th>\n",
       "      <th>price</th>\n",
       "      <th>description</th>\n",
       "      <th>discount</th>\n",
       "    </tr>\n",
       "  </thead>\n",
       "  <tbody>\n",
       "    <tr>\n",
       "      <th>0</th>\n",
       "      <td>Birde</td>\n",
       "      <td>₹525</td>\n",
       "      <td>Sneakers For Men  (Black)</td>\n",
       "      <td>59% off</td>\n",
       "    </tr>\n",
       "    <tr>\n",
       "      <th>1</th>\n",
       "      <td>DUCATI</td>\n",
       "      <td>₹1,199</td>\n",
       "      <td>casual for men Sneakers For Men  (Black)</td>\n",
       "      <td>52% off</td>\n",
       "    </tr>\n",
       "    <tr>\n",
       "      <th>2</th>\n",
       "      <td>Robbie jones</td>\n",
       "      <td>₹379</td>\n",
       "      <td>Casual Sneakers Shoes For Men Sneakers For Men...</td>\n",
       "      <td>62% off</td>\n",
       "    </tr>\n",
       "    <tr>\n",
       "      <th>3</th>\n",
       "      <td>Robbie jones</td>\n",
       "      <td>₹474</td>\n",
       "      <td>Sneakers For Men  (White, Black)</td>\n",
       "      <td>52% off</td>\n",
       "    </tr>\n",
       "    <tr>\n",
       "      <th>4</th>\n",
       "      <td>Numenzo</td>\n",
       "      <td>₹399</td>\n",
       "      <td>Sneakers For Men  (White)</td>\n",
       "      <td>60% off</td>\n",
       "    </tr>\n",
       "    <tr>\n",
       "      <th>...</th>\n",
       "      <td>...</td>\n",
       "      <td>...</td>\n",
       "      <td>...</td>\n",
       "      <td>...</td>\n",
       "    </tr>\n",
       "    <tr>\n",
       "      <th>155</th>\n",
       "      <td>ASIAN</td>\n",
       "      <td>₹629</td>\n",
       "      <td>Skypy-31 Walking Shoes,Training Shoes,Sneakers...</td>\n",
       "      <td>48% off</td>\n",
       "    </tr>\n",
       "    <tr>\n",
       "      <th>156</th>\n",
       "      <td>Airland</td>\n",
       "      <td>₹259</td>\n",
       "      <td>sneaker men red 1258 - 6 Sneakers For Men  (Red)</td>\n",
       "      <td>57% off</td>\n",
       "    </tr>\n",
       "    <tr>\n",
       "      <th>157</th>\n",
       "      <td>ESSENCE</td>\n",
       "      <td>₹424</td>\n",
       "      <td>Sneakers For Men  (Silver, Black)</td>\n",
       "      <td>53% off</td>\n",
       "    </tr>\n",
       "    <tr>\n",
       "      <th>158</th>\n",
       "      <td>PUMA</td>\n",
       "      <td>₹1,518</td>\n",
       "      <td>Acrux IDP Sneakers For Men  (Grey)</td>\n",
       "      <td>45% off</td>\n",
       "    </tr>\n",
       "    <tr>\n",
       "      <th>159</th>\n",
       "      <td>JUBENTA</td>\n",
       "      <td>₹549</td>\n",
       "      <td>Latest Design Sneakers For Men  (White)</td>\n",
       "      <td>20</td>\n",
       "    </tr>\n",
       "  </tbody>\n",
       "</table>\n",
       "<p>160 rows × 4 columns</p>\n",
       "</div>"
      ],
      "text/plain": [
       "            brand   price                                        description  \\\n",
       "0           Birde    ₹525                          Sneakers For Men  (Black)   \n",
       "1          DUCATI  ₹1,199           casual for men Sneakers For Men  (Black)   \n",
       "2    Robbie jones    ₹379  Casual Sneakers Shoes For Men Sneakers For Men...   \n",
       "3    Robbie jones    ₹474                   Sneakers For Men  (White, Black)   \n",
       "4         Numenzo    ₹399                          Sneakers For Men  (White)   \n",
       "..            ...     ...                                                ...   \n",
       "155         ASIAN    ₹629  Skypy-31 Walking Shoes,Training Shoes,Sneakers...   \n",
       "156       Airland    ₹259   sneaker men red 1258 - 6 Sneakers For Men  (Red)   \n",
       "157       ESSENCE    ₹424                  Sneakers For Men  (Silver, Black)   \n",
       "158          PUMA  ₹1,518                 Acrux IDP Sneakers For Men  (Grey)   \n",
       "159       JUBENTA    ₹549            Latest Design Sneakers For Men  (White)   \n",
       "\n",
       "    discount  \n",
       "0    59% off  \n",
       "1    52% off  \n",
       "2    62% off  \n",
       "3    52% off  \n",
       "4    60% off  \n",
       "..       ...  \n",
       "155  48% off  \n",
       "156  57% off  \n",
       "157  53% off  \n",
       "158  45% off  \n",
       "159       20  \n",
       "\n",
       "[160 rows x 4 columns]"
      ]
     },
     "execution_count": 44,
     "metadata": {},
     "output_type": "execute_result"
    }
   ],
   "source": [
    "df4"
   ]
  },
  {
   "cell_type": "code",
   "execution_count": 45,
   "metadata": {},
   "outputs": [],
   "source": [
    "df5=df4.iloc[0:100,:]"
   ]
  },
  {
   "cell_type": "code",
   "execution_count": 46,
   "metadata": {},
   "outputs": [
    {
     "data": {
      "text/html": [
       "<div>\n",
       "<style scoped>\n",
       "    .dataframe tbody tr th:only-of-type {\n",
       "        vertical-align: middle;\n",
       "    }\n",
       "\n",
       "    .dataframe tbody tr th {\n",
       "        vertical-align: top;\n",
       "    }\n",
       "\n",
       "    .dataframe thead th {\n",
       "        text-align: right;\n",
       "    }\n",
       "</style>\n",
       "<table border=\"1\" class=\"dataframe\">\n",
       "  <thead>\n",
       "    <tr style=\"text-align: right;\">\n",
       "      <th></th>\n",
       "      <th>brand</th>\n",
       "      <th>price</th>\n",
       "      <th>description</th>\n",
       "      <th>discount</th>\n",
       "    </tr>\n",
       "  </thead>\n",
       "  <tbody>\n",
       "    <tr>\n",
       "      <th>0</th>\n",
       "      <td>Birde</td>\n",
       "      <td>₹525</td>\n",
       "      <td>Sneakers For Men  (Black)</td>\n",
       "      <td>59% off</td>\n",
       "    </tr>\n",
       "    <tr>\n",
       "      <th>1</th>\n",
       "      <td>DUCATI</td>\n",
       "      <td>₹1,199</td>\n",
       "      <td>casual for men Sneakers For Men  (Black)</td>\n",
       "      <td>52% off</td>\n",
       "    </tr>\n",
       "    <tr>\n",
       "      <th>2</th>\n",
       "      <td>Robbie jones</td>\n",
       "      <td>₹379</td>\n",
       "      <td>Casual Sneakers Shoes For Men Sneakers For Men...</td>\n",
       "      <td>62% off</td>\n",
       "    </tr>\n",
       "    <tr>\n",
       "      <th>3</th>\n",
       "      <td>Robbie jones</td>\n",
       "      <td>₹474</td>\n",
       "      <td>Sneakers For Men  (White, Black)</td>\n",
       "      <td>52% off</td>\n",
       "    </tr>\n",
       "    <tr>\n",
       "      <th>4</th>\n",
       "      <td>Numenzo</td>\n",
       "      <td>₹399</td>\n",
       "      <td>Sneakers For Men  (White)</td>\n",
       "      <td>60% off</td>\n",
       "    </tr>\n",
       "    <tr>\n",
       "      <th>...</th>\n",
       "      <td>...</td>\n",
       "      <td>...</td>\n",
       "      <td>...</td>\n",
       "      <td>...</td>\n",
       "    </tr>\n",
       "    <tr>\n",
       "      <th>95</th>\n",
       "      <td>BRUTON</td>\n",
       "      <td>₹719</td>\n",
       "      <td>Combo Pack of 5 Casual Sneakers With Sneakers ...</td>\n",
       "      <td>82% off</td>\n",
       "    </tr>\n",
       "    <tr>\n",
       "      <th>96</th>\n",
       "      <td>India hub</td>\n",
       "      <td>₹371</td>\n",
       "      <td>high quality casual sneaker shoes Sneakers For...</td>\n",
       "      <td>81% off</td>\n",
       "    </tr>\n",
       "    <tr>\n",
       "      <th>97</th>\n",
       "      <td>STRANGER BROTHERS</td>\n",
       "      <td>₹474</td>\n",
       "      <td>Sneakers For Men  (White, Brown)</td>\n",
       "      <td>52% off</td>\n",
       "    </tr>\n",
       "    <tr>\n",
       "      <th>98</th>\n",
       "      <td>Axter</td>\n",
       "      <td>₹299</td>\n",
       "      <td>Combo Pack of 2 Casual Loafer Sneakers Shoes S...</td>\n",
       "      <td>78% off</td>\n",
       "    </tr>\n",
       "    <tr>\n",
       "      <th>99</th>\n",
       "      <td>K K</td>\n",
       "      <td>₹404</td>\n",
       "      <td>Sneakers For Men  (White)</td>\n",
       "      <td>61% off</td>\n",
       "    </tr>\n",
       "  </tbody>\n",
       "</table>\n",
       "<p>100 rows × 4 columns</p>\n",
       "</div>"
      ],
      "text/plain": [
       "                brand   price  \\\n",
       "0               Birde    ₹525   \n",
       "1              DUCATI  ₹1,199   \n",
       "2        Robbie jones    ₹379   \n",
       "3        Robbie jones    ₹474   \n",
       "4             Numenzo    ₹399   \n",
       "..                ...     ...   \n",
       "95             BRUTON    ₹719   \n",
       "96          India hub    ₹371   \n",
       "97  STRANGER BROTHERS    ₹474   \n",
       "98              Axter    ₹299   \n",
       "99                K K    ₹404   \n",
       "\n",
       "                                          description discount  \n",
       "0                           Sneakers For Men  (Black)  59% off  \n",
       "1            casual for men Sneakers For Men  (Black)  52% off  \n",
       "2   Casual Sneakers Shoes For Men Sneakers For Men...  62% off  \n",
       "3                    Sneakers For Men  (White, Black)  52% off  \n",
       "4                           Sneakers For Men  (White)  60% off  \n",
       "..                                                ...      ...  \n",
       "95  Combo Pack of 5 Casual Sneakers With Sneakers ...  82% off  \n",
       "96  high quality casual sneaker shoes Sneakers For...  81% off  \n",
       "97                   Sneakers For Men  (White, Brown)  52% off  \n",
       "98  Combo Pack of 2 Casual Loafer Sneakers Shoes S...  78% off  \n",
       "99                          Sneakers For Men  (White)  61% off  \n",
       "\n",
       "[100 rows x 4 columns]"
      ]
     },
     "execution_count": 46,
     "metadata": {},
     "output_type": "execute_result"
    }
   ],
   "source": [
    "df5"
   ]
  },
  {
   "cell_type": "markdown",
   "metadata": {},
   "source": [
    "# Question 8 Completed"
   ]
  },
  {
   "cell_type": "markdown",
   "metadata": {},
   "source": [
    "    # Question 9"
   ]
  },
  {
   "cell_type": "code",
   "execution_count": 59,
   "metadata": {},
   "outputs": [],
   "source": [
    "driver9=webdriver.Chrome(r\"C:\\Users\\Bhumik Shah\\Downloads\\chromedriver_win32\\chromedriver.exe\")"
   ]
  },
  {
   "cell_type": "code",
   "execution_count": 60,
   "metadata": {},
   "outputs": [],
   "source": [
    "url='https://www.myntra.com/shoes'"
   ]
  },
  {
   "cell_type": "code",
   "execution_count": 61,
   "metadata": {},
   "outputs": [],
   "source": [
    "driver9.get(url)"
   ]
  },
  {
   "cell_type": "code",
   "execution_count": 62,
   "metadata": {},
   "outputs": [],
   "source": [
    "price_button = driver9.find_element_by_xpath(\"/html/body/div[2]/div/div[1]/main/div[3]/div[1]/section/div/div[5]/ul/li[2]/label/div\")\n",
    "price_button.click()\n"
   ]
  },
  {
   "cell_type": "code",
   "execution_count": 63,
   "metadata": {},
   "outputs": [],
   "source": [
    "color_button=driver9.find_element_by_xpath(\"//html/body/div[2]/div/div[1]/main/div[3]/div[1]/section/div/div[6]/ul/li[1]/label/div\")\n",
    "color_button.click()"
   ]
  },
  {
   "cell_type": "code",
   "execution_count": 64,
   "metadata": {},
   "outputs": [
    {
     "data": {
      "text/plain": [
       "['https://www.myntra.com/shoes?f=Color%3ABlack_36454f&plaEnabled=false&rf=Price%3A6612.0_13075.0_6612.0%20TO%2013075.0',\n",
       " 'https://www.myntra.com/shoes?f=Color%3ABlack_36454f&plaEnabled=false&rf=Price%3A6612.0_13075.0_6612.0%20TO%2013075.0&p=2',\n",
       " 'https://www.myntra.com/shoes?f=Color%3ABlack_36454f&plaEnabled=false&rf=Price%3A6612.0_13075.0_6612.0%20TO%2013075.0&p=3',\n",
       " 'https://www.myntra.com/shoes?f=Color%3ABlack_36454f&plaEnabled=false&rf=Price%3A6612.0_13075.0_6612.0%20TO%2013075.0&p=4',\n",
       " 'https://www.myntra.com/shoes?f=Color%3ABlack_36454f&plaEnabled=false&rf=Price%3A6612.0_13075.0_6612.0%20TO%2013075.0&p=5',\n",
       " 'https://www.myntra.com/shoes?f=Color%3ABlack_36454f&plaEnabled=false&rf=Price%3A6612.0_13075.0_6612.0%20TO%2013075.0&p=6',\n",
       " 'https://www.myntra.com/shoes?f=Color%3ABlack_36454f&plaEnabled=false&rf=Price%3A6612.0_13075.0_6612.0%20TO%2013075.0&p=7',\n",
       " 'https://www.myntra.com/shoes?f=Color%3ABlack_36454f&plaEnabled=false&rf=Price%3A6612.0_13075.0_6612.0%20TO%2013075.0&p=8',\n",
       " 'https://www.myntra.com/shoes?f=Color%3ABlack_36454f&plaEnabled=false&rf=Price%3A6612.0_13075.0_6612.0%20TO%2013075.0&p=9',\n",
       " 'https://www.myntra.com/shoes?f=Color%3ABlack_36454f&plaEnabled=false&rf=Price%3A6612.0_13075.0_6612.0%20TO%2013075.0&p=10',\n",
       " 'https://www.myntra.com/shoes?f=Color%3ABlack_36454f&plaEnabled=false&rf=Price%3A6612.0_13075.0_6612.0%20TO%2013075.0&p=2']"
      ]
     },
     "execution_count": 64,
     "metadata": {},
     "output_type": "execute_result"
    }
   ],
   "source": [
    "urls4=[]\n",
    "nb_page=driver9.find_elements_by_xpath(\"//ul[@class='pagination-container']/li/a\")\n",
    "for i in nb_page:\n",
    "    urls4.append(i.get_attribute('href'))\n",
    "urls4"
   ]
  },
  {
   "cell_type": "code",
   "execution_count": 67,
   "metadata": {},
   "outputs": [],
   "source": [
    "brand=[]\n",
    "description=[]\n",
    "price=[]\n",
    "for i in urls4[:4]:\n",
    "    driver9.get(i)\n",
    "    for j in driver9.find_elements_by_xpath(\"//h3[@class='product-brand']\"):\n",
    "               brand.append(j.text)\n",
    "    for l in driver9.find_elements_by_xpath(\"//h4[@class='product-product']\"):\n",
    "            description.append(l.text)\n",
    "    for m in driver9.find_elements_by_xpath(\"//div[@class='product-price']\"):\n",
    "        price.append(m.text)\n"
   ]
  },
  {
   "cell_type": "code",
   "execution_count": 71,
   "metadata": {},
   "outputs": [
    {
     "data": {
      "text/plain": [
       "200"
      ]
     },
     "execution_count": 71,
     "metadata": {},
     "output_type": "execute_result"
    }
   ],
   "source": [
    "len(price)"
   ]
  },
  {
   "cell_type": "code",
   "execution_count": 72,
   "metadata": {},
   "outputs": [],
   "source": [
    "df6=pd.DataFrame({})\n",
    "df6['brand']=brand\n",
    "df6['description']=description\n",
    "df6['price']=price"
   ]
  },
  {
   "cell_type": "code",
   "execution_count": 73,
   "metadata": {},
   "outputs": [
    {
     "data": {
      "text/html": [
       "<div>\n",
       "<style scoped>\n",
       "    .dataframe tbody tr th:only-of-type {\n",
       "        vertical-align: middle;\n",
       "    }\n",
       "\n",
       "    .dataframe tbody tr th {\n",
       "        vertical-align: top;\n",
       "    }\n",
       "\n",
       "    .dataframe thead th {\n",
       "        text-align: right;\n",
       "    }\n",
       "</style>\n",
       "<table border=\"1\" class=\"dataframe\">\n",
       "  <thead>\n",
       "    <tr style=\"text-align: right;\">\n",
       "      <th></th>\n",
       "      <th>brand</th>\n",
       "      <th>description</th>\n",
       "      <th>price</th>\n",
       "    </tr>\n",
       "  </thead>\n",
       "  <tbody>\n",
       "    <tr>\n",
       "      <th>0</th>\n",
       "      <td>Nike</td>\n",
       "      <td>Men JOYRIDE Running Shoes</td>\n",
       "      <td>Rs. 11246Rs. 14995(25% OFF)</td>\n",
       "    </tr>\n",
       "    <tr>\n",
       "      <th>1</th>\n",
       "      <td>ALDO</td>\n",
       "      <td>Men Textured Sneakers</td>\n",
       "      <td>Rs. 7199Rs. 8999(20% OFF)</td>\n",
       "    </tr>\n",
       "    <tr>\n",
       "      <th>2</th>\n",
       "      <td>Nike</td>\n",
       "      <td>Men AIR ZOOM Running Shoes</td>\n",
       "      <td>Rs. 7721Rs. 10295(25% OFF)</td>\n",
       "    </tr>\n",
       "    <tr>\n",
       "      <th>3</th>\n",
       "      <td>Nike</td>\n",
       "      <td>Men JORDAN DELTA Basketball</td>\n",
       "      <td>Rs. 12495</td>\n",
       "    </tr>\n",
       "    <tr>\n",
       "      <th>4</th>\n",
       "      <td>Nike</td>\n",
       "      <td>Women REACT ESCAPE Running</td>\n",
       "      <td>Rs. 6636Rs. 8295(20% OFF)</td>\n",
       "    </tr>\n",
       "    <tr>\n",
       "      <th>...</th>\n",
       "      <td>...</td>\n",
       "      <td>...</td>\n",
       "      <td>...</td>\n",
       "    </tr>\n",
       "    <tr>\n",
       "      <th>195</th>\n",
       "      <td>ADIDAS Originals</td>\n",
       "      <td>Men Support RF PK Sneakers</td>\n",
       "      <td>Rs. 6799Rs. 16999( 60 % OFF)</td>\n",
       "    </tr>\n",
       "    <tr>\n",
       "      <th>196</th>\n",
       "      <td>ALDO</td>\n",
       "      <td>Women Sandals</td>\n",
       "      <td>Rs. 9999</td>\n",
       "    </tr>\n",
       "    <tr>\n",
       "      <th>197</th>\n",
       "      <td>UNDER ARMOUR</td>\n",
       "      <td>Men Charged Engage Training</td>\n",
       "      <td>Rs. 6999</td>\n",
       "    </tr>\n",
       "    <tr>\n",
       "      <th>198</th>\n",
       "      <td>ADIDAS</td>\n",
       "      <td>Unisex Dame 7 Basketball Shoes</td>\n",
       "      <td>Rs. 8799Rs. 10999(20% OFF)</td>\n",
       "    </tr>\n",
       "    <tr>\n",
       "      <th>199</th>\n",
       "      <td>Puma</td>\n",
       "      <td>Women LQDCELL Running Shoes</td>\n",
       "      <td>Rs. 6999</td>\n",
       "    </tr>\n",
       "  </tbody>\n",
       "</table>\n",
       "<p>200 rows × 3 columns</p>\n",
       "</div>"
      ],
      "text/plain": [
       "                brand                     description  \\\n",
       "0                Nike       Men JOYRIDE Running Shoes   \n",
       "1                ALDO           Men Textured Sneakers   \n",
       "2                Nike      Men AIR ZOOM Running Shoes   \n",
       "3                Nike     Men JORDAN DELTA Basketball   \n",
       "4                Nike      Women REACT ESCAPE Running   \n",
       "..                ...                             ...   \n",
       "195  ADIDAS Originals      Men Support RF PK Sneakers   \n",
       "196              ALDO                   Women Sandals   \n",
       "197      UNDER ARMOUR     Men Charged Engage Training   \n",
       "198            ADIDAS  Unisex Dame 7 Basketball Shoes   \n",
       "199              Puma     Women LQDCELL Running Shoes   \n",
       "\n",
       "                            price  \n",
       "0     Rs. 11246Rs. 14995(25% OFF)  \n",
       "1       Rs. 7199Rs. 8999(20% OFF)  \n",
       "2      Rs. 7721Rs. 10295(25% OFF)  \n",
       "3                       Rs. 12495  \n",
       "4       Rs. 6636Rs. 8295(20% OFF)  \n",
       "..                            ...  \n",
       "195  Rs. 6799Rs. 16999( 60 % OFF)  \n",
       "196                      Rs. 9999  \n",
       "197                      Rs. 6999  \n",
       "198    Rs. 8799Rs. 10999(20% OFF)  \n",
       "199                      Rs. 6999  \n",
       "\n",
       "[200 rows x 3 columns]"
      ]
     },
     "execution_count": 73,
     "metadata": {},
     "output_type": "execute_result"
    }
   ],
   "source": [
    "df6"
   ]
  },
  {
   "cell_type": "code",
   "execution_count": 74,
   "metadata": {},
   "outputs": [],
   "source": [
    "df7=df6.iloc[:100,:]"
   ]
  },
  {
   "cell_type": "code",
   "execution_count": 75,
   "metadata": {},
   "outputs": [
    {
     "data": {
      "text/html": [
       "<div>\n",
       "<style scoped>\n",
       "    .dataframe tbody tr th:only-of-type {\n",
       "        vertical-align: middle;\n",
       "    }\n",
       "\n",
       "    .dataframe tbody tr th {\n",
       "        vertical-align: top;\n",
       "    }\n",
       "\n",
       "    .dataframe thead th {\n",
       "        text-align: right;\n",
       "    }\n",
       "</style>\n",
       "<table border=\"1\" class=\"dataframe\">\n",
       "  <thead>\n",
       "    <tr style=\"text-align: right;\">\n",
       "      <th></th>\n",
       "      <th>brand</th>\n",
       "      <th>description</th>\n",
       "      <th>price</th>\n",
       "    </tr>\n",
       "  </thead>\n",
       "  <tbody>\n",
       "    <tr>\n",
       "      <th>0</th>\n",
       "      <td>Nike</td>\n",
       "      <td>Men JOYRIDE Running Shoes</td>\n",
       "      <td>Rs. 11246Rs. 14995(25% OFF)</td>\n",
       "    </tr>\n",
       "    <tr>\n",
       "      <th>1</th>\n",
       "      <td>ALDO</td>\n",
       "      <td>Men Textured Sneakers</td>\n",
       "      <td>Rs. 7199Rs. 8999(20% OFF)</td>\n",
       "    </tr>\n",
       "    <tr>\n",
       "      <th>2</th>\n",
       "      <td>Nike</td>\n",
       "      <td>Men AIR ZOOM Running Shoes</td>\n",
       "      <td>Rs. 7721Rs. 10295(25% OFF)</td>\n",
       "    </tr>\n",
       "    <tr>\n",
       "      <th>3</th>\n",
       "      <td>Nike</td>\n",
       "      <td>Men JORDAN DELTA Basketball</td>\n",
       "      <td>Rs. 12495</td>\n",
       "    </tr>\n",
       "    <tr>\n",
       "      <th>4</th>\n",
       "      <td>Nike</td>\n",
       "      <td>Women REACT ESCAPE Running</td>\n",
       "      <td>Rs. 6636Rs. 8295(20% OFF)</td>\n",
       "    </tr>\n",
       "    <tr>\n",
       "      <th>...</th>\n",
       "      <td>...</td>\n",
       "      <td>...</td>\n",
       "      <td>...</td>\n",
       "    </tr>\n",
       "    <tr>\n",
       "      <th>95</th>\n",
       "      <td>Geox</td>\n",
       "      <td>Men Leather Formal Oxfords</td>\n",
       "      <td>Rs. 7867Rs. 10490(25% OFF)</td>\n",
       "    </tr>\n",
       "    <tr>\n",
       "      <th>96</th>\n",
       "      <td>Nike</td>\n",
       "      <td>Men REACT MILER 2 Running</td>\n",
       "      <td>Rs. 9770Rs. 11495(15% OFF)</td>\n",
       "    </tr>\n",
       "    <tr>\n",
       "      <th>97</th>\n",
       "      <td>Nike</td>\n",
       "      <td>Men REACT INFINITY RUN Shoes</td>\n",
       "      <td>Rs. 12320Rs. 14495(15% OFF)</td>\n",
       "    </tr>\n",
       "    <tr>\n",
       "      <th>98</th>\n",
       "      <td>Reebok</td>\n",
       "      <td>Men Nano X1 Training Shoes</td>\n",
       "      <td>Rs. 7499Rs. 9999(25% OFF)</td>\n",
       "    </tr>\n",
       "    <tr>\n",
       "      <th>99</th>\n",
       "      <td>Florsheim</td>\n",
       "      <td>Men Solid Leather Formal Loafers</td>\n",
       "      <td>Rs. 6995</td>\n",
       "    </tr>\n",
       "  </tbody>\n",
       "</table>\n",
       "<p>100 rows × 3 columns</p>\n",
       "</div>"
      ],
      "text/plain": [
       "        brand                       description                        price\n",
       "0        Nike         Men JOYRIDE Running Shoes  Rs. 11246Rs. 14995(25% OFF)\n",
       "1        ALDO             Men Textured Sneakers    Rs. 7199Rs. 8999(20% OFF)\n",
       "2        Nike        Men AIR ZOOM Running Shoes   Rs. 7721Rs. 10295(25% OFF)\n",
       "3        Nike       Men JORDAN DELTA Basketball                    Rs. 12495\n",
       "4        Nike        Women REACT ESCAPE Running    Rs. 6636Rs. 8295(20% OFF)\n",
       "..        ...                               ...                          ...\n",
       "95       Geox        Men Leather Formal Oxfords   Rs. 7867Rs. 10490(25% OFF)\n",
       "96       Nike         Men REACT MILER 2 Running   Rs. 9770Rs. 11495(15% OFF)\n",
       "97       Nike      Men REACT INFINITY RUN Shoes  Rs. 12320Rs. 14495(15% OFF)\n",
       "98     Reebok        Men Nano X1 Training Shoes    Rs. 7499Rs. 9999(25% OFF)\n",
       "99  Florsheim  Men Solid Leather Formal Loafers                     Rs. 6995\n",
       "\n",
       "[100 rows x 3 columns]"
      ]
     },
     "execution_count": 75,
     "metadata": {},
     "output_type": "execute_result"
    }
   ],
   "source": [
    "df7"
   ]
  },
  {
   "cell_type": "markdown",
   "metadata": {},
   "source": [
    "# Question 9 completed"
   ]
  },
  {
   "cell_type": "markdown",
   "metadata": {},
   "source": [
    "# question 10\n",
    "    "
   ]
  },
  {
   "cell_type": "code",
   "execution_count": 236,
   "metadata": {},
   "outputs": [],
   "source": [
    "driver10=webdriver.Chrome(r\"C:\\Users\\Bhumik Shah\\Downloads\\chromedriver_win32\\chromedriver.exe\")"
   ]
  },
  {
   "cell_type": "code",
   "execution_count": 220,
   "metadata": {},
   "outputs": [],
   "source": [
    "url='https://www.amazon.in/'"
   ]
  },
  {
   "cell_type": "code",
   "execution_count": 221,
   "metadata": {},
   "outputs": [],
   "source": [
    "driver10.get(url)"
   ]
  },
  {
   "cell_type": "code",
   "execution_count": 222,
   "metadata": {},
   "outputs": [],
   "source": [
    "pr=driver10.find_element_by_id('twotabsearchtextbox')"
   ]
  },
  {
   "cell_type": "code",
   "execution_count": 223,
   "metadata": {},
   "outputs": [],
   "source": [
    "pr.send_keys('laptop')"
   ]
  },
  {
   "cell_type": "code",
   "execution_count": 224,
   "metadata": {},
   "outputs": [],
   "source": [
    "sear=driver10.find_element_by_id('nav-search-submit-button')"
   ]
  },
  {
   "cell_type": "code",
   "execution_count": 225,
   "metadata": {},
   "outputs": [],
   "source": [
    "sear.click()"
   ]
  },
  {
   "cell_type": "code",
   "execution_count": 226,
   "metadata": {},
   "outputs": [],
   "source": [
    "filter_button=driver10.find_elements_by_xpath(\"//a[@class='a-link-normal s-navigation-item']/span\")"
   ]
  },
  {
   "cell_type": "code",
   "execution_count": 227,
   "metadata": {},
   "outputs": [],
   "source": [
    "for i in filter_button:\n",
    "    if i.text=='Intel Core i7':\n",
    "        i.click()\n",
    "        break\n",
    "\n"
   ]
  },
  {
   "cell_type": "code",
   "execution_count": 228,
   "metadata": {},
   "outputs": [],
   "source": [
    "from selenium.common.exceptions import NoSuchElementException\n",
    "Title=[]\n",
    "price=[]\n",
    "Ratings=[]\n",
    "titles=driver10.find_elements_by_xpath(\"//span[@class='a-size-medium a-color-base a-text-normal']\")\n",
    "for i in titles[:10]:\n",
    "    Title.append(i.text)\n",
    "prices=driver10.find_elements_by_xpath(\"//span[@class='a-price-whole']\")\n",
    "for i in prices[:10]:\n",
    "    price.append(i.text)\n",
    "urls=driver10.find_elements_by_xpath(\"//a[@class='a-link-normal a-text-normal']\")\n",
    "UR=[]\n",
    "for i in urls[:10]:\n",
    "    UR.append(i.get_attribute('href'))\n",
    "for url in UR:\n",
    "    driver10.get(url)\n",
    "    try:                                                                     \n",
    "          rating=driver10.find_element_by_xpath(\"//span[@class='a-size-base a-nowrap']//span\")\n",
    "          Ratings.append(rating.text)\n",
    "    \n",
    "    except NoSuchElementException:\n",
    "         Ratings.append(\"NO rating\")\n",
    "    \n",
    "    \n",
    "\n",
    "\n",
    "            \n",
    "        \n",
    "\n",
    "\n",
    "\n",
    "\n",
    "\n"
   ]
  },
  {
   "cell_type": "code",
   "execution_count": 143,
   "metadata": {},
   "outputs": [
    {
     "name": "stdout",
     "output_type": "stream",
     "text": [
      "10 10 10\n"
     ]
    }
   ],
   "source": [
    "print(len(Title))"
   ]
  },
  {
   "cell_type": "code",
   "execution_count": 199,
   "metadata": {},
   "outputs": [],
   "source": [
    "driver10=webdriver.Chrome(r\"C:\\Users\\Bhumik Shah\\Downloads\\chromedriver_win32\\chromedriver.exe\")"
   ]
  },
  {
   "cell_type": "code",
   "execution_count": 200,
   "metadata": {},
   "outputs": [],
   "source": [
    "url='https://www.amazon.in/'"
   ]
  },
  {
   "cell_type": "code",
   "execution_count": 201,
   "metadata": {},
   "outputs": [],
   "source": [
    "driver10.get(url)\n",
    "pr=driver10.find_element_by_id('twotabsearchtextbox')"
   ]
  },
  {
   "cell_type": "code",
   "execution_count": 202,
   "metadata": {},
   "outputs": [],
   "source": [
    "pr.send_keys('laptop')"
   ]
  },
  {
   "cell_type": "code",
   "execution_count": 203,
   "metadata": {},
   "outputs": [],
   "source": [
    "sear=driver10.find_element_by_id('nav-search-submit-button')"
   ]
  },
  {
   "cell_type": "code",
   "execution_count": 204,
   "metadata": {},
   "outputs": [],
   "source": [
    "sear.click()"
   ]
  },
  {
   "cell_type": "code",
   "execution_count": 205,
   "metadata": {},
   "outputs": [],
   "source": [
    "filter_button1=driver10.find_elements_by_xpath(\"//a[@class='a-link-normal s-navigation-item']/span\")"
   ]
  },
  {
   "cell_type": "code",
   "execution_count": 206,
   "metadata": {},
   "outputs": [
    {
     "data": {
      "text/plain": [
       "[<selenium.webdriver.remote.webelement.WebElement (session=\"6a0733063b3ef0dd54bb2ea940099c26\", element=\"99eb2dc8-cab8-4ed5-9f9a-0642fe67a1eb\")>,\n",
       " <selenium.webdriver.remote.webelement.WebElement (session=\"6a0733063b3ef0dd54bb2ea940099c26\", element=\"6a869a48-33e3-4f03-91b1-0677be82c86e\")>,\n",
       " <selenium.webdriver.remote.webelement.WebElement (session=\"6a0733063b3ef0dd54bb2ea940099c26\", element=\"9dc9fecb-f3f4-427a-a332-de469852f2a3\")>,\n",
       " <selenium.webdriver.remote.webelement.WebElement (session=\"6a0733063b3ef0dd54bb2ea940099c26\", element=\"3377d25d-ba76-44ec-baed-a0b62e22ea9b\")>,\n",
       " <selenium.webdriver.remote.webelement.WebElement (session=\"6a0733063b3ef0dd54bb2ea940099c26\", element=\"6971bb2e-a681-4a72-aa72-c29abd7cf67a\")>,\n",
       " <selenium.webdriver.remote.webelement.WebElement (session=\"6a0733063b3ef0dd54bb2ea940099c26\", element=\"8d3753ae-b62b-4965-9d26-a2c19116c378\")>,\n",
       " <selenium.webdriver.remote.webelement.WebElement (session=\"6a0733063b3ef0dd54bb2ea940099c26\", element=\"3833251d-9f7b-459f-a24e-3b773f5b0a80\")>,\n",
       " <selenium.webdriver.remote.webelement.WebElement (session=\"6a0733063b3ef0dd54bb2ea940099c26\", element=\"77e5e388-2042-4b9d-ae31-f5f226315b1e\")>,\n",
       " <selenium.webdriver.remote.webelement.WebElement (session=\"6a0733063b3ef0dd54bb2ea940099c26\", element=\"5b264bca-89e1-4417-a0df-2e22a9366dc0\")>,\n",
       " <selenium.webdriver.remote.webelement.WebElement (session=\"6a0733063b3ef0dd54bb2ea940099c26\", element=\"298be598-1456-438d-88ec-4ab91a058139\")>,\n",
       " <selenium.webdriver.remote.webelement.WebElement (session=\"6a0733063b3ef0dd54bb2ea940099c26\", element=\"23932cc3-9792-4144-9da8-2fe851bd0534\")>,\n",
       " <selenium.webdriver.remote.webelement.WebElement (session=\"6a0733063b3ef0dd54bb2ea940099c26\", element=\"a23102d3-4048-4a5e-87cc-c603cf6e5588\")>,\n",
       " <selenium.webdriver.remote.webelement.WebElement (session=\"6a0733063b3ef0dd54bb2ea940099c26\", element=\"2fa140c8-02e3-432f-b88d-a82292bf0162\")>,\n",
       " <selenium.webdriver.remote.webelement.WebElement (session=\"6a0733063b3ef0dd54bb2ea940099c26\", element=\"a4b522ff-e4a2-4cba-9cd6-66579b14f494\")>,\n",
       " <selenium.webdriver.remote.webelement.WebElement (session=\"6a0733063b3ef0dd54bb2ea940099c26\", element=\"bd2d02c0-3620-4d31-98ad-9c278a007f86\")>,\n",
       " <selenium.webdriver.remote.webelement.WebElement (session=\"6a0733063b3ef0dd54bb2ea940099c26\", element=\"06bc46df-4ac6-4a07-b68d-e70447fdeb60\")>,\n",
       " <selenium.webdriver.remote.webelement.WebElement (session=\"6a0733063b3ef0dd54bb2ea940099c26\", element=\"cc414f04-880a-4a99-a781-05f83ec6c96e\")>,\n",
       " <selenium.webdriver.remote.webelement.WebElement (session=\"6a0733063b3ef0dd54bb2ea940099c26\", element=\"e610330c-8d66-4763-b083-6ae791f20231\")>,\n",
       " <selenium.webdriver.remote.webelement.WebElement (session=\"6a0733063b3ef0dd54bb2ea940099c26\", element=\"ff4f8f1c-1c26-4b1a-9f79-cc63cf38c030\")>,\n",
       " <selenium.webdriver.remote.webelement.WebElement (session=\"6a0733063b3ef0dd54bb2ea940099c26\", element=\"d7a53f36-1723-4e9f-b4ce-871755eaf33e\")>,\n",
       " <selenium.webdriver.remote.webelement.WebElement (session=\"6a0733063b3ef0dd54bb2ea940099c26\", element=\"aae42fd4-791b-4993-aed6-5eb0d829c2ef\")>,\n",
       " <selenium.webdriver.remote.webelement.WebElement (session=\"6a0733063b3ef0dd54bb2ea940099c26\", element=\"69283b99-c886-422f-bfac-589deb56263d\")>,\n",
       " <selenium.webdriver.remote.webelement.WebElement (session=\"6a0733063b3ef0dd54bb2ea940099c26\", element=\"e83fecbb-38c8-485b-bdef-209f95fd577e\")>,\n",
       " <selenium.webdriver.remote.webelement.WebElement (session=\"6a0733063b3ef0dd54bb2ea940099c26\", element=\"c14c14b0-b63c-4cdd-9505-dae4d2325877\")>,\n",
       " <selenium.webdriver.remote.webelement.WebElement (session=\"6a0733063b3ef0dd54bb2ea940099c26\", element=\"863e78ac-505c-4704-81c8-10e6dc00fb48\")>,\n",
       " <selenium.webdriver.remote.webelement.WebElement (session=\"6a0733063b3ef0dd54bb2ea940099c26\", element=\"902ea6e4-7922-42eb-9545-e6dc1444213b\")>,\n",
       " <selenium.webdriver.remote.webelement.WebElement (session=\"6a0733063b3ef0dd54bb2ea940099c26\", element=\"05333111-ac94-4a47-8736-d405a17f6643\")>,\n",
       " <selenium.webdriver.remote.webelement.WebElement (session=\"6a0733063b3ef0dd54bb2ea940099c26\", element=\"dbe4435f-1482-49e4-9c32-c17855e52db0\")>,\n",
       " <selenium.webdriver.remote.webelement.WebElement (session=\"6a0733063b3ef0dd54bb2ea940099c26\", element=\"b94b00a0-492e-4b29-aadd-d3ab206ae755\")>,\n",
       " <selenium.webdriver.remote.webelement.WebElement (session=\"6a0733063b3ef0dd54bb2ea940099c26\", element=\"2d4b6f19-fa49-40ed-a3a5-19be9965bc8a\")>,\n",
       " <selenium.webdriver.remote.webelement.WebElement (session=\"6a0733063b3ef0dd54bb2ea940099c26\", element=\"beab3d0c-a843-4cdf-a856-a76271d4bc7e\")>,\n",
       " <selenium.webdriver.remote.webelement.WebElement (session=\"6a0733063b3ef0dd54bb2ea940099c26\", element=\"57a870cd-36da-4108-8fa9-31a63e78e11c\")>,\n",
       " <selenium.webdriver.remote.webelement.WebElement (session=\"6a0733063b3ef0dd54bb2ea940099c26\", element=\"8342d7ff-1025-414e-bf79-0dfeddb34ffd\")>,\n",
       " <selenium.webdriver.remote.webelement.WebElement (session=\"6a0733063b3ef0dd54bb2ea940099c26\", element=\"af8baf5e-b4ba-4b85-9e4e-bc048fa1f060\")>,\n",
       " <selenium.webdriver.remote.webelement.WebElement (session=\"6a0733063b3ef0dd54bb2ea940099c26\", element=\"02a92e43-b8ba-4994-9c9e-fe603294c4d9\")>,\n",
       " <selenium.webdriver.remote.webelement.WebElement (session=\"6a0733063b3ef0dd54bb2ea940099c26\", element=\"a1e6b9bb-8ebf-4a2b-be2f-ffc59b8baa6b\")>,\n",
       " <selenium.webdriver.remote.webelement.WebElement (session=\"6a0733063b3ef0dd54bb2ea940099c26\", element=\"1e1466d1-aa9c-4b93-93e6-74864b2fcc6f\")>,\n",
       " <selenium.webdriver.remote.webelement.WebElement (session=\"6a0733063b3ef0dd54bb2ea940099c26\", element=\"b5baed77-02c6-4a0b-beb6-597971426043\")>,\n",
       " <selenium.webdriver.remote.webelement.WebElement (session=\"6a0733063b3ef0dd54bb2ea940099c26\", element=\"df021414-8fb4-4ef7-8114-a1432326fa0d\")>,\n",
       " <selenium.webdriver.remote.webelement.WebElement (session=\"6a0733063b3ef0dd54bb2ea940099c26\", element=\"fd8b6a20-5f40-4d92-89e6-37fb7cc5e0fe\")>,\n",
       " <selenium.webdriver.remote.webelement.WebElement (session=\"6a0733063b3ef0dd54bb2ea940099c26\", element=\"edf18557-ef12-4dea-a1a2-09faa5d40781\")>,\n",
       " <selenium.webdriver.remote.webelement.WebElement (session=\"6a0733063b3ef0dd54bb2ea940099c26\", element=\"040c1e26-a07e-45a1-8b7a-e43cdcd54acd\")>,\n",
       " <selenium.webdriver.remote.webelement.WebElement (session=\"6a0733063b3ef0dd54bb2ea940099c26\", element=\"a7798db8-949d-4887-bb68-23bdf363cffa\")>,\n",
       " <selenium.webdriver.remote.webelement.WebElement (session=\"6a0733063b3ef0dd54bb2ea940099c26\", element=\"5c23cc6a-c128-4676-9422-aa35c034b533\")>,\n",
       " <selenium.webdriver.remote.webelement.WebElement (session=\"6a0733063b3ef0dd54bb2ea940099c26\", element=\"bf55f4ae-4cb6-4af9-b686-c1c6109b1daf\")>,\n",
       " <selenium.webdriver.remote.webelement.WebElement (session=\"6a0733063b3ef0dd54bb2ea940099c26\", element=\"64cd86c8-ca64-4039-ab42-419dc2e1b1ee\")>,\n",
       " <selenium.webdriver.remote.webelement.WebElement (session=\"6a0733063b3ef0dd54bb2ea940099c26\", element=\"0ebe8fb9-2e6f-44af-9f25-73cc99f10cbe\")>,\n",
       " <selenium.webdriver.remote.webelement.WebElement (session=\"6a0733063b3ef0dd54bb2ea940099c26\", element=\"9a026ff6-1e78-4c84-a8e1-8469a4342a73\")>,\n",
       " <selenium.webdriver.remote.webelement.WebElement (session=\"6a0733063b3ef0dd54bb2ea940099c26\", element=\"47e2460d-17e9-47fe-b143-734be9b73e02\")>,\n",
       " <selenium.webdriver.remote.webelement.WebElement (session=\"6a0733063b3ef0dd54bb2ea940099c26\", element=\"f0b2df2a-a910-4777-b1ed-e6850725f4ed\")>,\n",
       " <selenium.webdriver.remote.webelement.WebElement (session=\"6a0733063b3ef0dd54bb2ea940099c26\", element=\"af563777-4a6e-4c23-9c26-b7944def111f\")>,\n",
       " <selenium.webdriver.remote.webelement.WebElement (session=\"6a0733063b3ef0dd54bb2ea940099c26\", element=\"d5979e0a-9535-4ca2-89a8-ac604b8cc9f1\")>,\n",
       " <selenium.webdriver.remote.webelement.WebElement (session=\"6a0733063b3ef0dd54bb2ea940099c26\", element=\"d92bc5d6-f44b-45f7-b5ac-a03d88710e3c\")>,\n",
       " <selenium.webdriver.remote.webelement.WebElement (session=\"6a0733063b3ef0dd54bb2ea940099c26\", element=\"db40fa35-4e3a-427c-b686-ef5d55eba1d8\")>,\n",
       " <selenium.webdriver.remote.webelement.WebElement (session=\"6a0733063b3ef0dd54bb2ea940099c26\", element=\"a9abff70-3c64-496d-9e31-59b41134c9a4\")>,\n",
       " <selenium.webdriver.remote.webelement.WebElement (session=\"6a0733063b3ef0dd54bb2ea940099c26\", element=\"b6464a0d-1b48-4acf-9103-244d867f2e93\")>,\n",
       " <selenium.webdriver.remote.webelement.WebElement (session=\"6a0733063b3ef0dd54bb2ea940099c26\", element=\"5a4c5f52-0776-4f39-ac34-6e51965aec6b\")>,\n",
       " <selenium.webdriver.remote.webelement.WebElement (session=\"6a0733063b3ef0dd54bb2ea940099c26\", element=\"e05f57e2-db60-47b5-a7d7-fbb03dc1aa76\")>,\n",
       " <selenium.webdriver.remote.webelement.WebElement (session=\"6a0733063b3ef0dd54bb2ea940099c26\", element=\"14555054-a098-4698-878a-d0d257632837\")>,\n",
       " <selenium.webdriver.remote.webelement.WebElement (session=\"6a0733063b3ef0dd54bb2ea940099c26\", element=\"71fab8a4-9792-4a6a-a72d-f495967db37f\")>,\n",
       " <selenium.webdriver.remote.webelement.WebElement (session=\"6a0733063b3ef0dd54bb2ea940099c26\", element=\"48a15174-0a1c-4172-b317-a3743371d8ba\")>,\n",
       " <selenium.webdriver.remote.webelement.WebElement (session=\"6a0733063b3ef0dd54bb2ea940099c26\", element=\"15798836-06cc-4456-bbd2-4edae71ad38a\")>,\n",
       " <selenium.webdriver.remote.webelement.WebElement (session=\"6a0733063b3ef0dd54bb2ea940099c26\", element=\"61489f82-3b71-460c-a452-5eda5ee92cb8\")>,\n",
       " <selenium.webdriver.remote.webelement.WebElement (session=\"6a0733063b3ef0dd54bb2ea940099c26\", element=\"ac07c371-7a62-49fe-ac9d-096ca7fe209f\")>,\n",
       " <selenium.webdriver.remote.webelement.WebElement (session=\"6a0733063b3ef0dd54bb2ea940099c26\", element=\"a5b87dbf-d52e-4341-97a3-6c56c465f477\")>,\n",
       " <selenium.webdriver.remote.webelement.WebElement (session=\"6a0733063b3ef0dd54bb2ea940099c26\", element=\"a93e731a-9f75-4dea-a361-535ba87c82a0\")>,\n",
       " <selenium.webdriver.remote.webelement.WebElement (session=\"6a0733063b3ef0dd54bb2ea940099c26\", element=\"b466c4e9-4c08-47fd-8393-901e127aad10\")>,\n",
       " <selenium.webdriver.remote.webelement.WebElement (session=\"6a0733063b3ef0dd54bb2ea940099c26\", element=\"9e5a7c68-b912-497e-a515-9dd0412eba00\")>,\n",
       " <selenium.webdriver.remote.webelement.WebElement (session=\"6a0733063b3ef0dd54bb2ea940099c26\", element=\"ef4119d4-9ad4-4721-b890-45381ea61d0b\")>,\n",
       " <selenium.webdriver.remote.webelement.WebElement (session=\"6a0733063b3ef0dd54bb2ea940099c26\", element=\"d120dc8c-b11f-4511-83c9-178d5a4d3b60\")>,\n",
       " <selenium.webdriver.remote.webelement.WebElement (session=\"6a0733063b3ef0dd54bb2ea940099c26\", element=\"b97dfec0-5bad-47c6-acea-7e46806e3fe3\")>,\n",
       " <selenium.webdriver.remote.webelement.WebElement (session=\"6a0733063b3ef0dd54bb2ea940099c26\", element=\"86a6fc2f-cbfb-404d-8f4c-b11a5d54f64e\")>,\n",
       " <selenium.webdriver.remote.webelement.WebElement (session=\"6a0733063b3ef0dd54bb2ea940099c26\", element=\"a5e0372a-5d14-4566-8b97-d01bf60dd21c\")>,\n",
       " <selenium.webdriver.remote.webelement.WebElement (session=\"6a0733063b3ef0dd54bb2ea940099c26\", element=\"735492bc-93e7-4793-93be-7773162e5c7d\")>,\n",
       " <selenium.webdriver.remote.webelement.WebElement (session=\"6a0733063b3ef0dd54bb2ea940099c26\", element=\"69bc25b2-c161-47e1-91b4-6a6b2d6e1a9f\")>,\n",
       " <selenium.webdriver.remote.webelement.WebElement (session=\"6a0733063b3ef0dd54bb2ea940099c26\", element=\"d4f2687b-d1f6-46af-9982-522d0288aada\")>,\n",
       " <selenium.webdriver.remote.webelement.WebElement (session=\"6a0733063b3ef0dd54bb2ea940099c26\", element=\"a5b41e1f-7483-4eb6-a6a5-0f9562823e66\")>,\n",
       " <selenium.webdriver.remote.webelement.WebElement (session=\"6a0733063b3ef0dd54bb2ea940099c26\", element=\"a9dbb3fb-7da4-4f02-ac0d-4335d56ba43c\")>,\n",
       " <selenium.webdriver.remote.webelement.WebElement (session=\"6a0733063b3ef0dd54bb2ea940099c26\", element=\"96fe9366-f49d-4f19-84fd-cc2d4b04eb87\")>,\n",
       " <selenium.webdriver.remote.webelement.WebElement (session=\"6a0733063b3ef0dd54bb2ea940099c26\", element=\"5dfdacc2-f93a-471b-9bb0-c2d24df097c5\")>,\n",
       " <selenium.webdriver.remote.webelement.WebElement (session=\"6a0733063b3ef0dd54bb2ea940099c26\", element=\"78e79d60-3730-4bcf-b45b-3b58662fb7ab\")>,\n",
       " <selenium.webdriver.remote.webelement.WebElement (session=\"6a0733063b3ef0dd54bb2ea940099c26\", element=\"6578a88a-4af5-4b36-a17c-8aa744c87de7\")>,\n",
       " <selenium.webdriver.remote.webelement.WebElement (session=\"6a0733063b3ef0dd54bb2ea940099c26\", element=\"08f5bb68-bf18-41da-9de7-59e7ab60796e\")>,\n",
       " <selenium.webdriver.remote.webelement.WebElement (session=\"6a0733063b3ef0dd54bb2ea940099c26\", element=\"54e176e6-dd9a-46c7-a895-aae4cbae1a54\")>,\n",
       " <selenium.webdriver.remote.webelement.WebElement (session=\"6a0733063b3ef0dd54bb2ea940099c26\", element=\"352565ed-d697-42b4-b227-5c7474089062\")>,\n",
       " <selenium.webdriver.remote.webelement.WebElement (session=\"6a0733063b3ef0dd54bb2ea940099c26\", element=\"5b56fc39-2448-4fc1-9ed9-9d5627021554\")>,\n",
       " <selenium.webdriver.remote.webelement.WebElement (session=\"6a0733063b3ef0dd54bb2ea940099c26\", element=\"b976405e-3dee-4b94-942a-f633b86baaaa\")>,\n",
       " <selenium.webdriver.remote.webelement.WebElement (session=\"6a0733063b3ef0dd54bb2ea940099c26\", element=\"8d1f23d3-7945-4a39-b5d0-80c540704b5e\")>,\n",
       " <selenium.webdriver.remote.webelement.WebElement (session=\"6a0733063b3ef0dd54bb2ea940099c26\", element=\"d7503f68-9aed-4b80-85eb-f25f1ce69b6e\")>,\n",
       " <selenium.webdriver.remote.webelement.WebElement (session=\"6a0733063b3ef0dd54bb2ea940099c26\", element=\"f64200f2-fae7-4654-8d63-97624c727213\")>,\n",
       " <selenium.webdriver.remote.webelement.WebElement (session=\"6a0733063b3ef0dd54bb2ea940099c26\", element=\"12bd0246-3de4-4e74-a64c-6c43e1250dea\")>,\n",
       " <selenium.webdriver.remote.webelement.WebElement (session=\"6a0733063b3ef0dd54bb2ea940099c26\", element=\"6f2790db-58fc-4e3f-9caa-99bdf55ec2f7\")>,\n",
       " <selenium.webdriver.remote.webelement.WebElement (session=\"6a0733063b3ef0dd54bb2ea940099c26\", element=\"9c36c2b0-5550-4760-ba89-dce57165539f\")>]"
      ]
     },
     "execution_count": 206,
     "metadata": {},
     "output_type": "execute_result"
    }
   ],
   "source": [
    "filter_button1"
   ]
  },
  {
   "cell_type": "code",
   "execution_count": 207,
   "metadata": {},
   "outputs": [],
   "source": [
    "for i in filter_button1:\n",
    "    if i.text=='Intel Core i9':\n",
    "        i.click()\n",
    "        break"
   ]
  },
  {
   "cell_type": "code",
   "execution_count": 210,
   "metadata": {},
   "outputs": [],
   "source": [
    "Title1=[]\n",
    "price1=[]\n",
    "Ratings1=[]\n",
    "titles1=driver10.find_elements_by_xpath(\"//span[@class='a-size-medium a-color-base a-text-normal']\")\n",
    "for i in titles1[:10]:\n",
    "    Title1.append(i.text)\n",
    "prices1=driver10.find_elements_by_xpath(\"//span[@class='a-price-whole']\")\n",
    "for i in prices1[:10]:\n",
    "    price1.append(i.text)\n",
    "urls1=driver10.find_elements_by_xpath(\"//a[@class='a-link-normal a-text-normal']\")\n",
    "UR1=[]\n",
    "for i in urls1[:10]:\n",
    "    UR1.append(i.get_attribute('href'))\n",
    "    \n",
    "for url1 in UR1:\n",
    "    driver10.get(url1)\n",
    "    try:                                                                     \n",
    "          \n",
    "            rating=driver10.find_element_by_xpath(\"//span[@class='a-size-base a-nowrap']//span\")\n",
    "            Ratings1.append(rating.text)\n",
    "    \n",
    "    except NoSuchElementException:\n",
    "         Ratings1.append(\"NO rating\")"
   ]
  },
  {
   "cell_type": "code",
   "execution_count": 211,
   "metadata": {},
   "outputs": [
    {
     "name": "stdout",
     "output_type": "stream",
     "text": [
      "9 8 9\n"
     ]
    }
   ],
   "source": [
    "print(len(Title1),len(price1),len(Ratings1))"
   ]
  },
  {
   "cell_type": "code",
   "execution_count": 214,
   "metadata": {},
   "outputs": [
    {
     "data": {
      "text/plain": [
       "['ASUS ZenBook Pro Duo Intel Core i9-10980HK 10th Gen 15.6\" 4K UHD OLED Touchscreen Laptop (32GB RAM/1TB NVMe SSD/Windows 10/6GB NVIDIA GeForce RTX 2060 Graphics/Celestial Blue/2.5 Kg), UX581LV-H2035T',\n",
       " 'Dell XPS 9570 15.6\" (39.62cms) UHD Laptop (8th Gen i9-8950HK/32GB/1TB SSD/Win 10 + MS Office/Integrated Graphics), Silver',\n",
       " 'Lenovo Legion 7 10th Gen Intel Core i9 15.6 inch Full HD Gaming Laptop (16GB/1TB SSD/Windows 10/MS Office 2019/144 Hz/NVIDIA RTX 2080 8GB GDDR6 Graphics/Slate Grey/2.25Kg), 81YU006HIN',\n",
       " 'ASUS ROG Zephyrus Duo 15, 15.6\" FHD 300Hz/3ms, Intel Core i9-10980HK 10th Gen, RTX 2080 SUPER Max-Q 8GB Graphic, Gaming Laptop (32GB/2TB RAID 0 SSD/Office 2019/Windows 10/Gray/2.4 Kg) GX550LXS-HF168TS',\n",
       " 'ASUS ROG Strix Scar 17 (2020), 17.3\" FHD 300Hz/3ms, Intel Core i9-10980HK 10th Gen, RTX 2080 Super GDDR6 8GB Graphics, Gaming Laptop (32GB/2TB RAID 0 SSD/Windows 10/Black/2.99 Kg), G732LXS-HG059T',\n",
       " 'ASUS ROG Strix Scar 15 (2020), 15.6\" FHD 300Hz/3ms, Intel Core i9-10980HK 10th Gen, RTX 2070 Super 8GB Graphics, Gaming Laptop (32GB RAM/1TB NVMe SSD/Windows 10/Black/2.35 Kg), G532LWS-HF079T',\n",
       " '(Renewed) Dell XPS 9570 Laptop|i9-8950HK|32GB DDR4|1TB SSD|15.6\" 4K Touch|NVIDIA GTX 1050Ti 4GB|Win 10 HSL|Backlit',\n",
       " 'Apple MacBook Pro (16-inch, 16GB RAM, 1TB Storage, 2.3GHz 9th Gen Intel Core i9) - Silver',\n",
       " 'HP Z4 Workstation, Intel Core i9-7900X, RAM 32GB (4x8GB), 2TB Hard Disk, GFX NVIDIA Quadro P2000 5GB (4) DP, Windows 10 Pro, DVDRW, 3 Yrs Onsite Warranty by HP']"
      ]
     },
     "execution_count": 214,
     "metadata": {},
     "output_type": "execute_result"
    }
   ],
   "source": [
    "Title1"
   ]
  },
  {
   "cell_type": "code",
   "execution_count": 215,
   "metadata": {},
   "outputs": [
    {
     "data": {
      "text/plain": [
       "['2,99,325',\n",
       " '2,48,790',\n",
       " '2,62,990',\n",
       " '2,66,990',\n",
       " '2,77,490',\n",
       " '2,15,990',\n",
       " '2,24,990',\n",
       " '2,69,900']"
      ]
     },
     "execution_count": 215,
     "metadata": {},
     "output_type": "execute_result"
    }
   ],
   "source": [
    "price1"
   ]
  },
  {
   "cell_type": "code",
   "execution_count": 216,
   "metadata": {},
   "outputs": [],
   "source": [
    "price1.insert(6,'-')"
   ]
  },
  {
   "cell_type": "code",
   "execution_count": 217,
   "metadata": {},
   "outputs": [
    {
     "data": {
      "text/plain": [
       "['2,99,325',\n",
       " '2,48,790',\n",
       " '2,62,990',\n",
       " '2,66,990',\n",
       " '2,77,490',\n",
       " '2,15,990',\n",
       " '-',\n",
       " '2,24,990',\n",
       " '2,69,900']"
      ]
     },
     "execution_count": 217,
     "metadata": {},
     "output_type": "execute_result"
    }
   ],
   "source": [
    "price1"
   ]
  },
  {
   "cell_type": "code",
   "execution_count": 229,
   "metadata": {},
   "outputs": [],
   "source": [
    "df1=pd.DataFrame({})\n",
    "df1['Title']=Title\n",
    "df1['price']=price\n",
    "df1['Ratings']=Ratings"
   ]
  },
  {
   "cell_type": "code",
   "execution_count": 230,
   "metadata": {},
   "outputs": [
    {
     "data": {
      "text/html": [
       "<div>\n",
       "<style scoped>\n",
       "    .dataframe tbody tr th:only-of-type {\n",
       "        vertical-align: middle;\n",
       "    }\n",
       "\n",
       "    .dataframe tbody tr th {\n",
       "        vertical-align: top;\n",
       "    }\n",
       "\n",
       "    .dataframe thead th {\n",
       "        text-align: right;\n",
       "    }\n",
       "</style>\n",
       "<table border=\"1\" class=\"dataframe\">\n",
       "  <thead>\n",
       "    <tr style=\"text-align: right;\">\n",
       "      <th></th>\n",
       "      <th>Title</th>\n",
       "      <th>price</th>\n",
       "      <th>Ratings</th>\n",
       "    </tr>\n",
       "  </thead>\n",
       "  <tbody>\n",
       "    <tr>\n",
       "      <th>0</th>\n",
       "      <td>(Renewed) HP EliteBook 840 G3 Laptop (Core i7 ...</td>\n",
       "      <td>44,999</td>\n",
       "      <td>NO rating</td>\n",
       "    </tr>\n",
       "    <tr>\n",
       "      <th>1</th>\n",
       "      <td>Mi Notebook Horizon Edition 14 Intel Core i5-1...</td>\n",
       "      <td>49,999</td>\n",
       "      <td>4.4 out of 5</td>\n",
       "    </tr>\n",
       "    <tr>\n",
       "      <th>2</th>\n",
       "      <td>HP 2019 Probook 440 G6 14 Inch HD Business Lap...</td>\n",
       "      <td>1,35,386</td>\n",
       "      <td>5 out of 5</td>\n",
       "    </tr>\n",
       "    <tr>\n",
       "      <th>3</th>\n",
       "      <td>Asus ROG Zephyrus S Ultra Slim Gaming Laptop, ...</td>\n",
       "      <td>3,43,099</td>\n",
       "      <td>4.3 out of 5</td>\n",
       "    </tr>\n",
       "    <tr>\n",
       "      <th>4</th>\n",
       "      <td>(Renewed) Dell Intel 4th Gen Core i7 4600U 14-...</td>\n",
       "      <td>39,999</td>\n",
       "      <td>NO rating</td>\n",
       "    </tr>\n",
       "    <tr>\n",
       "      <th>5</th>\n",
       "      <td>Lenovo Legion 5Pi 10th Gen Intel Core i7 15.6\"...</td>\n",
       "      <td>1,35,490</td>\n",
       "      <td>4.3 out of 5</td>\n",
       "    </tr>\n",
       "    <tr>\n",
       "      <th>6</th>\n",
       "      <td>Lenovo Yoga Slim 7i 11th Gen Intel Core i7 14\"...</td>\n",
       "      <td>97,990</td>\n",
       "      <td>NO rating</td>\n",
       "    </tr>\n",
       "    <tr>\n",
       "      <th>7</th>\n",
       "      <td>ASUS VivoBook S S14 Intel Core i7-1165G7 11th ...</td>\n",
       "      <td>79,980</td>\n",
       "      <td>4.4 out of 5</td>\n",
       "    </tr>\n",
       "    <tr>\n",
       "      <th>8</th>\n",
       "      <td>Lenovo IdeaPad Flex 5 11th Gen Intel Core i7 1...</td>\n",
       "      <td>96,000</td>\n",
       "      <td>4 out of 5</td>\n",
       "    </tr>\n",
       "    <tr>\n",
       "      <th>9</th>\n",
       "      <td>Life Digital Laptop 15.6-inch (39.62 cms) (Int...</td>\n",
       "      <td>47,050</td>\n",
       "      <td>2.9 out of 5</td>\n",
       "    </tr>\n",
       "  </tbody>\n",
       "</table>\n",
       "</div>"
      ],
      "text/plain": [
       "                                               Title     price       Ratings\n",
       "0  (Renewed) HP EliteBook 840 G3 Laptop (Core i7 ...    44,999     NO rating\n",
       "1  Mi Notebook Horizon Edition 14 Intel Core i5-1...    49,999  4.4 out of 5\n",
       "2  HP 2019 Probook 440 G6 14 Inch HD Business Lap...  1,35,386    5 out of 5\n",
       "3  Asus ROG Zephyrus S Ultra Slim Gaming Laptop, ...  3,43,099  4.3 out of 5\n",
       "4  (Renewed) Dell Intel 4th Gen Core i7 4600U 14-...    39,999     NO rating\n",
       "5  Lenovo Legion 5Pi 10th Gen Intel Core i7 15.6\"...  1,35,490  4.3 out of 5\n",
       "6  Lenovo Yoga Slim 7i 11th Gen Intel Core i7 14\"...    97,990     NO rating\n",
       "7  ASUS VivoBook S S14 Intel Core i7-1165G7 11th ...    79,980  4.4 out of 5\n",
       "8  Lenovo IdeaPad Flex 5 11th Gen Intel Core i7 1...    96,000    4 out of 5\n",
       "9  Life Digital Laptop 15.6-inch (39.62 cms) (Int...    47,050  2.9 out of 5"
      ]
     },
     "execution_count": 230,
     "metadata": {},
     "output_type": "execute_result"
    }
   ],
   "source": [
    "df1"
   ]
  },
  {
   "cell_type": "code",
   "execution_count": 231,
   "metadata": {},
   "outputs": [],
   "source": [
    "df2=pd.DataFrame({})\n",
    "df2['Title']=Title1\n",
    "df2['price']=price1\n",
    "df2['Ratings']=Ratings1"
   ]
  },
  {
   "cell_type": "code",
   "execution_count": 232,
   "metadata": {},
   "outputs": [
    {
     "data": {
      "text/html": [
       "<div>\n",
       "<style scoped>\n",
       "    .dataframe tbody tr th:only-of-type {\n",
       "        vertical-align: middle;\n",
       "    }\n",
       "\n",
       "    .dataframe tbody tr th {\n",
       "        vertical-align: top;\n",
       "    }\n",
       "\n",
       "    .dataframe thead th {\n",
       "        text-align: right;\n",
       "    }\n",
       "</style>\n",
       "<table border=\"1\" class=\"dataframe\">\n",
       "  <thead>\n",
       "    <tr style=\"text-align: right;\">\n",
       "      <th></th>\n",
       "      <th>Title</th>\n",
       "      <th>price</th>\n",
       "      <th>Ratings</th>\n",
       "    </tr>\n",
       "  </thead>\n",
       "  <tbody>\n",
       "    <tr>\n",
       "      <th>0</th>\n",
       "      <td>ASUS ZenBook Pro Duo Intel Core i9-10980HK 10t...</td>\n",
       "      <td>2,99,325</td>\n",
       "      <td>3.8 out of 5</td>\n",
       "    </tr>\n",
       "    <tr>\n",
       "      <th>1</th>\n",
       "      <td>Dell XPS 9570 15.6\" (39.62cms) UHD Laptop (8th...</td>\n",
       "      <td>2,48,790</td>\n",
       "      <td>2.4 out of 5</td>\n",
       "    </tr>\n",
       "    <tr>\n",
       "      <th>2</th>\n",
       "      <td>Lenovo Legion 7 10th Gen Intel Core i9 15.6 in...</td>\n",
       "      <td>2,62,990</td>\n",
       "      <td>3.7 out of 5</td>\n",
       "    </tr>\n",
       "    <tr>\n",
       "      <th>3</th>\n",
       "      <td>ASUS ROG Zephyrus Duo 15, 15.6\" FHD 300Hz/3ms,...</td>\n",
       "      <td>2,66,990</td>\n",
       "      <td>NO rating</td>\n",
       "    </tr>\n",
       "    <tr>\n",
       "      <th>4</th>\n",
       "      <td>ASUS ROG Strix Scar 17 (2020), 17.3\" FHD 300Hz...</td>\n",
       "      <td>2,77,490</td>\n",
       "      <td>4.8 out of 5</td>\n",
       "    </tr>\n",
       "    <tr>\n",
       "      <th>5</th>\n",
       "      <td>ASUS ROG Strix Scar 15 (2020), 15.6\" FHD 300Hz...</td>\n",
       "      <td>2,15,990</td>\n",
       "      <td>4.2 out of 5</td>\n",
       "    </tr>\n",
       "    <tr>\n",
       "      <th>6</th>\n",
       "      <td>(Renewed) Dell XPS 9570 Laptop|i9-8950HK|32GB ...</td>\n",
       "      <td>-</td>\n",
       "      <td>NO rating</td>\n",
       "    </tr>\n",
       "    <tr>\n",
       "      <th>7</th>\n",
       "      <td>Apple MacBook Pro (16-inch, 16GB RAM, 1TB Stor...</td>\n",
       "      <td>2,24,990</td>\n",
       "      <td>4.2 out of 5</td>\n",
       "    </tr>\n",
       "    <tr>\n",
       "      <th>8</th>\n",
       "      <td>HP Z4 Workstation, Intel Core i9-7900X, RAM 32...</td>\n",
       "      <td>2,69,900</td>\n",
       "      <td>5 out of 5</td>\n",
       "    </tr>\n",
       "  </tbody>\n",
       "</table>\n",
       "</div>"
      ],
      "text/plain": [
       "                                               Title     price       Ratings\n",
       "0  ASUS ZenBook Pro Duo Intel Core i9-10980HK 10t...  2,99,325  3.8 out of 5\n",
       "1  Dell XPS 9570 15.6\" (39.62cms) UHD Laptop (8th...  2,48,790  2.4 out of 5\n",
       "2  Lenovo Legion 7 10th Gen Intel Core i9 15.6 in...  2,62,990  3.7 out of 5\n",
       "3  ASUS ROG Zephyrus Duo 15, 15.6\" FHD 300Hz/3ms,...  2,66,990     NO rating\n",
       "4  ASUS ROG Strix Scar 17 (2020), 17.3\" FHD 300Hz...  2,77,490  4.8 out of 5\n",
       "5  ASUS ROG Strix Scar 15 (2020), 15.6\" FHD 300Hz...  2,15,990  4.2 out of 5\n",
       "6  (Renewed) Dell XPS 9570 Laptop|i9-8950HK|32GB ...         -     NO rating\n",
       "7  Apple MacBook Pro (16-inch, 16GB RAM, 1TB Stor...  2,24,990  4.2 out of 5\n",
       "8  HP Z4 Workstation, Intel Core i9-7900X, RAM 32...  2,69,900    5 out of 5"
      ]
     },
     "execution_count": 232,
     "metadata": {},
     "output_type": "execute_result"
    }
   ],
   "source": [
    "df2"
   ]
  },
  {
   "cell_type": "code",
   "execution_count": 235,
   "metadata": {},
   "outputs": [
    {
     "data": {
      "text/html": [
       "<div>\n",
       "<style scoped>\n",
       "    .dataframe tbody tr th:only-of-type {\n",
       "        vertical-align: middle;\n",
       "    }\n",
       "\n",
       "    .dataframe tbody tr th {\n",
       "        vertical-align: top;\n",
       "    }\n",
       "\n",
       "    .dataframe thead th {\n",
       "        text-align: right;\n",
       "    }\n",
       "</style>\n",
       "<table border=\"1\" class=\"dataframe\">\n",
       "  <thead>\n",
       "    <tr style=\"text-align: right;\">\n",
       "      <th></th>\n",
       "      <th>Title</th>\n",
       "      <th>price</th>\n",
       "      <th>Ratings</th>\n",
       "    </tr>\n",
       "  </thead>\n",
       "  <tbody>\n",
       "    <tr>\n",
       "      <th>0</th>\n",
       "      <td>ASUS ZenBook Pro Duo Intel Core i9-10980HK 10t...</td>\n",
       "      <td>2,99,325</td>\n",
       "      <td>3.8 out of 5</td>\n",
       "    </tr>\n",
       "    <tr>\n",
       "      <th>1</th>\n",
       "      <td>Dell XPS 9570 15.6\" (39.62cms) UHD Laptop (8th...</td>\n",
       "      <td>2,48,790</td>\n",
       "      <td>2.4 out of 5</td>\n",
       "    </tr>\n",
       "    <tr>\n",
       "      <th>2</th>\n",
       "      <td>Lenovo Legion 7 10th Gen Intel Core i9 15.6 in...</td>\n",
       "      <td>2,62,990</td>\n",
       "      <td>3.7 out of 5</td>\n",
       "    </tr>\n",
       "    <tr>\n",
       "      <th>3</th>\n",
       "      <td>ASUS ROG Zephyrus Duo 15, 15.6\" FHD 300Hz/3ms,...</td>\n",
       "      <td>2,66,990</td>\n",
       "      <td>NO rating</td>\n",
       "    </tr>\n",
       "    <tr>\n",
       "      <th>4</th>\n",
       "      <td>ASUS ROG Strix Scar 17 (2020), 17.3\" FHD 300Hz...</td>\n",
       "      <td>2,77,490</td>\n",
       "      <td>4.8 out of 5</td>\n",
       "    </tr>\n",
       "    <tr>\n",
       "      <th>5</th>\n",
       "      <td>ASUS ROG Strix Scar 15 (2020), 15.6\" FHD 300Hz...</td>\n",
       "      <td>2,15,990</td>\n",
       "      <td>4.2 out of 5</td>\n",
       "    </tr>\n",
       "    <tr>\n",
       "      <th>6</th>\n",
       "      <td>(Renewed) Dell XPS 9570 Laptop|i9-8950HK|32GB ...</td>\n",
       "      <td>-</td>\n",
       "      <td>NO rating</td>\n",
       "    </tr>\n",
       "    <tr>\n",
       "      <th>7</th>\n",
       "      <td>Apple MacBook Pro (16-inch, 16GB RAM, 1TB Stor...</td>\n",
       "      <td>2,24,990</td>\n",
       "      <td>4.2 out of 5</td>\n",
       "    </tr>\n",
       "    <tr>\n",
       "      <th>8</th>\n",
       "      <td>HP Z4 Workstation, Intel Core i9-7900X, RAM 32...</td>\n",
       "      <td>2,69,900</td>\n",
       "      <td>5 out of 5</td>\n",
       "    </tr>\n",
       "    <tr>\n",
       "      <th>9</th>\n",
       "      <td>(Renewed) HP EliteBook 840 G3 Laptop (Core i7 ...</td>\n",
       "      <td>44,999</td>\n",
       "      <td>NO rating</td>\n",
       "    </tr>\n",
       "    <tr>\n",
       "      <th>10</th>\n",
       "      <td>Mi Notebook Horizon Edition 14 Intel Core i5-1...</td>\n",
       "      <td>49,999</td>\n",
       "      <td>4.4 out of 5</td>\n",
       "    </tr>\n",
       "    <tr>\n",
       "      <th>11</th>\n",
       "      <td>HP 2019 Probook 440 G6 14 Inch HD Business Lap...</td>\n",
       "      <td>1,35,386</td>\n",
       "      <td>5 out of 5</td>\n",
       "    </tr>\n",
       "    <tr>\n",
       "      <th>12</th>\n",
       "      <td>Asus ROG Zephyrus S Ultra Slim Gaming Laptop, ...</td>\n",
       "      <td>3,43,099</td>\n",
       "      <td>4.3 out of 5</td>\n",
       "    </tr>\n",
       "    <tr>\n",
       "      <th>13</th>\n",
       "      <td>(Renewed) Dell Intel 4th Gen Core i7 4600U 14-...</td>\n",
       "      <td>39,999</td>\n",
       "      <td>NO rating</td>\n",
       "    </tr>\n",
       "    <tr>\n",
       "      <th>14</th>\n",
       "      <td>Lenovo Legion 5Pi 10th Gen Intel Core i7 15.6\"...</td>\n",
       "      <td>1,35,490</td>\n",
       "      <td>4.3 out of 5</td>\n",
       "    </tr>\n",
       "    <tr>\n",
       "      <th>15</th>\n",
       "      <td>Lenovo Yoga Slim 7i 11th Gen Intel Core i7 14\"...</td>\n",
       "      <td>97,990</td>\n",
       "      <td>NO rating</td>\n",
       "    </tr>\n",
       "    <tr>\n",
       "      <th>16</th>\n",
       "      <td>ASUS VivoBook S S14 Intel Core i7-1165G7 11th ...</td>\n",
       "      <td>79,980</td>\n",
       "      <td>4.4 out of 5</td>\n",
       "    </tr>\n",
       "    <tr>\n",
       "      <th>17</th>\n",
       "      <td>Lenovo IdeaPad Flex 5 11th Gen Intel Core i7 1...</td>\n",
       "      <td>96,000</td>\n",
       "      <td>4 out of 5</td>\n",
       "    </tr>\n",
       "    <tr>\n",
       "      <th>18</th>\n",
       "      <td>Life Digital Laptop 15.6-inch (39.62 cms) (Int...</td>\n",
       "      <td>47,050</td>\n",
       "      <td>2.9 out of 5</td>\n",
       "    </tr>\n",
       "  </tbody>\n",
       "</table>\n",
       "</div>"
      ],
      "text/plain": [
       "                                                Title     price       Ratings\n",
       "0   ASUS ZenBook Pro Duo Intel Core i9-10980HK 10t...  2,99,325  3.8 out of 5\n",
       "1   Dell XPS 9570 15.6\" (39.62cms) UHD Laptop (8th...  2,48,790  2.4 out of 5\n",
       "2   Lenovo Legion 7 10th Gen Intel Core i9 15.6 in...  2,62,990  3.7 out of 5\n",
       "3   ASUS ROG Zephyrus Duo 15, 15.6\" FHD 300Hz/3ms,...  2,66,990     NO rating\n",
       "4   ASUS ROG Strix Scar 17 (2020), 17.3\" FHD 300Hz...  2,77,490  4.8 out of 5\n",
       "5   ASUS ROG Strix Scar 15 (2020), 15.6\" FHD 300Hz...  2,15,990  4.2 out of 5\n",
       "6   (Renewed) Dell XPS 9570 Laptop|i9-8950HK|32GB ...         -     NO rating\n",
       "7   Apple MacBook Pro (16-inch, 16GB RAM, 1TB Stor...  2,24,990  4.2 out of 5\n",
       "8   HP Z4 Workstation, Intel Core i9-7900X, RAM 32...  2,69,900    5 out of 5\n",
       "9   (Renewed) HP EliteBook 840 G3 Laptop (Core i7 ...    44,999     NO rating\n",
       "10  Mi Notebook Horizon Edition 14 Intel Core i5-1...    49,999  4.4 out of 5\n",
       "11  HP 2019 Probook 440 G6 14 Inch HD Business Lap...  1,35,386    5 out of 5\n",
       "12  Asus ROG Zephyrus S Ultra Slim Gaming Laptop, ...  3,43,099  4.3 out of 5\n",
       "13  (Renewed) Dell Intel 4th Gen Core i7 4600U 14-...    39,999     NO rating\n",
       "14  Lenovo Legion 5Pi 10th Gen Intel Core i7 15.6\"...  1,35,490  4.3 out of 5\n",
       "15  Lenovo Yoga Slim 7i 11th Gen Intel Core i7 14\"...    97,990     NO rating\n",
       "16  ASUS VivoBook S S14 Intel Core i7-1165G7 11th ...    79,980  4.4 out of 5\n",
       "17  Lenovo IdeaPad Flex 5 11th Gen Intel Core i7 1...    96,000    4 out of 5\n",
       "18  Life Digital Laptop 15.6-inch (39.62 cms) (Int...    47,050  2.9 out of 5"
      ]
     },
     "execution_count": 235,
     "metadata": {},
     "output_type": "execute_result"
    }
   ],
   "source": [
    "df2.append(df1,ignore_index=True)"
   ]
  },
  {
   "cell_type": "markdown",
   "metadata": {},
   "source": [
    "# Question 10 Completed."
   ]
  },
  {
   "cell_type": "code",
   "execution_count": null,
   "metadata": {},
   "outputs": [],
   "source": []
  }
 ],
 "metadata": {
  "kernelspec": {
   "display_name": "Python 3",
   "language": "python",
   "name": "python3"
  },
  "language_info": {
   "codemirror_mode": {
    "name": "ipython",
    "version": 3
   },
   "file_extension": ".py",
   "mimetype": "text/x-python",
   "name": "python",
   "nbconvert_exporter": "python",
   "pygments_lexer": "ipython3",
   "version": "3.8.5"
  }
 },
 "nbformat": 4,
 "nbformat_minor": 4
}
